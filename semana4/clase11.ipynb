{
  "nbformat": 4,
  "nbformat_minor": 0,
  "metadata": {
    "colab": {
      "name": "clase11.ipynb",
      "provenance": [],
      "collapsed_sections": [],
      "mount_file_id": "1GTiI2wz75wphSOMB4vN4LlM5pFv36Z9S",
      "authorship_tag": "ABX9TyNLuQfAILgac4bG5hI7dbrA",
      "include_colab_link": true
    },
    "kernelspec": {
      "name": "python3",
      "display_name": "Python 3"
    },
    "language_info": {
      "name": "python"
    },
    "widgets": {
      "application/vnd.jupyter.widget-state+json": {
        "25e30b67cb3f40fbbfa7cafd63061331": {
          "model_module": "@jupyter-widgets/controls",
          "model_name": "HBoxModel",
          "model_module_version": "1.5.0",
          "state": {
            "_view_name": "HBoxView",
            "_dom_classes": [],
            "_model_name": "HBoxModel",
            "_view_module": "@jupyter-widgets/controls",
            "_model_module_version": "1.5.0",
            "_view_count": null,
            "_view_module_version": "1.5.0",
            "box_style": "",
            "layout": "IPY_MODEL_6b3af0b0653e4c14929538aa9cdfb194",
            "_model_module": "@jupyter-widgets/controls",
            "children": [
              "IPY_MODEL_7dea1a553c9d40119ac8e53623c6dd57",
              "IPY_MODEL_ea5deee17c9949d39febffe8bde22b3b",
              "IPY_MODEL_04f88cf11c0b4b21b4797cf9cb5196a2"
            ]
          }
        },
        "6b3af0b0653e4c14929538aa9cdfb194": {
          "model_module": "@jupyter-widgets/base",
          "model_name": "LayoutModel",
          "model_module_version": "1.2.0",
          "state": {
            "_view_name": "LayoutView",
            "grid_template_rows": null,
            "right": null,
            "justify_content": null,
            "_view_module": "@jupyter-widgets/base",
            "overflow": null,
            "_model_module_version": "1.2.0",
            "_view_count": null,
            "flex_flow": null,
            "width": null,
            "min_width": null,
            "border": null,
            "align_items": null,
            "bottom": null,
            "_model_module": "@jupyter-widgets/base",
            "top": null,
            "grid_column": null,
            "overflow_y": null,
            "overflow_x": null,
            "grid_auto_flow": null,
            "grid_area": null,
            "grid_template_columns": null,
            "flex": null,
            "_model_name": "LayoutModel",
            "justify_items": null,
            "grid_row": null,
            "max_height": null,
            "align_content": null,
            "visibility": null,
            "align_self": null,
            "height": null,
            "min_height": null,
            "padding": null,
            "grid_auto_rows": null,
            "grid_gap": null,
            "max_width": null,
            "order": null,
            "_view_module_version": "1.2.0",
            "grid_template_areas": null,
            "object_position": null,
            "object_fit": null,
            "grid_auto_columns": null,
            "margin": null,
            "display": null,
            "left": null
          }
        },
        "7dea1a553c9d40119ac8e53623c6dd57": {
          "model_module": "@jupyter-widgets/controls",
          "model_name": "HTMLModel",
          "model_module_version": "1.5.0",
          "state": {
            "_view_name": "HTMLView",
            "style": "IPY_MODEL_6dfef277c47b41bdbb4cd8f5e5f32b90",
            "_dom_classes": [],
            "description": "",
            "_model_name": "HTMLModel",
            "placeholder": "​",
            "_view_module": "@jupyter-widgets/controls",
            "_model_module_version": "1.5.0",
            "value": "",
            "_view_count": null,
            "_view_module_version": "1.5.0",
            "description_tooltip": null,
            "_model_module": "@jupyter-widgets/controls",
            "layout": "IPY_MODEL_4afbb372608847a9b8321d26c9232834"
          }
        },
        "ea5deee17c9949d39febffe8bde22b3b": {
          "model_module": "@jupyter-widgets/controls",
          "model_name": "FloatProgressModel",
          "model_module_version": "1.5.0",
          "state": {
            "_view_name": "ProgressView",
            "style": "IPY_MODEL_da8ca156c1144fe680a210f258b23be2",
            "_dom_classes": [],
            "description": "",
            "_model_name": "FloatProgressModel",
            "bar_style": "success",
            "max": 9912422,
            "_view_module": "@jupyter-widgets/controls",
            "_model_module_version": "1.5.0",
            "value": 9912422,
            "_view_count": null,
            "_view_module_version": "1.5.0",
            "orientation": "horizontal",
            "min": 0,
            "description_tooltip": null,
            "_model_module": "@jupyter-widgets/controls",
            "layout": "IPY_MODEL_863dd37035d54cd1907341c16508b06e"
          }
        },
        "04f88cf11c0b4b21b4797cf9cb5196a2": {
          "model_module": "@jupyter-widgets/controls",
          "model_name": "HTMLModel",
          "model_module_version": "1.5.0",
          "state": {
            "_view_name": "HTMLView",
            "style": "IPY_MODEL_bec02f1ed0a242598183469f484a4e52",
            "_dom_classes": [],
            "description": "",
            "_model_name": "HTMLModel",
            "placeholder": "​",
            "_view_module": "@jupyter-widgets/controls",
            "_model_module_version": "1.5.0",
            "value": " 9913344/? [00:00&lt;00:00, 48929660.75it/s]",
            "_view_count": null,
            "_view_module_version": "1.5.0",
            "description_tooltip": null,
            "_model_module": "@jupyter-widgets/controls",
            "layout": "IPY_MODEL_a83ae325282e45fd8a8fac74c2dfb20c"
          }
        },
        "6dfef277c47b41bdbb4cd8f5e5f32b90": {
          "model_module": "@jupyter-widgets/controls",
          "model_name": "DescriptionStyleModel",
          "model_module_version": "1.5.0",
          "state": {
            "_view_name": "StyleView",
            "_model_name": "DescriptionStyleModel",
            "description_width": "",
            "_view_module": "@jupyter-widgets/base",
            "_model_module_version": "1.5.0",
            "_view_count": null,
            "_view_module_version": "1.2.0",
            "_model_module": "@jupyter-widgets/controls"
          }
        },
        "4afbb372608847a9b8321d26c9232834": {
          "model_module": "@jupyter-widgets/base",
          "model_name": "LayoutModel",
          "model_module_version": "1.2.0",
          "state": {
            "_view_name": "LayoutView",
            "grid_template_rows": null,
            "right": null,
            "justify_content": null,
            "_view_module": "@jupyter-widgets/base",
            "overflow": null,
            "_model_module_version": "1.2.0",
            "_view_count": null,
            "flex_flow": null,
            "width": null,
            "min_width": null,
            "border": null,
            "align_items": null,
            "bottom": null,
            "_model_module": "@jupyter-widgets/base",
            "top": null,
            "grid_column": null,
            "overflow_y": null,
            "overflow_x": null,
            "grid_auto_flow": null,
            "grid_area": null,
            "grid_template_columns": null,
            "flex": null,
            "_model_name": "LayoutModel",
            "justify_items": null,
            "grid_row": null,
            "max_height": null,
            "align_content": null,
            "visibility": null,
            "align_self": null,
            "height": null,
            "min_height": null,
            "padding": null,
            "grid_auto_rows": null,
            "grid_gap": null,
            "max_width": null,
            "order": null,
            "_view_module_version": "1.2.0",
            "grid_template_areas": null,
            "object_position": null,
            "object_fit": null,
            "grid_auto_columns": null,
            "margin": null,
            "display": null,
            "left": null
          }
        },
        "da8ca156c1144fe680a210f258b23be2": {
          "model_module": "@jupyter-widgets/controls",
          "model_name": "ProgressStyleModel",
          "model_module_version": "1.5.0",
          "state": {
            "_view_name": "StyleView",
            "_model_name": "ProgressStyleModel",
            "description_width": "",
            "_view_module": "@jupyter-widgets/base",
            "_model_module_version": "1.5.0",
            "_view_count": null,
            "_view_module_version": "1.2.0",
            "bar_color": null,
            "_model_module": "@jupyter-widgets/controls"
          }
        },
        "863dd37035d54cd1907341c16508b06e": {
          "model_module": "@jupyter-widgets/base",
          "model_name": "LayoutModel",
          "model_module_version": "1.2.0",
          "state": {
            "_view_name": "LayoutView",
            "grid_template_rows": null,
            "right": null,
            "justify_content": null,
            "_view_module": "@jupyter-widgets/base",
            "overflow": null,
            "_model_module_version": "1.2.0",
            "_view_count": null,
            "flex_flow": null,
            "width": null,
            "min_width": null,
            "border": null,
            "align_items": null,
            "bottom": null,
            "_model_module": "@jupyter-widgets/base",
            "top": null,
            "grid_column": null,
            "overflow_y": null,
            "overflow_x": null,
            "grid_auto_flow": null,
            "grid_area": null,
            "grid_template_columns": null,
            "flex": null,
            "_model_name": "LayoutModel",
            "justify_items": null,
            "grid_row": null,
            "max_height": null,
            "align_content": null,
            "visibility": null,
            "align_self": null,
            "height": null,
            "min_height": null,
            "padding": null,
            "grid_auto_rows": null,
            "grid_gap": null,
            "max_width": null,
            "order": null,
            "_view_module_version": "1.2.0",
            "grid_template_areas": null,
            "object_position": null,
            "object_fit": null,
            "grid_auto_columns": null,
            "margin": null,
            "display": null,
            "left": null
          }
        },
        "bec02f1ed0a242598183469f484a4e52": {
          "model_module": "@jupyter-widgets/controls",
          "model_name": "DescriptionStyleModel",
          "model_module_version": "1.5.0",
          "state": {
            "_view_name": "StyleView",
            "_model_name": "DescriptionStyleModel",
            "description_width": "",
            "_view_module": "@jupyter-widgets/base",
            "_model_module_version": "1.5.0",
            "_view_count": null,
            "_view_module_version": "1.2.0",
            "_model_module": "@jupyter-widgets/controls"
          }
        },
        "a83ae325282e45fd8a8fac74c2dfb20c": {
          "model_module": "@jupyter-widgets/base",
          "model_name": "LayoutModel",
          "model_module_version": "1.2.0",
          "state": {
            "_view_name": "LayoutView",
            "grid_template_rows": null,
            "right": null,
            "justify_content": null,
            "_view_module": "@jupyter-widgets/base",
            "overflow": null,
            "_model_module_version": "1.2.0",
            "_view_count": null,
            "flex_flow": null,
            "width": null,
            "min_width": null,
            "border": null,
            "align_items": null,
            "bottom": null,
            "_model_module": "@jupyter-widgets/base",
            "top": null,
            "grid_column": null,
            "overflow_y": null,
            "overflow_x": null,
            "grid_auto_flow": null,
            "grid_area": null,
            "grid_template_columns": null,
            "flex": null,
            "_model_name": "LayoutModel",
            "justify_items": null,
            "grid_row": null,
            "max_height": null,
            "align_content": null,
            "visibility": null,
            "align_self": null,
            "height": null,
            "min_height": null,
            "padding": null,
            "grid_auto_rows": null,
            "grid_gap": null,
            "max_width": null,
            "order": null,
            "_view_module_version": "1.2.0",
            "grid_template_areas": null,
            "object_position": null,
            "object_fit": null,
            "grid_auto_columns": null,
            "margin": null,
            "display": null,
            "left": null
          }
        },
        "66df155c05bc475392850b1b5cbc230e": {
          "model_module": "@jupyter-widgets/controls",
          "model_name": "HBoxModel",
          "model_module_version": "1.5.0",
          "state": {
            "_view_name": "HBoxView",
            "_dom_classes": [],
            "_model_name": "HBoxModel",
            "_view_module": "@jupyter-widgets/controls",
            "_model_module_version": "1.5.0",
            "_view_count": null,
            "_view_module_version": "1.5.0",
            "box_style": "",
            "layout": "IPY_MODEL_cdb873182ef347b68e461355656ec0b7",
            "_model_module": "@jupyter-widgets/controls",
            "children": [
              "IPY_MODEL_63a483d3da5e4a038182aa6656586fc2",
              "IPY_MODEL_a34f0fa6b90344c2b73d9606582ebecd",
              "IPY_MODEL_e1b10d492f74489889dfbae2ddecc2a2"
            ]
          }
        },
        "cdb873182ef347b68e461355656ec0b7": {
          "model_module": "@jupyter-widgets/base",
          "model_name": "LayoutModel",
          "model_module_version": "1.2.0",
          "state": {
            "_view_name": "LayoutView",
            "grid_template_rows": null,
            "right": null,
            "justify_content": null,
            "_view_module": "@jupyter-widgets/base",
            "overflow": null,
            "_model_module_version": "1.2.0",
            "_view_count": null,
            "flex_flow": null,
            "width": null,
            "min_width": null,
            "border": null,
            "align_items": null,
            "bottom": null,
            "_model_module": "@jupyter-widgets/base",
            "top": null,
            "grid_column": null,
            "overflow_y": null,
            "overflow_x": null,
            "grid_auto_flow": null,
            "grid_area": null,
            "grid_template_columns": null,
            "flex": null,
            "_model_name": "LayoutModel",
            "justify_items": null,
            "grid_row": null,
            "max_height": null,
            "align_content": null,
            "visibility": null,
            "align_self": null,
            "height": null,
            "min_height": null,
            "padding": null,
            "grid_auto_rows": null,
            "grid_gap": null,
            "max_width": null,
            "order": null,
            "_view_module_version": "1.2.0",
            "grid_template_areas": null,
            "object_position": null,
            "object_fit": null,
            "grid_auto_columns": null,
            "margin": null,
            "display": null,
            "left": null
          }
        },
        "63a483d3da5e4a038182aa6656586fc2": {
          "model_module": "@jupyter-widgets/controls",
          "model_name": "HTMLModel",
          "model_module_version": "1.5.0",
          "state": {
            "_view_name": "HTMLView",
            "style": "IPY_MODEL_e7449a172a114fc9aaf654a34ca93ae3",
            "_dom_classes": [],
            "description": "",
            "_model_name": "HTMLModel",
            "placeholder": "​",
            "_view_module": "@jupyter-widgets/controls",
            "_model_module_version": "1.5.0",
            "value": "",
            "_view_count": null,
            "_view_module_version": "1.5.0",
            "description_tooltip": null,
            "_model_module": "@jupyter-widgets/controls",
            "layout": "IPY_MODEL_aec1af551760482e940fae3bf4fc05df"
          }
        },
        "a34f0fa6b90344c2b73d9606582ebecd": {
          "model_module": "@jupyter-widgets/controls",
          "model_name": "FloatProgressModel",
          "model_module_version": "1.5.0",
          "state": {
            "_view_name": "ProgressView",
            "style": "IPY_MODEL_3ddb0e89f8294eb491e59d07323c1798",
            "_dom_classes": [],
            "description": "",
            "_model_name": "FloatProgressModel",
            "bar_style": "success",
            "max": 28881,
            "_view_module": "@jupyter-widgets/controls",
            "_model_module_version": "1.5.0",
            "value": 28881,
            "_view_count": null,
            "_view_module_version": "1.5.0",
            "orientation": "horizontal",
            "min": 0,
            "description_tooltip": null,
            "_model_module": "@jupyter-widgets/controls",
            "layout": "IPY_MODEL_97c1cf16e6574452838e823d956913ac"
          }
        },
        "e1b10d492f74489889dfbae2ddecc2a2": {
          "model_module": "@jupyter-widgets/controls",
          "model_name": "HTMLModel",
          "model_module_version": "1.5.0",
          "state": {
            "_view_name": "HTMLView",
            "style": "IPY_MODEL_9714f7af0b434ab4a63fe69a514a22dc",
            "_dom_classes": [],
            "description": "",
            "_model_name": "HTMLModel",
            "placeholder": "​",
            "_view_module": "@jupyter-widgets/controls",
            "_model_module_version": "1.5.0",
            "value": " 29696/? [00:00&lt;00:00, 479975.23it/s]",
            "_view_count": null,
            "_view_module_version": "1.5.0",
            "description_tooltip": null,
            "_model_module": "@jupyter-widgets/controls",
            "layout": "IPY_MODEL_16c84d565d234b89bdd9dfff1f7cef75"
          }
        },
        "e7449a172a114fc9aaf654a34ca93ae3": {
          "model_module": "@jupyter-widgets/controls",
          "model_name": "DescriptionStyleModel",
          "model_module_version": "1.5.0",
          "state": {
            "_view_name": "StyleView",
            "_model_name": "DescriptionStyleModel",
            "description_width": "",
            "_view_module": "@jupyter-widgets/base",
            "_model_module_version": "1.5.0",
            "_view_count": null,
            "_view_module_version": "1.2.0",
            "_model_module": "@jupyter-widgets/controls"
          }
        },
        "aec1af551760482e940fae3bf4fc05df": {
          "model_module": "@jupyter-widgets/base",
          "model_name": "LayoutModel",
          "model_module_version": "1.2.0",
          "state": {
            "_view_name": "LayoutView",
            "grid_template_rows": null,
            "right": null,
            "justify_content": null,
            "_view_module": "@jupyter-widgets/base",
            "overflow": null,
            "_model_module_version": "1.2.0",
            "_view_count": null,
            "flex_flow": null,
            "width": null,
            "min_width": null,
            "border": null,
            "align_items": null,
            "bottom": null,
            "_model_module": "@jupyter-widgets/base",
            "top": null,
            "grid_column": null,
            "overflow_y": null,
            "overflow_x": null,
            "grid_auto_flow": null,
            "grid_area": null,
            "grid_template_columns": null,
            "flex": null,
            "_model_name": "LayoutModel",
            "justify_items": null,
            "grid_row": null,
            "max_height": null,
            "align_content": null,
            "visibility": null,
            "align_self": null,
            "height": null,
            "min_height": null,
            "padding": null,
            "grid_auto_rows": null,
            "grid_gap": null,
            "max_width": null,
            "order": null,
            "_view_module_version": "1.2.0",
            "grid_template_areas": null,
            "object_position": null,
            "object_fit": null,
            "grid_auto_columns": null,
            "margin": null,
            "display": null,
            "left": null
          }
        },
        "3ddb0e89f8294eb491e59d07323c1798": {
          "model_module": "@jupyter-widgets/controls",
          "model_name": "ProgressStyleModel",
          "model_module_version": "1.5.0",
          "state": {
            "_view_name": "StyleView",
            "_model_name": "ProgressStyleModel",
            "description_width": "",
            "_view_module": "@jupyter-widgets/base",
            "_model_module_version": "1.5.0",
            "_view_count": null,
            "_view_module_version": "1.2.0",
            "bar_color": null,
            "_model_module": "@jupyter-widgets/controls"
          }
        },
        "97c1cf16e6574452838e823d956913ac": {
          "model_module": "@jupyter-widgets/base",
          "model_name": "LayoutModel",
          "model_module_version": "1.2.0",
          "state": {
            "_view_name": "LayoutView",
            "grid_template_rows": null,
            "right": null,
            "justify_content": null,
            "_view_module": "@jupyter-widgets/base",
            "overflow": null,
            "_model_module_version": "1.2.0",
            "_view_count": null,
            "flex_flow": null,
            "width": null,
            "min_width": null,
            "border": null,
            "align_items": null,
            "bottom": null,
            "_model_module": "@jupyter-widgets/base",
            "top": null,
            "grid_column": null,
            "overflow_y": null,
            "overflow_x": null,
            "grid_auto_flow": null,
            "grid_area": null,
            "grid_template_columns": null,
            "flex": null,
            "_model_name": "LayoutModel",
            "justify_items": null,
            "grid_row": null,
            "max_height": null,
            "align_content": null,
            "visibility": null,
            "align_self": null,
            "height": null,
            "min_height": null,
            "padding": null,
            "grid_auto_rows": null,
            "grid_gap": null,
            "max_width": null,
            "order": null,
            "_view_module_version": "1.2.0",
            "grid_template_areas": null,
            "object_position": null,
            "object_fit": null,
            "grid_auto_columns": null,
            "margin": null,
            "display": null,
            "left": null
          }
        },
        "9714f7af0b434ab4a63fe69a514a22dc": {
          "model_module": "@jupyter-widgets/controls",
          "model_name": "DescriptionStyleModel",
          "model_module_version": "1.5.0",
          "state": {
            "_view_name": "StyleView",
            "_model_name": "DescriptionStyleModel",
            "description_width": "",
            "_view_module": "@jupyter-widgets/base",
            "_model_module_version": "1.5.0",
            "_view_count": null,
            "_view_module_version": "1.2.0",
            "_model_module": "@jupyter-widgets/controls"
          }
        },
        "16c84d565d234b89bdd9dfff1f7cef75": {
          "model_module": "@jupyter-widgets/base",
          "model_name": "LayoutModel",
          "model_module_version": "1.2.0",
          "state": {
            "_view_name": "LayoutView",
            "grid_template_rows": null,
            "right": null,
            "justify_content": null,
            "_view_module": "@jupyter-widgets/base",
            "overflow": null,
            "_model_module_version": "1.2.0",
            "_view_count": null,
            "flex_flow": null,
            "width": null,
            "min_width": null,
            "border": null,
            "align_items": null,
            "bottom": null,
            "_model_module": "@jupyter-widgets/base",
            "top": null,
            "grid_column": null,
            "overflow_y": null,
            "overflow_x": null,
            "grid_auto_flow": null,
            "grid_area": null,
            "grid_template_columns": null,
            "flex": null,
            "_model_name": "LayoutModel",
            "justify_items": null,
            "grid_row": null,
            "max_height": null,
            "align_content": null,
            "visibility": null,
            "align_self": null,
            "height": null,
            "min_height": null,
            "padding": null,
            "grid_auto_rows": null,
            "grid_gap": null,
            "max_width": null,
            "order": null,
            "_view_module_version": "1.2.0",
            "grid_template_areas": null,
            "object_position": null,
            "object_fit": null,
            "grid_auto_columns": null,
            "margin": null,
            "display": null,
            "left": null
          }
        },
        "072664573fac4405adc3939186267919": {
          "model_module": "@jupyter-widgets/controls",
          "model_name": "HBoxModel",
          "model_module_version": "1.5.0",
          "state": {
            "_view_name": "HBoxView",
            "_dom_classes": [],
            "_model_name": "HBoxModel",
            "_view_module": "@jupyter-widgets/controls",
            "_model_module_version": "1.5.0",
            "_view_count": null,
            "_view_module_version": "1.5.0",
            "box_style": "",
            "layout": "IPY_MODEL_cdae63b319f04946aff02c42f1de935c",
            "_model_module": "@jupyter-widgets/controls",
            "children": [
              "IPY_MODEL_f7bd63bff83142af894f5620c10c6148",
              "IPY_MODEL_e6b9333c66e7426e84ab8e78e242d394",
              "IPY_MODEL_607e653337ee4e2680b25371ede93f19"
            ]
          }
        },
        "cdae63b319f04946aff02c42f1de935c": {
          "model_module": "@jupyter-widgets/base",
          "model_name": "LayoutModel",
          "model_module_version": "1.2.0",
          "state": {
            "_view_name": "LayoutView",
            "grid_template_rows": null,
            "right": null,
            "justify_content": null,
            "_view_module": "@jupyter-widgets/base",
            "overflow": null,
            "_model_module_version": "1.2.0",
            "_view_count": null,
            "flex_flow": null,
            "width": null,
            "min_width": null,
            "border": null,
            "align_items": null,
            "bottom": null,
            "_model_module": "@jupyter-widgets/base",
            "top": null,
            "grid_column": null,
            "overflow_y": null,
            "overflow_x": null,
            "grid_auto_flow": null,
            "grid_area": null,
            "grid_template_columns": null,
            "flex": null,
            "_model_name": "LayoutModel",
            "justify_items": null,
            "grid_row": null,
            "max_height": null,
            "align_content": null,
            "visibility": null,
            "align_self": null,
            "height": null,
            "min_height": null,
            "padding": null,
            "grid_auto_rows": null,
            "grid_gap": null,
            "max_width": null,
            "order": null,
            "_view_module_version": "1.2.0",
            "grid_template_areas": null,
            "object_position": null,
            "object_fit": null,
            "grid_auto_columns": null,
            "margin": null,
            "display": null,
            "left": null
          }
        },
        "f7bd63bff83142af894f5620c10c6148": {
          "model_module": "@jupyter-widgets/controls",
          "model_name": "HTMLModel",
          "model_module_version": "1.5.0",
          "state": {
            "_view_name": "HTMLView",
            "style": "IPY_MODEL_ad11491ae2864c5fa547761e0496212e",
            "_dom_classes": [],
            "description": "",
            "_model_name": "HTMLModel",
            "placeholder": "​",
            "_view_module": "@jupyter-widgets/controls",
            "_model_module_version": "1.5.0",
            "value": "",
            "_view_count": null,
            "_view_module_version": "1.5.0",
            "description_tooltip": null,
            "_model_module": "@jupyter-widgets/controls",
            "layout": "IPY_MODEL_1d60bb1cfa62455c8e33f5def9c14a5b"
          }
        },
        "e6b9333c66e7426e84ab8e78e242d394": {
          "model_module": "@jupyter-widgets/controls",
          "model_name": "FloatProgressModel",
          "model_module_version": "1.5.0",
          "state": {
            "_view_name": "ProgressView",
            "style": "IPY_MODEL_6a675c93494d4433b4b63f30a5583db2",
            "_dom_classes": [],
            "description": "",
            "_model_name": "FloatProgressModel",
            "bar_style": "success",
            "max": 1648877,
            "_view_module": "@jupyter-widgets/controls",
            "_model_module_version": "1.5.0",
            "value": 1648877,
            "_view_count": null,
            "_view_module_version": "1.5.0",
            "orientation": "horizontal",
            "min": 0,
            "description_tooltip": null,
            "_model_module": "@jupyter-widgets/controls",
            "layout": "IPY_MODEL_e9a84a865229407a903eed3541203d55"
          }
        },
        "607e653337ee4e2680b25371ede93f19": {
          "model_module": "@jupyter-widgets/controls",
          "model_name": "HTMLModel",
          "model_module_version": "1.5.0",
          "state": {
            "_view_name": "HTMLView",
            "style": "IPY_MODEL_538d488ad6694aaa85f34ad98b760451",
            "_dom_classes": [],
            "description": "",
            "_model_name": "HTMLModel",
            "placeholder": "​",
            "_view_module": "@jupyter-widgets/controls",
            "_model_module_version": "1.5.0",
            "value": " 1649664/? [00:00&lt;00:00, 10894175.60it/s]",
            "_view_count": null,
            "_view_module_version": "1.5.0",
            "description_tooltip": null,
            "_model_module": "@jupyter-widgets/controls",
            "layout": "IPY_MODEL_90308cff49d340ca930d5909af384379"
          }
        },
        "ad11491ae2864c5fa547761e0496212e": {
          "model_module": "@jupyter-widgets/controls",
          "model_name": "DescriptionStyleModel",
          "model_module_version": "1.5.0",
          "state": {
            "_view_name": "StyleView",
            "_model_name": "DescriptionStyleModel",
            "description_width": "",
            "_view_module": "@jupyter-widgets/base",
            "_model_module_version": "1.5.0",
            "_view_count": null,
            "_view_module_version": "1.2.0",
            "_model_module": "@jupyter-widgets/controls"
          }
        },
        "1d60bb1cfa62455c8e33f5def9c14a5b": {
          "model_module": "@jupyter-widgets/base",
          "model_name": "LayoutModel",
          "model_module_version": "1.2.0",
          "state": {
            "_view_name": "LayoutView",
            "grid_template_rows": null,
            "right": null,
            "justify_content": null,
            "_view_module": "@jupyter-widgets/base",
            "overflow": null,
            "_model_module_version": "1.2.0",
            "_view_count": null,
            "flex_flow": null,
            "width": null,
            "min_width": null,
            "border": null,
            "align_items": null,
            "bottom": null,
            "_model_module": "@jupyter-widgets/base",
            "top": null,
            "grid_column": null,
            "overflow_y": null,
            "overflow_x": null,
            "grid_auto_flow": null,
            "grid_area": null,
            "grid_template_columns": null,
            "flex": null,
            "_model_name": "LayoutModel",
            "justify_items": null,
            "grid_row": null,
            "max_height": null,
            "align_content": null,
            "visibility": null,
            "align_self": null,
            "height": null,
            "min_height": null,
            "padding": null,
            "grid_auto_rows": null,
            "grid_gap": null,
            "max_width": null,
            "order": null,
            "_view_module_version": "1.2.0",
            "grid_template_areas": null,
            "object_position": null,
            "object_fit": null,
            "grid_auto_columns": null,
            "margin": null,
            "display": null,
            "left": null
          }
        },
        "6a675c93494d4433b4b63f30a5583db2": {
          "model_module": "@jupyter-widgets/controls",
          "model_name": "ProgressStyleModel",
          "model_module_version": "1.5.0",
          "state": {
            "_view_name": "StyleView",
            "_model_name": "ProgressStyleModel",
            "description_width": "",
            "_view_module": "@jupyter-widgets/base",
            "_model_module_version": "1.5.0",
            "_view_count": null,
            "_view_module_version": "1.2.0",
            "bar_color": null,
            "_model_module": "@jupyter-widgets/controls"
          }
        },
        "e9a84a865229407a903eed3541203d55": {
          "model_module": "@jupyter-widgets/base",
          "model_name": "LayoutModel",
          "model_module_version": "1.2.0",
          "state": {
            "_view_name": "LayoutView",
            "grid_template_rows": null,
            "right": null,
            "justify_content": null,
            "_view_module": "@jupyter-widgets/base",
            "overflow": null,
            "_model_module_version": "1.2.0",
            "_view_count": null,
            "flex_flow": null,
            "width": null,
            "min_width": null,
            "border": null,
            "align_items": null,
            "bottom": null,
            "_model_module": "@jupyter-widgets/base",
            "top": null,
            "grid_column": null,
            "overflow_y": null,
            "overflow_x": null,
            "grid_auto_flow": null,
            "grid_area": null,
            "grid_template_columns": null,
            "flex": null,
            "_model_name": "LayoutModel",
            "justify_items": null,
            "grid_row": null,
            "max_height": null,
            "align_content": null,
            "visibility": null,
            "align_self": null,
            "height": null,
            "min_height": null,
            "padding": null,
            "grid_auto_rows": null,
            "grid_gap": null,
            "max_width": null,
            "order": null,
            "_view_module_version": "1.2.0",
            "grid_template_areas": null,
            "object_position": null,
            "object_fit": null,
            "grid_auto_columns": null,
            "margin": null,
            "display": null,
            "left": null
          }
        },
        "538d488ad6694aaa85f34ad98b760451": {
          "model_module": "@jupyter-widgets/controls",
          "model_name": "DescriptionStyleModel",
          "model_module_version": "1.5.0",
          "state": {
            "_view_name": "StyleView",
            "_model_name": "DescriptionStyleModel",
            "description_width": "",
            "_view_module": "@jupyter-widgets/base",
            "_model_module_version": "1.5.0",
            "_view_count": null,
            "_view_module_version": "1.2.0",
            "_model_module": "@jupyter-widgets/controls"
          }
        },
        "90308cff49d340ca930d5909af384379": {
          "model_module": "@jupyter-widgets/base",
          "model_name": "LayoutModel",
          "model_module_version": "1.2.0",
          "state": {
            "_view_name": "LayoutView",
            "grid_template_rows": null,
            "right": null,
            "justify_content": null,
            "_view_module": "@jupyter-widgets/base",
            "overflow": null,
            "_model_module_version": "1.2.0",
            "_view_count": null,
            "flex_flow": null,
            "width": null,
            "min_width": null,
            "border": null,
            "align_items": null,
            "bottom": null,
            "_model_module": "@jupyter-widgets/base",
            "top": null,
            "grid_column": null,
            "overflow_y": null,
            "overflow_x": null,
            "grid_auto_flow": null,
            "grid_area": null,
            "grid_template_columns": null,
            "flex": null,
            "_model_name": "LayoutModel",
            "justify_items": null,
            "grid_row": null,
            "max_height": null,
            "align_content": null,
            "visibility": null,
            "align_self": null,
            "height": null,
            "min_height": null,
            "padding": null,
            "grid_auto_rows": null,
            "grid_gap": null,
            "max_width": null,
            "order": null,
            "_view_module_version": "1.2.0",
            "grid_template_areas": null,
            "object_position": null,
            "object_fit": null,
            "grid_auto_columns": null,
            "margin": null,
            "display": null,
            "left": null
          }
        },
        "1b31c8e8245d4654828cfcbca553ca38": {
          "model_module": "@jupyter-widgets/controls",
          "model_name": "HBoxModel",
          "model_module_version": "1.5.0",
          "state": {
            "_view_name": "HBoxView",
            "_dom_classes": [],
            "_model_name": "HBoxModel",
            "_view_module": "@jupyter-widgets/controls",
            "_model_module_version": "1.5.0",
            "_view_count": null,
            "_view_module_version": "1.5.0",
            "box_style": "",
            "layout": "IPY_MODEL_664d356005ab411e848b08e534f6761e",
            "_model_module": "@jupyter-widgets/controls",
            "children": [
              "IPY_MODEL_8d0059e9ff094b759d238a92dddf18be",
              "IPY_MODEL_fc2992d1da684b5a849a81118ece940b",
              "IPY_MODEL_621cce48565a4256b6a8273ae88bed18"
            ]
          }
        },
        "664d356005ab411e848b08e534f6761e": {
          "model_module": "@jupyter-widgets/base",
          "model_name": "LayoutModel",
          "model_module_version": "1.2.0",
          "state": {
            "_view_name": "LayoutView",
            "grid_template_rows": null,
            "right": null,
            "justify_content": null,
            "_view_module": "@jupyter-widgets/base",
            "overflow": null,
            "_model_module_version": "1.2.0",
            "_view_count": null,
            "flex_flow": null,
            "width": null,
            "min_width": null,
            "border": null,
            "align_items": null,
            "bottom": null,
            "_model_module": "@jupyter-widgets/base",
            "top": null,
            "grid_column": null,
            "overflow_y": null,
            "overflow_x": null,
            "grid_auto_flow": null,
            "grid_area": null,
            "grid_template_columns": null,
            "flex": null,
            "_model_name": "LayoutModel",
            "justify_items": null,
            "grid_row": null,
            "max_height": null,
            "align_content": null,
            "visibility": null,
            "align_self": null,
            "height": null,
            "min_height": null,
            "padding": null,
            "grid_auto_rows": null,
            "grid_gap": null,
            "max_width": null,
            "order": null,
            "_view_module_version": "1.2.0",
            "grid_template_areas": null,
            "object_position": null,
            "object_fit": null,
            "grid_auto_columns": null,
            "margin": null,
            "display": null,
            "left": null
          }
        },
        "8d0059e9ff094b759d238a92dddf18be": {
          "model_module": "@jupyter-widgets/controls",
          "model_name": "HTMLModel",
          "model_module_version": "1.5.0",
          "state": {
            "_view_name": "HTMLView",
            "style": "IPY_MODEL_a0220ccfbbe64d3caaacc40b845a5366",
            "_dom_classes": [],
            "description": "",
            "_model_name": "HTMLModel",
            "placeholder": "​",
            "_view_module": "@jupyter-widgets/controls",
            "_model_module_version": "1.5.0",
            "value": "",
            "_view_count": null,
            "_view_module_version": "1.5.0",
            "description_tooltip": null,
            "_model_module": "@jupyter-widgets/controls",
            "layout": "IPY_MODEL_fc4871d12b984be6a03100af532633c8"
          }
        },
        "fc2992d1da684b5a849a81118ece940b": {
          "model_module": "@jupyter-widgets/controls",
          "model_name": "FloatProgressModel",
          "model_module_version": "1.5.0",
          "state": {
            "_view_name": "ProgressView",
            "style": "IPY_MODEL_4bb551d906304abfb9c0e58f0798c66c",
            "_dom_classes": [],
            "description": "",
            "_model_name": "FloatProgressModel",
            "bar_style": "success",
            "max": 4542,
            "_view_module": "@jupyter-widgets/controls",
            "_model_module_version": "1.5.0",
            "value": 4542,
            "_view_count": null,
            "_view_module_version": "1.5.0",
            "orientation": "horizontal",
            "min": 0,
            "description_tooltip": null,
            "_model_module": "@jupyter-widgets/controls",
            "layout": "IPY_MODEL_31a36d30358a40a4a824e62e4afcd357"
          }
        },
        "621cce48565a4256b6a8273ae88bed18": {
          "model_module": "@jupyter-widgets/controls",
          "model_name": "HTMLModel",
          "model_module_version": "1.5.0",
          "state": {
            "_view_name": "HTMLView",
            "style": "IPY_MODEL_e88d66ddd74b4f45bddbfa216cef2632",
            "_dom_classes": [],
            "description": "",
            "_model_name": "HTMLModel",
            "placeholder": "​",
            "_view_module": "@jupyter-widgets/controls",
            "_model_module_version": "1.5.0",
            "value": " 5120/? [00:00&lt;00:00, 146169.85it/s]",
            "_view_count": null,
            "_view_module_version": "1.5.0",
            "description_tooltip": null,
            "_model_module": "@jupyter-widgets/controls",
            "layout": "IPY_MODEL_25626ccc4280498787b3095e96c7abe2"
          }
        },
        "a0220ccfbbe64d3caaacc40b845a5366": {
          "model_module": "@jupyter-widgets/controls",
          "model_name": "DescriptionStyleModel",
          "model_module_version": "1.5.0",
          "state": {
            "_view_name": "StyleView",
            "_model_name": "DescriptionStyleModel",
            "description_width": "",
            "_view_module": "@jupyter-widgets/base",
            "_model_module_version": "1.5.0",
            "_view_count": null,
            "_view_module_version": "1.2.0",
            "_model_module": "@jupyter-widgets/controls"
          }
        },
        "fc4871d12b984be6a03100af532633c8": {
          "model_module": "@jupyter-widgets/base",
          "model_name": "LayoutModel",
          "model_module_version": "1.2.0",
          "state": {
            "_view_name": "LayoutView",
            "grid_template_rows": null,
            "right": null,
            "justify_content": null,
            "_view_module": "@jupyter-widgets/base",
            "overflow": null,
            "_model_module_version": "1.2.0",
            "_view_count": null,
            "flex_flow": null,
            "width": null,
            "min_width": null,
            "border": null,
            "align_items": null,
            "bottom": null,
            "_model_module": "@jupyter-widgets/base",
            "top": null,
            "grid_column": null,
            "overflow_y": null,
            "overflow_x": null,
            "grid_auto_flow": null,
            "grid_area": null,
            "grid_template_columns": null,
            "flex": null,
            "_model_name": "LayoutModel",
            "justify_items": null,
            "grid_row": null,
            "max_height": null,
            "align_content": null,
            "visibility": null,
            "align_self": null,
            "height": null,
            "min_height": null,
            "padding": null,
            "grid_auto_rows": null,
            "grid_gap": null,
            "max_width": null,
            "order": null,
            "_view_module_version": "1.2.0",
            "grid_template_areas": null,
            "object_position": null,
            "object_fit": null,
            "grid_auto_columns": null,
            "margin": null,
            "display": null,
            "left": null
          }
        },
        "4bb551d906304abfb9c0e58f0798c66c": {
          "model_module": "@jupyter-widgets/controls",
          "model_name": "ProgressStyleModel",
          "model_module_version": "1.5.0",
          "state": {
            "_view_name": "StyleView",
            "_model_name": "ProgressStyleModel",
            "description_width": "",
            "_view_module": "@jupyter-widgets/base",
            "_model_module_version": "1.5.0",
            "_view_count": null,
            "_view_module_version": "1.2.0",
            "bar_color": null,
            "_model_module": "@jupyter-widgets/controls"
          }
        },
        "31a36d30358a40a4a824e62e4afcd357": {
          "model_module": "@jupyter-widgets/base",
          "model_name": "LayoutModel",
          "model_module_version": "1.2.0",
          "state": {
            "_view_name": "LayoutView",
            "grid_template_rows": null,
            "right": null,
            "justify_content": null,
            "_view_module": "@jupyter-widgets/base",
            "overflow": null,
            "_model_module_version": "1.2.0",
            "_view_count": null,
            "flex_flow": null,
            "width": null,
            "min_width": null,
            "border": null,
            "align_items": null,
            "bottom": null,
            "_model_module": "@jupyter-widgets/base",
            "top": null,
            "grid_column": null,
            "overflow_y": null,
            "overflow_x": null,
            "grid_auto_flow": null,
            "grid_area": null,
            "grid_template_columns": null,
            "flex": null,
            "_model_name": "LayoutModel",
            "justify_items": null,
            "grid_row": null,
            "max_height": null,
            "align_content": null,
            "visibility": null,
            "align_self": null,
            "height": null,
            "min_height": null,
            "padding": null,
            "grid_auto_rows": null,
            "grid_gap": null,
            "max_width": null,
            "order": null,
            "_view_module_version": "1.2.0",
            "grid_template_areas": null,
            "object_position": null,
            "object_fit": null,
            "grid_auto_columns": null,
            "margin": null,
            "display": null,
            "left": null
          }
        },
        "e88d66ddd74b4f45bddbfa216cef2632": {
          "model_module": "@jupyter-widgets/controls",
          "model_name": "DescriptionStyleModel",
          "model_module_version": "1.5.0",
          "state": {
            "_view_name": "StyleView",
            "_model_name": "DescriptionStyleModel",
            "description_width": "",
            "_view_module": "@jupyter-widgets/base",
            "_model_module_version": "1.5.0",
            "_view_count": null,
            "_view_module_version": "1.2.0",
            "_model_module": "@jupyter-widgets/controls"
          }
        },
        "25626ccc4280498787b3095e96c7abe2": {
          "model_module": "@jupyter-widgets/base",
          "model_name": "LayoutModel",
          "model_module_version": "1.2.0",
          "state": {
            "_view_name": "LayoutView",
            "grid_template_rows": null,
            "right": null,
            "justify_content": null,
            "_view_module": "@jupyter-widgets/base",
            "overflow": null,
            "_model_module_version": "1.2.0",
            "_view_count": null,
            "flex_flow": null,
            "width": null,
            "min_width": null,
            "border": null,
            "align_items": null,
            "bottom": null,
            "_model_module": "@jupyter-widgets/base",
            "top": null,
            "grid_column": null,
            "overflow_y": null,
            "overflow_x": null,
            "grid_auto_flow": null,
            "grid_area": null,
            "grid_template_columns": null,
            "flex": null,
            "_model_name": "LayoutModel",
            "justify_items": null,
            "grid_row": null,
            "max_height": null,
            "align_content": null,
            "visibility": null,
            "align_self": null,
            "height": null,
            "min_height": null,
            "padding": null,
            "grid_auto_rows": null,
            "grid_gap": null,
            "max_width": null,
            "order": null,
            "_view_module_version": "1.2.0",
            "grid_template_areas": null,
            "object_position": null,
            "object_fit": null,
            "grid_auto_columns": null,
            "margin": null,
            "display": null,
            "left": null
          }
        },
        "ac49afbf587541b9bb8b86558ad54873": {
          "model_module": "@jupyter-widgets/controls",
          "model_name": "HBoxModel",
          "model_module_version": "1.5.0",
          "state": {
            "_view_name": "HBoxView",
            "_dom_classes": [],
            "_model_name": "HBoxModel",
            "_view_module": "@jupyter-widgets/controls",
            "_model_module_version": "1.5.0",
            "_view_count": null,
            "_view_module_version": "1.5.0",
            "box_style": "",
            "layout": "IPY_MODEL_219ca0835ed44001acd3181be542be41",
            "_model_module": "@jupyter-widgets/controls",
            "children": [
              "IPY_MODEL_257da7d492a94107b5e9d789bfe3c002",
              "IPY_MODEL_13d2599740b54d7a8bd3ad4eb7bc1d72",
              "IPY_MODEL_5db39ed874384d519ec55a20bdb559e4"
            ]
          }
        },
        "219ca0835ed44001acd3181be542be41": {
          "model_module": "@jupyter-widgets/base",
          "model_name": "LayoutModel",
          "model_module_version": "1.2.0",
          "state": {
            "_view_name": "LayoutView",
            "grid_template_rows": null,
            "right": null,
            "justify_content": null,
            "_view_module": "@jupyter-widgets/base",
            "overflow": null,
            "_model_module_version": "1.2.0",
            "_view_count": null,
            "flex_flow": null,
            "width": null,
            "min_width": null,
            "border": null,
            "align_items": null,
            "bottom": null,
            "_model_module": "@jupyter-widgets/base",
            "top": null,
            "grid_column": null,
            "overflow_y": null,
            "overflow_x": null,
            "grid_auto_flow": null,
            "grid_area": null,
            "grid_template_columns": null,
            "flex": null,
            "_model_name": "LayoutModel",
            "justify_items": null,
            "grid_row": null,
            "max_height": null,
            "align_content": null,
            "visibility": null,
            "align_self": null,
            "height": null,
            "min_height": null,
            "padding": null,
            "grid_auto_rows": null,
            "grid_gap": null,
            "max_width": null,
            "order": null,
            "_view_module_version": "1.2.0",
            "grid_template_areas": null,
            "object_position": null,
            "object_fit": null,
            "grid_auto_columns": null,
            "margin": null,
            "display": null,
            "left": null
          }
        },
        "257da7d492a94107b5e9d789bfe3c002": {
          "model_module": "@jupyter-widgets/controls",
          "model_name": "HTMLModel",
          "model_module_version": "1.5.0",
          "state": {
            "_view_name": "HTMLView",
            "style": "IPY_MODEL_6ce95136faad4820915823a5358018a7",
            "_dom_classes": [],
            "description": "",
            "_model_name": "HTMLModel",
            "placeholder": "​",
            "_view_module": "@jupyter-widgets/controls",
            "_model_module_version": "1.5.0",
            "value": "",
            "_view_count": null,
            "_view_module_version": "1.5.0",
            "description_tooltip": null,
            "_model_module": "@jupyter-widgets/controls",
            "layout": "IPY_MODEL_812f1f234801433d93abbfbd1d0c3723"
          }
        },
        "13d2599740b54d7a8bd3ad4eb7bc1d72": {
          "model_module": "@jupyter-widgets/controls",
          "model_name": "FloatProgressModel",
          "model_module_version": "1.5.0",
          "state": {
            "_view_name": "ProgressView",
            "style": "IPY_MODEL_bff4f130a88f4c9c9df8ee8e767469ad",
            "_dom_classes": [],
            "description": "",
            "_model_name": "FloatProgressModel",
            "bar_style": "success",
            "max": 9912422,
            "_view_module": "@jupyter-widgets/controls",
            "_model_module_version": "1.5.0",
            "value": 9912422,
            "_view_count": null,
            "_view_module_version": "1.5.0",
            "orientation": "horizontal",
            "min": 0,
            "description_tooltip": null,
            "_model_module": "@jupyter-widgets/controls",
            "layout": "IPY_MODEL_7791c465c1ae41abb93f179bf15ab8aa"
          }
        },
        "5db39ed874384d519ec55a20bdb559e4": {
          "model_module": "@jupyter-widgets/controls",
          "model_name": "HTMLModel",
          "model_module_version": "1.5.0",
          "state": {
            "_view_name": "HTMLView",
            "style": "IPY_MODEL_2894a4462d014fbcb2ff8d0b96907929",
            "_dom_classes": [],
            "description": "",
            "_model_name": "HTMLModel",
            "placeholder": "​",
            "_view_module": "@jupyter-widgets/controls",
            "_model_module_version": "1.5.0",
            "value": " 9913344/? [00:00&lt;00:00, 45684580.55it/s]",
            "_view_count": null,
            "_view_module_version": "1.5.0",
            "description_tooltip": null,
            "_model_module": "@jupyter-widgets/controls",
            "layout": "IPY_MODEL_0c5b5dc781cd4ab79c7c9234c9608943"
          }
        },
        "6ce95136faad4820915823a5358018a7": {
          "model_module": "@jupyter-widgets/controls",
          "model_name": "DescriptionStyleModel",
          "model_module_version": "1.5.0",
          "state": {
            "_view_name": "StyleView",
            "_model_name": "DescriptionStyleModel",
            "description_width": "",
            "_view_module": "@jupyter-widgets/base",
            "_model_module_version": "1.5.0",
            "_view_count": null,
            "_view_module_version": "1.2.0",
            "_model_module": "@jupyter-widgets/controls"
          }
        },
        "812f1f234801433d93abbfbd1d0c3723": {
          "model_module": "@jupyter-widgets/base",
          "model_name": "LayoutModel",
          "model_module_version": "1.2.0",
          "state": {
            "_view_name": "LayoutView",
            "grid_template_rows": null,
            "right": null,
            "justify_content": null,
            "_view_module": "@jupyter-widgets/base",
            "overflow": null,
            "_model_module_version": "1.2.0",
            "_view_count": null,
            "flex_flow": null,
            "width": null,
            "min_width": null,
            "border": null,
            "align_items": null,
            "bottom": null,
            "_model_module": "@jupyter-widgets/base",
            "top": null,
            "grid_column": null,
            "overflow_y": null,
            "overflow_x": null,
            "grid_auto_flow": null,
            "grid_area": null,
            "grid_template_columns": null,
            "flex": null,
            "_model_name": "LayoutModel",
            "justify_items": null,
            "grid_row": null,
            "max_height": null,
            "align_content": null,
            "visibility": null,
            "align_self": null,
            "height": null,
            "min_height": null,
            "padding": null,
            "grid_auto_rows": null,
            "grid_gap": null,
            "max_width": null,
            "order": null,
            "_view_module_version": "1.2.0",
            "grid_template_areas": null,
            "object_position": null,
            "object_fit": null,
            "grid_auto_columns": null,
            "margin": null,
            "display": null,
            "left": null
          }
        },
        "bff4f130a88f4c9c9df8ee8e767469ad": {
          "model_module": "@jupyter-widgets/controls",
          "model_name": "ProgressStyleModel",
          "model_module_version": "1.5.0",
          "state": {
            "_view_name": "StyleView",
            "_model_name": "ProgressStyleModel",
            "description_width": "",
            "_view_module": "@jupyter-widgets/base",
            "_model_module_version": "1.5.0",
            "_view_count": null,
            "_view_module_version": "1.2.0",
            "bar_color": null,
            "_model_module": "@jupyter-widgets/controls"
          }
        },
        "7791c465c1ae41abb93f179bf15ab8aa": {
          "model_module": "@jupyter-widgets/base",
          "model_name": "LayoutModel",
          "model_module_version": "1.2.0",
          "state": {
            "_view_name": "LayoutView",
            "grid_template_rows": null,
            "right": null,
            "justify_content": null,
            "_view_module": "@jupyter-widgets/base",
            "overflow": null,
            "_model_module_version": "1.2.0",
            "_view_count": null,
            "flex_flow": null,
            "width": null,
            "min_width": null,
            "border": null,
            "align_items": null,
            "bottom": null,
            "_model_module": "@jupyter-widgets/base",
            "top": null,
            "grid_column": null,
            "overflow_y": null,
            "overflow_x": null,
            "grid_auto_flow": null,
            "grid_area": null,
            "grid_template_columns": null,
            "flex": null,
            "_model_name": "LayoutModel",
            "justify_items": null,
            "grid_row": null,
            "max_height": null,
            "align_content": null,
            "visibility": null,
            "align_self": null,
            "height": null,
            "min_height": null,
            "padding": null,
            "grid_auto_rows": null,
            "grid_gap": null,
            "max_width": null,
            "order": null,
            "_view_module_version": "1.2.0",
            "grid_template_areas": null,
            "object_position": null,
            "object_fit": null,
            "grid_auto_columns": null,
            "margin": null,
            "display": null,
            "left": null
          }
        },
        "2894a4462d014fbcb2ff8d0b96907929": {
          "model_module": "@jupyter-widgets/controls",
          "model_name": "DescriptionStyleModel",
          "model_module_version": "1.5.0",
          "state": {
            "_view_name": "StyleView",
            "_model_name": "DescriptionStyleModel",
            "description_width": "",
            "_view_module": "@jupyter-widgets/base",
            "_model_module_version": "1.5.0",
            "_view_count": null,
            "_view_module_version": "1.2.0",
            "_model_module": "@jupyter-widgets/controls"
          }
        },
        "0c5b5dc781cd4ab79c7c9234c9608943": {
          "model_module": "@jupyter-widgets/base",
          "model_name": "LayoutModel",
          "model_module_version": "1.2.0",
          "state": {
            "_view_name": "LayoutView",
            "grid_template_rows": null,
            "right": null,
            "justify_content": null,
            "_view_module": "@jupyter-widgets/base",
            "overflow": null,
            "_model_module_version": "1.2.0",
            "_view_count": null,
            "flex_flow": null,
            "width": null,
            "min_width": null,
            "border": null,
            "align_items": null,
            "bottom": null,
            "_model_module": "@jupyter-widgets/base",
            "top": null,
            "grid_column": null,
            "overflow_y": null,
            "overflow_x": null,
            "grid_auto_flow": null,
            "grid_area": null,
            "grid_template_columns": null,
            "flex": null,
            "_model_name": "LayoutModel",
            "justify_items": null,
            "grid_row": null,
            "max_height": null,
            "align_content": null,
            "visibility": null,
            "align_self": null,
            "height": null,
            "min_height": null,
            "padding": null,
            "grid_auto_rows": null,
            "grid_gap": null,
            "max_width": null,
            "order": null,
            "_view_module_version": "1.2.0",
            "grid_template_areas": null,
            "object_position": null,
            "object_fit": null,
            "grid_auto_columns": null,
            "margin": null,
            "display": null,
            "left": null
          }
        },
        "a692e045f1fc4c94b1cc355d8aff76d7": {
          "model_module": "@jupyter-widgets/controls",
          "model_name": "HBoxModel",
          "model_module_version": "1.5.0",
          "state": {
            "_view_name": "HBoxView",
            "_dom_classes": [],
            "_model_name": "HBoxModel",
            "_view_module": "@jupyter-widgets/controls",
            "_model_module_version": "1.5.0",
            "_view_count": null,
            "_view_module_version": "1.5.0",
            "box_style": "",
            "layout": "IPY_MODEL_9ac830b8bd434d7aa25227de500e84a4",
            "_model_module": "@jupyter-widgets/controls",
            "children": [
              "IPY_MODEL_01e74109c265451a9992c5c35ad81e91",
              "IPY_MODEL_476fa8394d6a47389a8695e616dce468",
              "IPY_MODEL_eb12872c4838427da07c5e63f568c23d"
            ]
          }
        },
        "9ac830b8bd434d7aa25227de500e84a4": {
          "model_module": "@jupyter-widgets/base",
          "model_name": "LayoutModel",
          "model_module_version": "1.2.0",
          "state": {
            "_view_name": "LayoutView",
            "grid_template_rows": null,
            "right": null,
            "justify_content": null,
            "_view_module": "@jupyter-widgets/base",
            "overflow": null,
            "_model_module_version": "1.2.0",
            "_view_count": null,
            "flex_flow": null,
            "width": null,
            "min_width": null,
            "border": null,
            "align_items": null,
            "bottom": null,
            "_model_module": "@jupyter-widgets/base",
            "top": null,
            "grid_column": null,
            "overflow_y": null,
            "overflow_x": null,
            "grid_auto_flow": null,
            "grid_area": null,
            "grid_template_columns": null,
            "flex": null,
            "_model_name": "LayoutModel",
            "justify_items": null,
            "grid_row": null,
            "max_height": null,
            "align_content": null,
            "visibility": null,
            "align_self": null,
            "height": null,
            "min_height": null,
            "padding": null,
            "grid_auto_rows": null,
            "grid_gap": null,
            "max_width": null,
            "order": null,
            "_view_module_version": "1.2.0",
            "grid_template_areas": null,
            "object_position": null,
            "object_fit": null,
            "grid_auto_columns": null,
            "margin": null,
            "display": null,
            "left": null
          }
        },
        "01e74109c265451a9992c5c35ad81e91": {
          "model_module": "@jupyter-widgets/controls",
          "model_name": "HTMLModel",
          "model_module_version": "1.5.0",
          "state": {
            "_view_name": "HTMLView",
            "style": "IPY_MODEL_36a034d1c1f7451a997c14376bde6e35",
            "_dom_classes": [],
            "description": "",
            "_model_name": "HTMLModel",
            "placeholder": "​",
            "_view_module": "@jupyter-widgets/controls",
            "_model_module_version": "1.5.0",
            "value": "",
            "_view_count": null,
            "_view_module_version": "1.5.0",
            "description_tooltip": null,
            "_model_module": "@jupyter-widgets/controls",
            "layout": "IPY_MODEL_a4cdce626e8447169e39824af2337060"
          }
        },
        "476fa8394d6a47389a8695e616dce468": {
          "model_module": "@jupyter-widgets/controls",
          "model_name": "FloatProgressModel",
          "model_module_version": "1.5.0",
          "state": {
            "_view_name": "ProgressView",
            "style": "IPY_MODEL_5ded4c0cedca47f293e4db4d6041c505",
            "_dom_classes": [],
            "description": "",
            "_model_name": "FloatProgressModel",
            "bar_style": "success",
            "max": 28881,
            "_view_module": "@jupyter-widgets/controls",
            "_model_module_version": "1.5.0",
            "value": 28881,
            "_view_count": null,
            "_view_module_version": "1.5.0",
            "orientation": "horizontal",
            "min": 0,
            "description_tooltip": null,
            "_model_module": "@jupyter-widgets/controls",
            "layout": "IPY_MODEL_a3cf205a2c104c4c9a58557e8662ed22"
          }
        },
        "eb12872c4838427da07c5e63f568c23d": {
          "model_module": "@jupyter-widgets/controls",
          "model_name": "HTMLModel",
          "model_module_version": "1.5.0",
          "state": {
            "_view_name": "HTMLView",
            "style": "IPY_MODEL_4efc94906cd6406d8dfd92736aff1e01",
            "_dom_classes": [],
            "description": "",
            "_model_name": "HTMLModel",
            "placeholder": "​",
            "_view_module": "@jupyter-widgets/controls",
            "_model_module_version": "1.5.0",
            "value": " 29696/? [00:00&lt;00:00, 642253.00it/s]",
            "_view_count": null,
            "_view_module_version": "1.5.0",
            "description_tooltip": null,
            "_model_module": "@jupyter-widgets/controls",
            "layout": "IPY_MODEL_b91a5f8790bc4986ae5211d73579c8db"
          }
        },
        "36a034d1c1f7451a997c14376bde6e35": {
          "model_module": "@jupyter-widgets/controls",
          "model_name": "DescriptionStyleModel",
          "model_module_version": "1.5.0",
          "state": {
            "_view_name": "StyleView",
            "_model_name": "DescriptionStyleModel",
            "description_width": "",
            "_view_module": "@jupyter-widgets/base",
            "_model_module_version": "1.5.0",
            "_view_count": null,
            "_view_module_version": "1.2.0",
            "_model_module": "@jupyter-widgets/controls"
          }
        },
        "a4cdce626e8447169e39824af2337060": {
          "model_module": "@jupyter-widgets/base",
          "model_name": "LayoutModel",
          "model_module_version": "1.2.0",
          "state": {
            "_view_name": "LayoutView",
            "grid_template_rows": null,
            "right": null,
            "justify_content": null,
            "_view_module": "@jupyter-widgets/base",
            "overflow": null,
            "_model_module_version": "1.2.0",
            "_view_count": null,
            "flex_flow": null,
            "width": null,
            "min_width": null,
            "border": null,
            "align_items": null,
            "bottom": null,
            "_model_module": "@jupyter-widgets/base",
            "top": null,
            "grid_column": null,
            "overflow_y": null,
            "overflow_x": null,
            "grid_auto_flow": null,
            "grid_area": null,
            "grid_template_columns": null,
            "flex": null,
            "_model_name": "LayoutModel",
            "justify_items": null,
            "grid_row": null,
            "max_height": null,
            "align_content": null,
            "visibility": null,
            "align_self": null,
            "height": null,
            "min_height": null,
            "padding": null,
            "grid_auto_rows": null,
            "grid_gap": null,
            "max_width": null,
            "order": null,
            "_view_module_version": "1.2.0",
            "grid_template_areas": null,
            "object_position": null,
            "object_fit": null,
            "grid_auto_columns": null,
            "margin": null,
            "display": null,
            "left": null
          }
        },
        "5ded4c0cedca47f293e4db4d6041c505": {
          "model_module": "@jupyter-widgets/controls",
          "model_name": "ProgressStyleModel",
          "model_module_version": "1.5.0",
          "state": {
            "_view_name": "StyleView",
            "_model_name": "ProgressStyleModel",
            "description_width": "",
            "_view_module": "@jupyter-widgets/base",
            "_model_module_version": "1.5.0",
            "_view_count": null,
            "_view_module_version": "1.2.0",
            "bar_color": null,
            "_model_module": "@jupyter-widgets/controls"
          }
        },
        "a3cf205a2c104c4c9a58557e8662ed22": {
          "model_module": "@jupyter-widgets/base",
          "model_name": "LayoutModel",
          "model_module_version": "1.2.0",
          "state": {
            "_view_name": "LayoutView",
            "grid_template_rows": null,
            "right": null,
            "justify_content": null,
            "_view_module": "@jupyter-widgets/base",
            "overflow": null,
            "_model_module_version": "1.2.0",
            "_view_count": null,
            "flex_flow": null,
            "width": null,
            "min_width": null,
            "border": null,
            "align_items": null,
            "bottom": null,
            "_model_module": "@jupyter-widgets/base",
            "top": null,
            "grid_column": null,
            "overflow_y": null,
            "overflow_x": null,
            "grid_auto_flow": null,
            "grid_area": null,
            "grid_template_columns": null,
            "flex": null,
            "_model_name": "LayoutModel",
            "justify_items": null,
            "grid_row": null,
            "max_height": null,
            "align_content": null,
            "visibility": null,
            "align_self": null,
            "height": null,
            "min_height": null,
            "padding": null,
            "grid_auto_rows": null,
            "grid_gap": null,
            "max_width": null,
            "order": null,
            "_view_module_version": "1.2.0",
            "grid_template_areas": null,
            "object_position": null,
            "object_fit": null,
            "grid_auto_columns": null,
            "margin": null,
            "display": null,
            "left": null
          }
        },
        "4efc94906cd6406d8dfd92736aff1e01": {
          "model_module": "@jupyter-widgets/controls",
          "model_name": "DescriptionStyleModel",
          "model_module_version": "1.5.0",
          "state": {
            "_view_name": "StyleView",
            "_model_name": "DescriptionStyleModel",
            "description_width": "",
            "_view_module": "@jupyter-widgets/base",
            "_model_module_version": "1.5.0",
            "_view_count": null,
            "_view_module_version": "1.2.0",
            "_model_module": "@jupyter-widgets/controls"
          }
        },
        "b91a5f8790bc4986ae5211d73579c8db": {
          "model_module": "@jupyter-widgets/base",
          "model_name": "LayoutModel",
          "model_module_version": "1.2.0",
          "state": {
            "_view_name": "LayoutView",
            "grid_template_rows": null,
            "right": null,
            "justify_content": null,
            "_view_module": "@jupyter-widgets/base",
            "overflow": null,
            "_model_module_version": "1.2.0",
            "_view_count": null,
            "flex_flow": null,
            "width": null,
            "min_width": null,
            "border": null,
            "align_items": null,
            "bottom": null,
            "_model_module": "@jupyter-widgets/base",
            "top": null,
            "grid_column": null,
            "overflow_y": null,
            "overflow_x": null,
            "grid_auto_flow": null,
            "grid_area": null,
            "grid_template_columns": null,
            "flex": null,
            "_model_name": "LayoutModel",
            "justify_items": null,
            "grid_row": null,
            "max_height": null,
            "align_content": null,
            "visibility": null,
            "align_self": null,
            "height": null,
            "min_height": null,
            "padding": null,
            "grid_auto_rows": null,
            "grid_gap": null,
            "max_width": null,
            "order": null,
            "_view_module_version": "1.2.0",
            "grid_template_areas": null,
            "object_position": null,
            "object_fit": null,
            "grid_auto_columns": null,
            "margin": null,
            "display": null,
            "left": null
          }
        },
        "9c6cb2ba13c64d6485db9c105c761f14": {
          "model_module": "@jupyter-widgets/controls",
          "model_name": "HBoxModel",
          "model_module_version": "1.5.0",
          "state": {
            "_view_name": "HBoxView",
            "_dom_classes": [],
            "_model_name": "HBoxModel",
            "_view_module": "@jupyter-widgets/controls",
            "_model_module_version": "1.5.0",
            "_view_count": null,
            "_view_module_version": "1.5.0",
            "box_style": "",
            "layout": "IPY_MODEL_d8ba48eb473343f9b5654a29013eb563",
            "_model_module": "@jupyter-widgets/controls",
            "children": [
              "IPY_MODEL_37d79cae8dd345b2a30d349d87f6537c",
              "IPY_MODEL_08ec33eefb864d138571ae4957900fea",
              "IPY_MODEL_550de81f4397473b82ac0d73235c5373"
            ]
          }
        },
        "d8ba48eb473343f9b5654a29013eb563": {
          "model_module": "@jupyter-widgets/base",
          "model_name": "LayoutModel",
          "model_module_version": "1.2.0",
          "state": {
            "_view_name": "LayoutView",
            "grid_template_rows": null,
            "right": null,
            "justify_content": null,
            "_view_module": "@jupyter-widgets/base",
            "overflow": null,
            "_model_module_version": "1.2.0",
            "_view_count": null,
            "flex_flow": null,
            "width": null,
            "min_width": null,
            "border": null,
            "align_items": null,
            "bottom": null,
            "_model_module": "@jupyter-widgets/base",
            "top": null,
            "grid_column": null,
            "overflow_y": null,
            "overflow_x": null,
            "grid_auto_flow": null,
            "grid_area": null,
            "grid_template_columns": null,
            "flex": null,
            "_model_name": "LayoutModel",
            "justify_items": null,
            "grid_row": null,
            "max_height": null,
            "align_content": null,
            "visibility": null,
            "align_self": null,
            "height": null,
            "min_height": null,
            "padding": null,
            "grid_auto_rows": null,
            "grid_gap": null,
            "max_width": null,
            "order": null,
            "_view_module_version": "1.2.0",
            "grid_template_areas": null,
            "object_position": null,
            "object_fit": null,
            "grid_auto_columns": null,
            "margin": null,
            "display": null,
            "left": null
          }
        },
        "37d79cae8dd345b2a30d349d87f6537c": {
          "model_module": "@jupyter-widgets/controls",
          "model_name": "HTMLModel",
          "model_module_version": "1.5.0",
          "state": {
            "_view_name": "HTMLView",
            "style": "IPY_MODEL_6abe206c23e54d49842e108999baa2fa",
            "_dom_classes": [],
            "description": "",
            "_model_name": "HTMLModel",
            "placeholder": "​",
            "_view_module": "@jupyter-widgets/controls",
            "_model_module_version": "1.5.0",
            "value": "",
            "_view_count": null,
            "_view_module_version": "1.5.0",
            "description_tooltip": null,
            "_model_module": "@jupyter-widgets/controls",
            "layout": "IPY_MODEL_02403a4c3d4b422b9c817d51d7ddb15f"
          }
        },
        "08ec33eefb864d138571ae4957900fea": {
          "model_module": "@jupyter-widgets/controls",
          "model_name": "FloatProgressModel",
          "model_module_version": "1.5.0",
          "state": {
            "_view_name": "ProgressView",
            "style": "IPY_MODEL_adec9c34315c4df9a9c40731f4650a85",
            "_dom_classes": [],
            "description": "",
            "_model_name": "FloatProgressModel",
            "bar_style": "success",
            "max": 1648877,
            "_view_module": "@jupyter-widgets/controls",
            "_model_module_version": "1.5.0",
            "value": 1648877,
            "_view_count": null,
            "_view_module_version": "1.5.0",
            "orientation": "horizontal",
            "min": 0,
            "description_tooltip": null,
            "_model_module": "@jupyter-widgets/controls",
            "layout": "IPY_MODEL_4ec77da66ee64023a537c3e7142c66ae"
          }
        },
        "550de81f4397473b82ac0d73235c5373": {
          "model_module": "@jupyter-widgets/controls",
          "model_name": "HTMLModel",
          "model_module_version": "1.5.0",
          "state": {
            "_view_name": "HTMLView",
            "style": "IPY_MODEL_de9cfec28678457a93d03991d1c9135c",
            "_dom_classes": [],
            "description": "",
            "_model_name": "HTMLModel",
            "placeholder": "​",
            "_view_module": "@jupyter-widgets/controls",
            "_model_module_version": "1.5.0",
            "value": " 1649664/? [00:00&lt;00:00, 2814708.26it/s]",
            "_view_count": null,
            "_view_module_version": "1.5.0",
            "description_tooltip": null,
            "_model_module": "@jupyter-widgets/controls",
            "layout": "IPY_MODEL_efc845ec2e7841498fcaa175fe841bbd"
          }
        },
        "6abe206c23e54d49842e108999baa2fa": {
          "model_module": "@jupyter-widgets/controls",
          "model_name": "DescriptionStyleModel",
          "model_module_version": "1.5.0",
          "state": {
            "_view_name": "StyleView",
            "_model_name": "DescriptionStyleModel",
            "description_width": "",
            "_view_module": "@jupyter-widgets/base",
            "_model_module_version": "1.5.0",
            "_view_count": null,
            "_view_module_version": "1.2.0",
            "_model_module": "@jupyter-widgets/controls"
          }
        },
        "02403a4c3d4b422b9c817d51d7ddb15f": {
          "model_module": "@jupyter-widgets/base",
          "model_name": "LayoutModel",
          "model_module_version": "1.2.0",
          "state": {
            "_view_name": "LayoutView",
            "grid_template_rows": null,
            "right": null,
            "justify_content": null,
            "_view_module": "@jupyter-widgets/base",
            "overflow": null,
            "_model_module_version": "1.2.0",
            "_view_count": null,
            "flex_flow": null,
            "width": null,
            "min_width": null,
            "border": null,
            "align_items": null,
            "bottom": null,
            "_model_module": "@jupyter-widgets/base",
            "top": null,
            "grid_column": null,
            "overflow_y": null,
            "overflow_x": null,
            "grid_auto_flow": null,
            "grid_area": null,
            "grid_template_columns": null,
            "flex": null,
            "_model_name": "LayoutModel",
            "justify_items": null,
            "grid_row": null,
            "max_height": null,
            "align_content": null,
            "visibility": null,
            "align_self": null,
            "height": null,
            "min_height": null,
            "padding": null,
            "grid_auto_rows": null,
            "grid_gap": null,
            "max_width": null,
            "order": null,
            "_view_module_version": "1.2.0",
            "grid_template_areas": null,
            "object_position": null,
            "object_fit": null,
            "grid_auto_columns": null,
            "margin": null,
            "display": null,
            "left": null
          }
        },
        "adec9c34315c4df9a9c40731f4650a85": {
          "model_module": "@jupyter-widgets/controls",
          "model_name": "ProgressStyleModel",
          "model_module_version": "1.5.0",
          "state": {
            "_view_name": "StyleView",
            "_model_name": "ProgressStyleModel",
            "description_width": "",
            "_view_module": "@jupyter-widgets/base",
            "_model_module_version": "1.5.0",
            "_view_count": null,
            "_view_module_version": "1.2.0",
            "bar_color": null,
            "_model_module": "@jupyter-widgets/controls"
          }
        },
        "4ec77da66ee64023a537c3e7142c66ae": {
          "model_module": "@jupyter-widgets/base",
          "model_name": "LayoutModel",
          "model_module_version": "1.2.0",
          "state": {
            "_view_name": "LayoutView",
            "grid_template_rows": null,
            "right": null,
            "justify_content": null,
            "_view_module": "@jupyter-widgets/base",
            "overflow": null,
            "_model_module_version": "1.2.0",
            "_view_count": null,
            "flex_flow": null,
            "width": null,
            "min_width": null,
            "border": null,
            "align_items": null,
            "bottom": null,
            "_model_module": "@jupyter-widgets/base",
            "top": null,
            "grid_column": null,
            "overflow_y": null,
            "overflow_x": null,
            "grid_auto_flow": null,
            "grid_area": null,
            "grid_template_columns": null,
            "flex": null,
            "_model_name": "LayoutModel",
            "justify_items": null,
            "grid_row": null,
            "max_height": null,
            "align_content": null,
            "visibility": null,
            "align_self": null,
            "height": null,
            "min_height": null,
            "padding": null,
            "grid_auto_rows": null,
            "grid_gap": null,
            "max_width": null,
            "order": null,
            "_view_module_version": "1.2.0",
            "grid_template_areas": null,
            "object_position": null,
            "object_fit": null,
            "grid_auto_columns": null,
            "margin": null,
            "display": null,
            "left": null
          }
        },
        "de9cfec28678457a93d03991d1c9135c": {
          "model_module": "@jupyter-widgets/controls",
          "model_name": "DescriptionStyleModel",
          "model_module_version": "1.5.0",
          "state": {
            "_view_name": "StyleView",
            "_model_name": "DescriptionStyleModel",
            "description_width": "",
            "_view_module": "@jupyter-widgets/base",
            "_model_module_version": "1.5.0",
            "_view_count": null,
            "_view_module_version": "1.2.0",
            "_model_module": "@jupyter-widgets/controls"
          }
        },
        "efc845ec2e7841498fcaa175fe841bbd": {
          "model_module": "@jupyter-widgets/base",
          "model_name": "LayoutModel",
          "model_module_version": "1.2.0",
          "state": {
            "_view_name": "LayoutView",
            "grid_template_rows": null,
            "right": null,
            "justify_content": null,
            "_view_module": "@jupyter-widgets/base",
            "overflow": null,
            "_model_module_version": "1.2.0",
            "_view_count": null,
            "flex_flow": null,
            "width": null,
            "min_width": null,
            "border": null,
            "align_items": null,
            "bottom": null,
            "_model_module": "@jupyter-widgets/base",
            "top": null,
            "grid_column": null,
            "overflow_y": null,
            "overflow_x": null,
            "grid_auto_flow": null,
            "grid_area": null,
            "grid_template_columns": null,
            "flex": null,
            "_model_name": "LayoutModel",
            "justify_items": null,
            "grid_row": null,
            "max_height": null,
            "align_content": null,
            "visibility": null,
            "align_self": null,
            "height": null,
            "min_height": null,
            "padding": null,
            "grid_auto_rows": null,
            "grid_gap": null,
            "max_width": null,
            "order": null,
            "_view_module_version": "1.2.0",
            "grid_template_areas": null,
            "object_position": null,
            "object_fit": null,
            "grid_auto_columns": null,
            "margin": null,
            "display": null,
            "left": null
          }
        },
        "65f0151c2a7f44ee8d186f44340df4a9": {
          "model_module": "@jupyter-widgets/controls",
          "model_name": "HBoxModel",
          "model_module_version": "1.5.0",
          "state": {
            "_view_name": "HBoxView",
            "_dom_classes": [],
            "_model_name": "HBoxModel",
            "_view_module": "@jupyter-widgets/controls",
            "_model_module_version": "1.5.0",
            "_view_count": null,
            "_view_module_version": "1.5.0",
            "box_style": "",
            "layout": "IPY_MODEL_e500f83b21fe4361ab2e19ffbbe8e412",
            "_model_module": "@jupyter-widgets/controls",
            "children": [
              "IPY_MODEL_6966578c834149239d661151bd3ccfb5",
              "IPY_MODEL_7982a296ae9f4cbdbdabba4a2a2b3fee",
              "IPY_MODEL_c3b8bcd9d29e4cf685396256ada1b00b"
            ]
          }
        },
        "e500f83b21fe4361ab2e19ffbbe8e412": {
          "model_module": "@jupyter-widgets/base",
          "model_name": "LayoutModel",
          "model_module_version": "1.2.0",
          "state": {
            "_view_name": "LayoutView",
            "grid_template_rows": null,
            "right": null,
            "justify_content": null,
            "_view_module": "@jupyter-widgets/base",
            "overflow": null,
            "_model_module_version": "1.2.0",
            "_view_count": null,
            "flex_flow": null,
            "width": null,
            "min_width": null,
            "border": null,
            "align_items": null,
            "bottom": null,
            "_model_module": "@jupyter-widgets/base",
            "top": null,
            "grid_column": null,
            "overflow_y": null,
            "overflow_x": null,
            "grid_auto_flow": null,
            "grid_area": null,
            "grid_template_columns": null,
            "flex": null,
            "_model_name": "LayoutModel",
            "justify_items": null,
            "grid_row": null,
            "max_height": null,
            "align_content": null,
            "visibility": null,
            "align_self": null,
            "height": null,
            "min_height": null,
            "padding": null,
            "grid_auto_rows": null,
            "grid_gap": null,
            "max_width": null,
            "order": null,
            "_view_module_version": "1.2.0",
            "grid_template_areas": null,
            "object_position": null,
            "object_fit": null,
            "grid_auto_columns": null,
            "margin": null,
            "display": null,
            "left": null
          }
        },
        "6966578c834149239d661151bd3ccfb5": {
          "model_module": "@jupyter-widgets/controls",
          "model_name": "HTMLModel",
          "model_module_version": "1.5.0",
          "state": {
            "_view_name": "HTMLView",
            "style": "IPY_MODEL_2f0fd7d8e8324258a783272bbd849455",
            "_dom_classes": [],
            "description": "",
            "_model_name": "HTMLModel",
            "placeholder": "​",
            "_view_module": "@jupyter-widgets/controls",
            "_model_module_version": "1.5.0",
            "value": "",
            "_view_count": null,
            "_view_module_version": "1.5.0",
            "description_tooltip": null,
            "_model_module": "@jupyter-widgets/controls",
            "layout": "IPY_MODEL_a6de0098fd7e42ee989d80e7c7909c0e"
          }
        },
        "7982a296ae9f4cbdbdabba4a2a2b3fee": {
          "model_module": "@jupyter-widgets/controls",
          "model_name": "FloatProgressModel",
          "model_module_version": "1.5.0",
          "state": {
            "_view_name": "ProgressView",
            "style": "IPY_MODEL_d3a4c274896f4233b989cab68c0a55a5",
            "_dom_classes": [],
            "description": "",
            "_model_name": "FloatProgressModel",
            "bar_style": "success",
            "max": 4542,
            "_view_module": "@jupyter-widgets/controls",
            "_model_module_version": "1.5.0",
            "value": 4542,
            "_view_count": null,
            "_view_module_version": "1.5.0",
            "orientation": "horizontal",
            "min": 0,
            "description_tooltip": null,
            "_model_module": "@jupyter-widgets/controls",
            "layout": "IPY_MODEL_456add2b197b41688948c70ef68dce21"
          }
        },
        "c3b8bcd9d29e4cf685396256ada1b00b": {
          "model_module": "@jupyter-widgets/controls",
          "model_name": "HTMLModel",
          "model_module_version": "1.5.0",
          "state": {
            "_view_name": "HTMLView",
            "style": "IPY_MODEL_4e9d1464e86246d38c7aea7215c17961",
            "_dom_classes": [],
            "description": "",
            "_model_name": "HTMLModel",
            "placeholder": "​",
            "_view_module": "@jupyter-widgets/controls",
            "_model_module_version": "1.5.0",
            "value": " 5120/? [00:00&lt;00:00, 130869.11it/s]",
            "_view_count": null,
            "_view_module_version": "1.5.0",
            "description_tooltip": null,
            "_model_module": "@jupyter-widgets/controls",
            "layout": "IPY_MODEL_a6d148ee6ed94385ab089064e5929d62"
          }
        },
        "2f0fd7d8e8324258a783272bbd849455": {
          "model_module": "@jupyter-widgets/controls",
          "model_name": "DescriptionStyleModel",
          "model_module_version": "1.5.0",
          "state": {
            "_view_name": "StyleView",
            "_model_name": "DescriptionStyleModel",
            "description_width": "",
            "_view_module": "@jupyter-widgets/base",
            "_model_module_version": "1.5.0",
            "_view_count": null,
            "_view_module_version": "1.2.0",
            "_model_module": "@jupyter-widgets/controls"
          }
        },
        "a6de0098fd7e42ee989d80e7c7909c0e": {
          "model_module": "@jupyter-widgets/base",
          "model_name": "LayoutModel",
          "model_module_version": "1.2.0",
          "state": {
            "_view_name": "LayoutView",
            "grid_template_rows": null,
            "right": null,
            "justify_content": null,
            "_view_module": "@jupyter-widgets/base",
            "overflow": null,
            "_model_module_version": "1.2.0",
            "_view_count": null,
            "flex_flow": null,
            "width": null,
            "min_width": null,
            "border": null,
            "align_items": null,
            "bottom": null,
            "_model_module": "@jupyter-widgets/base",
            "top": null,
            "grid_column": null,
            "overflow_y": null,
            "overflow_x": null,
            "grid_auto_flow": null,
            "grid_area": null,
            "grid_template_columns": null,
            "flex": null,
            "_model_name": "LayoutModel",
            "justify_items": null,
            "grid_row": null,
            "max_height": null,
            "align_content": null,
            "visibility": null,
            "align_self": null,
            "height": null,
            "min_height": null,
            "padding": null,
            "grid_auto_rows": null,
            "grid_gap": null,
            "max_width": null,
            "order": null,
            "_view_module_version": "1.2.0",
            "grid_template_areas": null,
            "object_position": null,
            "object_fit": null,
            "grid_auto_columns": null,
            "margin": null,
            "display": null,
            "left": null
          }
        },
        "d3a4c274896f4233b989cab68c0a55a5": {
          "model_module": "@jupyter-widgets/controls",
          "model_name": "ProgressStyleModel",
          "model_module_version": "1.5.0",
          "state": {
            "_view_name": "StyleView",
            "_model_name": "ProgressStyleModel",
            "description_width": "",
            "_view_module": "@jupyter-widgets/base",
            "_model_module_version": "1.5.0",
            "_view_count": null,
            "_view_module_version": "1.2.0",
            "bar_color": null,
            "_model_module": "@jupyter-widgets/controls"
          }
        },
        "456add2b197b41688948c70ef68dce21": {
          "model_module": "@jupyter-widgets/base",
          "model_name": "LayoutModel",
          "model_module_version": "1.2.0",
          "state": {
            "_view_name": "LayoutView",
            "grid_template_rows": null,
            "right": null,
            "justify_content": null,
            "_view_module": "@jupyter-widgets/base",
            "overflow": null,
            "_model_module_version": "1.2.0",
            "_view_count": null,
            "flex_flow": null,
            "width": null,
            "min_width": null,
            "border": null,
            "align_items": null,
            "bottom": null,
            "_model_module": "@jupyter-widgets/base",
            "top": null,
            "grid_column": null,
            "overflow_y": null,
            "overflow_x": null,
            "grid_auto_flow": null,
            "grid_area": null,
            "grid_template_columns": null,
            "flex": null,
            "_model_name": "LayoutModel",
            "justify_items": null,
            "grid_row": null,
            "max_height": null,
            "align_content": null,
            "visibility": null,
            "align_self": null,
            "height": null,
            "min_height": null,
            "padding": null,
            "grid_auto_rows": null,
            "grid_gap": null,
            "max_width": null,
            "order": null,
            "_view_module_version": "1.2.0",
            "grid_template_areas": null,
            "object_position": null,
            "object_fit": null,
            "grid_auto_columns": null,
            "margin": null,
            "display": null,
            "left": null
          }
        },
        "4e9d1464e86246d38c7aea7215c17961": {
          "model_module": "@jupyter-widgets/controls",
          "model_name": "DescriptionStyleModel",
          "model_module_version": "1.5.0",
          "state": {
            "_view_name": "StyleView",
            "_model_name": "DescriptionStyleModel",
            "description_width": "",
            "_view_module": "@jupyter-widgets/base",
            "_model_module_version": "1.5.0",
            "_view_count": null,
            "_view_module_version": "1.2.0",
            "_model_module": "@jupyter-widgets/controls"
          }
        },
        "a6d148ee6ed94385ab089064e5929d62": {
          "model_module": "@jupyter-widgets/base",
          "model_name": "LayoutModel",
          "model_module_version": "1.2.0",
          "state": {
            "_view_name": "LayoutView",
            "grid_template_rows": null,
            "right": null,
            "justify_content": null,
            "_view_module": "@jupyter-widgets/base",
            "overflow": null,
            "_model_module_version": "1.2.0",
            "_view_count": null,
            "flex_flow": null,
            "width": null,
            "min_width": null,
            "border": null,
            "align_items": null,
            "bottom": null,
            "_model_module": "@jupyter-widgets/base",
            "top": null,
            "grid_column": null,
            "overflow_y": null,
            "overflow_x": null,
            "grid_auto_flow": null,
            "grid_area": null,
            "grid_template_columns": null,
            "flex": null,
            "_model_name": "LayoutModel",
            "justify_items": null,
            "grid_row": null,
            "max_height": null,
            "align_content": null,
            "visibility": null,
            "align_self": null,
            "height": null,
            "min_height": null,
            "padding": null,
            "grid_auto_rows": null,
            "grid_gap": null,
            "max_width": null,
            "order": null,
            "_view_module_version": "1.2.0",
            "grid_template_areas": null,
            "object_position": null,
            "object_fit": null,
            "grid_auto_columns": null,
            "margin": null,
            "display": null,
            "left": null
          }
        }
      }
    }
  },
  "cells": [
    {
      "cell_type": "markdown",
      "metadata": {
        "id": "view-in-github",
        "colab_type": "text"
      },
      "source": [
        "<a href=\"https://colab.research.google.com/github/sergfer26/Proyectos-II/blob/main/semana4/clase11.ipynb\" target=\"_parent\"><img src=\"https://colab.research.google.com/assets/colab-badge.svg\" alt=\"Open In Colab\"/></a>"
      ]
    },
    {
      "cell_type": "markdown",
      "metadata": {
        "id": "zwoUrPZb5sCb"
      },
      "source": [
        "# Reconocimiento de digitos escritos a mano usando redes neuronales \n",
        "\n",
        "En esta clase aprenderemos como implementar una red neuronal en Pytorch para clasificar imágenes. Usaremos el conjunto de imágenes de dígitos escritos a mano MNIST. Este conjunto de datos consta de $60,000$ imágenes de entrenamiento  y $10, 000$ imágenes de prueba. Estas imágenes son de $10$ dígitos de $0,1,2, 3, 4, 5, 6, 7, 8$ y $9$, estan uniformemente distribuidas.\n",
        "\n",
        "**Objetivo:** Diseñar y entrenar una red neuronal que sea capaz de reconocer (clasificar) los digitos que aparecen en el conjunto MNIST. "
      ]
    },
    {
      "cell_type": "code",
      "metadata": {
        "id": "hTCHHNZg5K_0"
      },
      "source": [
        "import torch \n",
        "import time\n",
        "import matplotlib \n",
        "import numpy as np\n",
        "from tqdm import tqdm\n",
        "from torch import nn, optim\n",
        "from matplotlib import pyplot as plt\n",
        "matplotlib.style.use('ggplot')"
      ],
      "execution_count": 1,
      "outputs": []
    },
    {
      "cell_type": "markdown",
      "metadata": {
        "id": "-_YfVHfe_MDb"
      },
      "source": [
        "## Carga de conjunto de datos\n",
        "\n",
        "Usaremos la biblioteca torchvison que es parte de todo el proyecto de pytorch. Esta biblioteca reune datasets populares, modelos de redes neuronales preentrenados y diversas herramientas para visión por computadora. De esta biblioteca descargaremos el conjunto MNIST. Para revisar la documentación favor de visitar su [sitio](https://pytorch.org/vision/stable/index.html).\n",
        "\n",
        "![Screen Shot 2021-10-15 at 7.44.31.png](data:image/png;base64,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)\n",
        "\n"
      ]
    },
    {
      "cell_type": "code",
      "metadata": {
        "colab": {
          "base_uri": "https://localhost:8080/",
          "height": 871,
          "referenced_widgets": [
            "25e30b67cb3f40fbbfa7cafd63061331",
            "6b3af0b0653e4c14929538aa9cdfb194",
            "7dea1a553c9d40119ac8e53623c6dd57",
            "ea5deee17c9949d39febffe8bde22b3b",
            "04f88cf11c0b4b21b4797cf9cb5196a2",
            "6dfef277c47b41bdbb4cd8f5e5f32b90",
            "4afbb372608847a9b8321d26c9232834",
            "da8ca156c1144fe680a210f258b23be2",
            "863dd37035d54cd1907341c16508b06e",
            "bec02f1ed0a242598183469f484a4e52",
            "a83ae325282e45fd8a8fac74c2dfb20c",
            "66df155c05bc475392850b1b5cbc230e",
            "cdb873182ef347b68e461355656ec0b7",
            "63a483d3da5e4a038182aa6656586fc2",
            "a34f0fa6b90344c2b73d9606582ebecd",
            "e1b10d492f74489889dfbae2ddecc2a2",
            "e7449a172a114fc9aaf654a34ca93ae3",
            "aec1af551760482e940fae3bf4fc05df",
            "3ddb0e89f8294eb491e59d07323c1798",
            "97c1cf16e6574452838e823d956913ac",
            "9714f7af0b434ab4a63fe69a514a22dc",
            "16c84d565d234b89bdd9dfff1f7cef75",
            "072664573fac4405adc3939186267919",
            "cdae63b319f04946aff02c42f1de935c",
            "f7bd63bff83142af894f5620c10c6148",
            "e6b9333c66e7426e84ab8e78e242d394",
            "607e653337ee4e2680b25371ede93f19",
            "ad11491ae2864c5fa547761e0496212e",
            "1d60bb1cfa62455c8e33f5def9c14a5b",
            "6a675c93494d4433b4b63f30a5583db2",
            "e9a84a865229407a903eed3541203d55",
            "538d488ad6694aaa85f34ad98b760451",
            "90308cff49d340ca930d5909af384379",
            "1b31c8e8245d4654828cfcbca553ca38",
            "664d356005ab411e848b08e534f6761e",
            "8d0059e9ff094b759d238a92dddf18be",
            "fc2992d1da684b5a849a81118ece940b",
            "621cce48565a4256b6a8273ae88bed18",
            "a0220ccfbbe64d3caaacc40b845a5366",
            "fc4871d12b984be6a03100af532633c8",
            "4bb551d906304abfb9c0e58f0798c66c",
            "31a36d30358a40a4a824e62e4afcd357",
            "e88d66ddd74b4f45bddbfa216cef2632",
            "25626ccc4280498787b3095e96c7abe2",
            "ac49afbf587541b9bb8b86558ad54873",
            "219ca0835ed44001acd3181be542be41",
            "257da7d492a94107b5e9d789bfe3c002",
            "13d2599740b54d7a8bd3ad4eb7bc1d72",
            "5db39ed874384d519ec55a20bdb559e4",
            "6ce95136faad4820915823a5358018a7",
            "812f1f234801433d93abbfbd1d0c3723",
            "bff4f130a88f4c9c9df8ee8e767469ad",
            "7791c465c1ae41abb93f179bf15ab8aa",
            "2894a4462d014fbcb2ff8d0b96907929",
            "0c5b5dc781cd4ab79c7c9234c9608943",
            "a692e045f1fc4c94b1cc355d8aff76d7",
            "9ac830b8bd434d7aa25227de500e84a4",
            "01e74109c265451a9992c5c35ad81e91",
            "476fa8394d6a47389a8695e616dce468",
            "eb12872c4838427da07c5e63f568c23d",
            "36a034d1c1f7451a997c14376bde6e35",
            "a4cdce626e8447169e39824af2337060",
            "5ded4c0cedca47f293e4db4d6041c505",
            "a3cf205a2c104c4c9a58557e8662ed22",
            "4efc94906cd6406d8dfd92736aff1e01",
            "b91a5f8790bc4986ae5211d73579c8db",
            "9c6cb2ba13c64d6485db9c105c761f14",
            "d8ba48eb473343f9b5654a29013eb563",
            "37d79cae8dd345b2a30d349d87f6537c",
            "08ec33eefb864d138571ae4957900fea",
            "550de81f4397473b82ac0d73235c5373",
            "6abe206c23e54d49842e108999baa2fa",
            "02403a4c3d4b422b9c817d51d7ddb15f",
            "adec9c34315c4df9a9c40731f4650a85",
            "4ec77da66ee64023a537c3e7142c66ae",
            "de9cfec28678457a93d03991d1c9135c",
            "efc845ec2e7841498fcaa175fe841bbd",
            "65f0151c2a7f44ee8d186f44340df4a9",
            "e500f83b21fe4361ab2e19ffbbe8e412",
            "6966578c834149239d661151bd3ccfb5",
            "7982a296ae9f4cbdbdabba4a2a2b3fee",
            "c3b8bcd9d29e4cf685396256ada1b00b",
            "2f0fd7d8e8324258a783272bbd849455",
            "a6de0098fd7e42ee989d80e7c7909c0e",
            "d3a4c274896f4233b989cab68c0a55a5",
            "456add2b197b41688948c70ef68dce21",
            "4e9d1464e86246d38c7aea7215c17961",
            "a6d148ee6ed94385ab089064e5929d62"
          ]
        },
        "id": "7OhbQuLA_8Ac",
        "outputId": "ad791b18-6ab8-4619-9d30-c3bedd52ee89"
      },
      "source": [
        "import torchvision # módulo para manipular o transformar imágenes\n",
        "from torchvision import transforms\n",
        "from torchvision.datasets import MNIST\n",
        "\n",
        "my_transform = transforms.Compose([\n",
        "    transforms.ToTensor(), \n",
        "    #transforms.Normalize((0.5,),(0.5,)),\n",
        "    #transform.Lambda(lambda x: torch.flatten(x))\n",
        "])\n",
        "\n",
        "train_set = MNIST('PATH_TO_STORE_TRAINSET', \n",
        "                         download=True, train=True, transform=my_transform)\n",
        "\n",
        "test_set_ = MNIST('PATH_TO_STORE_TESTSET', \n",
        "                         download=True, train=False, transform=my_transform)"
      ],
      "execution_count": 2,
      "outputs": [
        {
          "output_type": "stream",
          "name": "stdout",
          "text": [
            "Downloading http://yann.lecun.com/exdb/mnist/train-images-idx3-ubyte.gz\n",
            "Downloading http://yann.lecun.com/exdb/mnist/train-images-idx3-ubyte.gz to PATH_TO_STORE_TRAINSET/MNIST/raw/train-images-idx3-ubyte.gz\n"
          ]
        },
        {
          "output_type": "display_data",
          "data": {
            "application/vnd.jupyter.widget-view+json": {
              "model_id": "25e30b67cb3f40fbbfa7cafd63061331",
              "version_minor": 0,
              "version_major": 2
            },
            "text/plain": [
              "  0%|          | 0/9912422 [00:00<?, ?it/s]"
            ]
          },
          "metadata": {}
        },
        {
          "output_type": "stream",
          "name": "stdout",
          "text": [
            "Extracting PATH_TO_STORE_TRAINSET/MNIST/raw/train-images-idx3-ubyte.gz to PATH_TO_STORE_TRAINSET/MNIST/raw\n",
            "\n",
            "Downloading http://yann.lecun.com/exdb/mnist/train-labels-idx1-ubyte.gz\n",
            "Downloading http://yann.lecun.com/exdb/mnist/train-labels-idx1-ubyte.gz to PATH_TO_STORE_TRAINSET/MNIST/raw/train-labels-idx1-ubyte.gz\n"
          ]
        },
        {
          "output_type": "display_data",
          "data": {
            "application/vnd.jupyter.widget-view+json": {
              "model_id": "66df155c05bc475392850b1b5cbc230e",
              "version_minor": 0,
              "version_major": 2
            },
            "text/plain": [
              "  0%|          | 0/28881 [00:00<?, ?it/s]"
            ]
          },
          "metadata": {}
        },
        {
          "output_type": "stream",
          "name": "stdout",
          "text": [
            "Extracting PATH_TO_STORE_TRAINSET/MNIST/raw/train-labels-idx1-ubyte.gz to PATH_TO_STORE_TRAINSET/MNIST/raw\n",
            "\n",
            "Downloading http://yann.lecun.com/exdb/mnist/t10k-images-idx3-ubyte.gz\n",
            "Downloading http://yann.lecun.com/exdb/mnist/t10k-images-idx3-ubyte.gz to PATH_TO_STORE_TRAINSET/MNIST/raw/t10k-images-idx3-ubyte.gz\n"
          ]
        },
        {
          "output_type": "display_data",
          "data": {
            "application/vnd.jupyter.widget-view+json": {
              "model_id": "072664573fac4405adc3939186267919",
              "version_minor": 0,
              "version_major": 2
            },
            "text/plain": [
              "  0%|          | 0/1648877 [00:00<?, ?it/s]"
            ]
          },
          "metadata": {}
        },
        {
          "output_type": "stream",
          "name": "stdout",
          "text": [
            "Extracting PATH_TO_STORE_TRAINSET/MNIST/raw/t10k-images-idx3-ubyte.gz to PATH_TO_STORE_TRAINSET/MNIST/raw\n",
            "\n",
            "Downloading http://yann.lecun.com/exdb/mnist/t10k-labels-idx1-ubyte.gz\n",
            "Downloading http://yann.lecun.com/exdb/mnist/t10k-labels-idx1-ubyte.gz to PATH_TO_STORE_TRAINSET/MNIST/raw/t10k-labels-idx1-ubyte.gz\n"
          ]
        },
        {
          "output_type": "display_data",
          "data": {
            "application/vnd.jupyter.widget-view+json": {
              "model_id": "1b31c8e8245d4654828cfcbca553ca38",
              "version_minor": 0,
              "version_major": 2
            },
            "text/plain": [
              "  0%|          | 0/4542 [00:00<?, ?it/s]"
            ]
          },
          "metadata": {}
        },
        {
          "output_type": "stream",
          "name": "stdout",
          "text": [
            "Extracting PATH_TO_STORE_TRAINSET/MNIST/raw/t10k-labels-idx1-ubyte.gz to PATH_TO_STORE_TRAINSET/MNIST/raw\n",
            "\n",
            "Downloading http://yann.lecun.com/exdb/mnist/train-images-idx3-ubyte.gz\n",
            "Downloading http://yann.lecun.com/exdb/mnist/train-images-idx3-ubyte.gz to PATH_TO_STORE_TESTSET/MNIST/raw/train-images-idx3-ubyte.gz\n"
          ]
        },
        {
          "output_type": "stream",
          "name": "stderr",
          "text": [
            "/usr/local/lib/python3.7/dist-packages/torchvision/datasets/mnist.py:498: UserWarning: The given NumPy array is not writeable, and PyTorch does not support non-writeable tensors. This means you can write to the underlying (supposedly non-writeable) NumPy array using the tensor. You may want to copy the array to protect its data or make it writeable before converting it to a tensor. This type of warning will be suppressed for the rest of this program. (Triggered internally at  /pytorch/torch/csrc/utils/tensor_numpy.cpp:180.)\n",
            "  return torch.from_numpy(parsed.astype(m[2], copy=False)).view(*s)\n"
          ]
        },
        {
          "output_type": "display_data",
          "data": {
            "application/vnd.jupyter.widget-view+json": {
              "model_id": "ac49afbf587541b9bb8b86558ad54873",
              "version_minor": 0,
              "version_major": 2
            },
            "text/plain": [
              "  0%|          | 0/9912422 [00:00<?, ?it/s]"
            ]
          },
          "metadata": {}
        },
        {
          "output_type": "stream",
          "name": "stdout",
          "text": [
            "Extracting PATH_TO_STORE_TESTSET/MNIST/raw/train-images-idx3-ubyte.gz to PATH_TO_STORE_TESTSET/MNIST/raw\n",
            "\n",
            "Downloading http://yann.lecun.com/exdb/mnist/train-labels-idx1-ubyte.gz\n",
            "Downloading http://yann.lecun.com/exdb/mnist/train-labels-idx1-ubyte.gz to PATH_TO_STORE_TESTSET/MNIST/raw/train-labels-idx1-ubyte.gz\n"
          ]
        },
        {
          "output_type": "display_data",
          "data": {
            "application/vnd.jupyter.widget-view+json": {
              "model_id": "a692e045f1fc4c94b1cc355d8aff76d7",
              "version_minor": 0,
              "version_major": 2
            },
            "text/plain": [
              "  0%|          | 0/28881 [00:00<?, ?it/s]"
            ]
          },
          "metadata": {}
        },
        {
          "output_type": "stream",
          "name": "stdout",
          "text": [
            "Extracting PATH_TO_STORE_TESTSET/MNIST/raw/train-labels-idx1-ubyte.gz to PATH_TO_STORE_TESTSET/MNIST/raw\n",
            "\n",
            "Downloading http://yann.lecun.com/exdb/mnist/t10k-images-idx3-ubyte.gz\n",
            "Downloading http://yann.lecun.com/exdb/mnist/t10k-images-idx3-ubyte.gz to PATH_TO_STORE_TESTSET/MNIST/raw/t10k-images-idx3-ubyte.gz\n"
          ]
        },
        {
          "output_type": "display_data",
          "data": {
            "application/vnd.jupyter.widget-view+json": {
              "model_id": "9c6cb2ba13c64d6485db9c105c761f14",
              "version_minor": 0,
              "version_major": 2
            },
            "text/plain": [
              "  0%|          | 0/1648877 [00:00<?, ?it/s]"
            ]
          },
          "metadata": {}
        },
        {
          "output_type": "stream",
          "name": "stdout",
          "text": [
            "Extracting PATH_TO_STORE_TESTSET/MNIST/raw/t10k-images-idx3-ubyte.gz to PATH_TO_STORE_TESTSET/MNIST/raw\n",
            "\n",
            "Downloading http://yann.lecun.com/exdb/mnist/t10k-labels-idx1-ubyte.gz\n",
            "Downloading http://yann.lecun.com/exdb/mnist/t10k-labels-idx1-ubyte.gz to PATH_TO_STORE_TESTSET/MNIST/raw/t10k-labels-idx1-ubyte.gz\n"
          ]
        },
        {
          "output_type": "display_data",
          "data": {
            "application/vnd.jupyter.widget-view+json": {
              "model_id": "65f0151c2a7f44ee8d186f44340df4a9",
              "version_minor": 0,
              "version_major": 2
            },
            "text/plain": [
              "  0%|          | 0/4542 [00:00<?, ?it/s]"
            ]
          },
          "metadata": {}
        },
        {
          "output_type": "stream",
          "name": "stdout",
          "text": [
            "Extracting PATH_TO_STORE_TESTSET/MNIST/raw/t10k-labels-idx1-ubyte.gz to PATH_TO_STORE_TESTSET/MNIST/raw\n",
            "\n"
          ]
        }
      ]
    },
    {
      "cell_type": "code",
      "metadata": {
        "colab": {
          "base_uri": "https://localhost:8080/"
        },
        "id": "Zk-mG67qCVVb",
        "outputId": "cb8810e7-edf7-47f2-9a0d-cfd50f6a9526"
      },
      "source": [
        "n_train = len(train_set)\n",
        "print('Se tienen {} de datos de entrenamiento'.format(n_train))\n",
        "print('Se tienen {} de datos de prueba'.format(len(test_set_)))"
      ],
      "execution_count": 3,
      "outputs": [
        {
          "output_type": "stream",
          "name": "stdout",
          "text": [
            "Se tienen 60000 de datos de entrenamiento\n",
            "Se tienen 10000 de datos de prueba\n"
          ]
        }
      ]
    },
    {
      "cell_type": "markdown",
      "metadata": {
        "id": "6zjqAoW1CUf7"
      },
      "source": [
        "## Dataset\n",
        "\n",
        "Ahora dividiremos `test_set` en dos par tener imágenes que podamos usar de validación en el entrenamiento."
      ]
    },
    {
      "cell_type": "code",
      "metadata": {
        "id": "jsfYIWPxDvpS"
      },
      "source": [
        "val_size = 0.5 # parte para validar\n",
        "n = len(test_set_)\n",
        "indices = list(range(n))\n",
        "np.random.shuffle(indices) # revolvemos los indices\n",
        "split = int(np.floor(val_size * n)) \n",
        "test_idx, val_idx = indices[split:], indices[:split] # seprarmos los indices\n",
        "\n",
        "test_set = torch.utils.data.Subset(test_set_, test_idx) # tomamos un subconjunto de acuerdo a los indices\n",
        "val_set = torch.utils.data.Subset(test_set_, val_idx)\n",
        "n_test = len(test_set)\n",
        "n_val = len(val_set) "
      ],
      "execution_count": 4,
      "outputs": []
    },
    {
      "cell_type": "markdown",
      "metadata": {
        "id": "W673N7nNW2DK"
      },
      "source": [
        "## Dataloader\n"
      ]
    },
    {
      "cell_type": "code",
      "metadata": {
        "id": "BM-_KFuzW-kl"
      },
      "source": [
        "train_loader = torch.utils.data.DataLoader(train_set,\n",
        "                                          batch_size=256, shuffle=True)\n",
        "\n",
        "val_loader = torch.utils.data.DataLoader(val_set,\n",
        "                                          batch_size=256, shuffle=True)\n",
        "\n",
        "test_loader = torch.utils.data.DataLoader(test_set,\n",
        "                                          batch_size=n_test, shuffle=False)"
      ],
      "execution_count": 5,
      "outputs": []
    },
    {
      "cell_type": "markdown",
      "metadata": {
        "id": "atFjlPDpxu6u"
      },
      "source": [
        "## Exploración y análisis de las imágenes\n",
        "\n",
        "En esta sección haremos una exploración y análisis de las imagenes de nuestro conjunto de datos. En la siguiente instrucción desempaquetamos las etiquetas y las imagenes del conjunto de entrenamiento."
      ]
    },
    {
      "cell_type": "code",
      "metadata": {
        "id": "se-wrvUIxy3U"
      },
      "source": [
        "dataiter = iter(train_loader)\n",
        "images, labels = dataiter.next()"
      ],
      "execution_count": 6,
      "outputs": []
    },
    {
      "cell_type": "code",
      "metadata": {
        "colab": {
          "base_uri": "https://localhost:8080/"
        },
        "id": "6ldTnaRlx6wr",
        "outputId": "2d753178-2eef-4d5a-c190-987b74e38ae8"
      },
      "source": [
        "print('(n_batch, # de canales, px, px) : ',images.shape)\n",
        "print('n_batch : {}'.format(labels.shape[0]))"
      ],
      "execution_count": 7,
      "outputs": [
        {
          "output_type": "stream",
          "name": "stdout",
          "text": [
            "(n_batch, # de canales, px, px) :  torch.Size([256, 1, 28, 28])\n",
            "n_batch : 256\n"
          ]
        }
      ]
    },
    {
      "cell_type": "code",
      "metadata": {
        "colab": {
          "base_uri": "https://localhost:8080/",
          "height": 282
        },
        "id": "ASXNpbNqy4BV",
        "outputId": "b57ed517-4964-4767-af68-6649e9f52018"
      },
      "source": [
        "index = 10\n",
        "plt.imshow(images[index].numpy().squeeze(), cmap='gray_r'); \n",
        "print('dígito: ',int(labels[index]))"
      ],
      "execution_count": 8,
      "outputs": [
        {
          "output_type": "stream",
          "name": "stdout",
          "text": [
            "dígito:  1\n"
          ]
        },
        {
          "output_type": "display_data",
          "data": {
            "image/png": "[encoded data removed]",
            "text/plain": [
              "<Figure size 432x288 with 1 Axes>"
            ]
          },
          "metadata": {
            "needs_background": "light"
          }
        }
      ]
    },
    {
      "cell_type": "markdown",
      "metadata": {
        "id": "CFeu36WL1qnf"
      },
      "source": [
        "## Definición de la arquitectura de la red Arquitectura de la red\n",
        "\n",
        "Sea $\\mathcal{I}: \\mathbb{R}^{k \\times 1 \\times 28 \\times 28} \\rightarrow \\mathbb{R}^{756}$ un isomorfismo. Sea $f_a(\\cdot |\\theta): \\mathbb{R}^{k \\times 784}\\rightarrow \\mathbb{R}^{k \\times 10}$ con $a=\\langle [784, 512, 512, 10] \\{\\text{ReLU, ReLU, Linear}\\}\\rangle$ la red neuronal que usaremos para la tarea de clasificación. \n",
        "\n",
        "En la primera capa usaremos $\\mathcal{I}$ de la siguiente manera: \n",
        "\n",
        "$$\\text{ReLu}\\left((\\mathcal{I}\\circ X) W^{[1]\\top} + \\mathbf{b}^{[1]\\top}\\right)\\quad X\\in \\mathbb{R}^{k \\times 1 \\times 28 \\times 28}$$\n",
        "\n",
        "El modelo completo esta dado por la siguiente expresión: \n",
        "$$\\text{Softmax}\\circ f(\\mathcal{I}\\circ\\cdot|\\theta): \\mathbb{R}^{k \\times 1 \\times 28 \\times 28} \\rightarrow [0, 1]^{10}.$$\n",
        "\n",
        "En `torch` hay multiples maneras de representar a $\\mathcal{I}$ en este caso usaremos `Flatten()` del módulo `nn.torch`."
      ]
    },
    {
      "cell_type": "code",
      "metadata": {
        "id": "JyHJ5qof4HNx"
      },
      "source": [
        "from collections import OrderedDict\n",
        "\n",
        "# define model architecture\n",
        "classifier = nn.Sequential(OrderedDict([\n",
        "    ('h0', nn.Flatten()),\n",
        "    ('z1', nn.Linear(28 * 28, 512)),\n",
        "    ('h1', nn.ReLU()),\n",
        "    ('z2', nn.Linear(512, 512)),\n",
        "    ('h2', nn.ReLU()),\n",
        "    ('z3', nn.Linear(512, 10)),\n",
        "]))"
      ],
      "execution_count": 9,
      "outputs": []
    },
    {
      "cell_type": "markdown",
      "metadata": {
        "id": "ivfv_vRZ6-XT"
      },
      "source": [
        "## Función objetivo y optimizador\n",
        "* Función objetivo: [Categorical Cross Entropy Loss](https://pytorch.org/docs/stable/generated/torch.nn.CrossEntropyLoss.html).\n",
        "* Optimizador: [RMSPROP](https://pytorch.org/docs/stable/generated/torch.optim.RMSprop.html)."
      ]
    },
    {
      "cell_type": "code",
      "metadata": {
        "id": "gVPhgM2T7TUR"
      },
      "source": [
        "criterion = nn.CrossEntropyLoss()\n",
        "params = classifier.parameters()\n",
        "optimizer = torch.optim.RMSprop(params, lr=0.001, alpha=0.9, eps=1e-07, weight_decay=0, momentum=0, centered=False)"
      ],
      "execution_count": 10,
      "outputs": []
    },
    {
      "cell_type": "markdown",
      "metadata": {
        "id": "8FqYam8Z8h_I"
      },
      "source": [
        "## Entrenamiento\n",
        "\n",
        "1. Paso de entrenamiento por época (*epoch*)."
      ]
    },
    {
      "cell_type": "code",
      "metadata": {
        "id": "EnXaU9328rQa"
      },
      "source": [
        "import torch.nn.functional as F\n",
        "\n",
        "def fit(model, dataloader, optimizer, criterion, pbar, train=True):\n",
        "  running_loss = 0.0\n",
        "  correct = 0\n",
        "  total = 0\n",
        "  for i, data in enumerate(dataloader, 0):\n",
        "    X, Y = data\n",
        "    if train:\n",
        "      optimizer.zero_grad() # reinicia el gradiente\n",
        "    pred = model(X) # forward pass \n",
        "    loss = criterion(pred, Y) # evaluación de predicción\n",
        "    if train:\n",
        "      loss.backward() # cálcula las derivadas \n",
        "      optimizer.step() # paso de optimización \n",
        "\n",
        "    running_loss += loss.item()\n",
        "    avg_loss = running_loss/(i + 1)\n",
        "    probs = F.softmax(pred, 1)\n",
        "    label = torch.argmax(probs, dim=1)\n",
        "    correct += torch.sum(label == Y).item()\n",
        "    total += Y.shape[0]\n",
        "    acc = correct/total\n",
        "        \n",
        "    pbar.set_postfix(avg_loss='{:.4f}'.format(avg_loss), acc='{:.4f}'.format(acc))\n",
        "    pbar.update(Y.shape[0])\n",
        "  return avg_loss, acc"
      ],
      "execution_count": 11,
      "outputs": []
    },
    {
      "cell_type": "markdown",
      "metadata": {
        "id": "W3LSnRZP86Tg"
      },
      "source": [
        "2. Ciclo de entrenamiento"
      ]
    },
    {
      "cell_type": "code",
      "metadata": {
        "id": "VEs8kuIT9Dyb"
      },
      "source": [
        "def train(model, train_loader, val_loader, optimizer, criterion, epochs=20):\n",
        "  train_time = 0\n",
        "  epoch_loss = list(); epoch_acc = list()\n",
        "  val_loss = list(); val_acc = list()\n",
        "\n",
        "  n_train = len(train_loader.dataset)\n",
        "  n_val = len(val_loader.dataset)\n",
        "  model.train() # -> aplica drop si lo tiene el modelo y lleva registro de los gradientes\n",
        "  for epoch in range(epochs):\n",
        "    start_time = time.time()\n",
        "    with tqdm(total=n_train, position=0) as pbar_train:\n",
        "      pbar_train.set_description(f'Epoch {epoch + 1}/'+str(epochs)+' - train')\n",
        "      pbar_train.set_postfix(avg_loss='0.0', acc='0.0')\n",
        "      loss_train, acc_train = fit(model, train_loader, optimizer, criterion, pbar_train)\n",
        "      train_time +=  time.time() - start_time\n",
        "    model.eval() # -> de esta forma no incluye dropout, ni lleva registro de los gradientes\n",
        "    with tqdm(total=n_val, position=0) as pbar_val:\n",
        "      pbar_val.set_description(f'Epoch {epoch + 1}/'+str(epochs)+' - val')\n",
        "      pbar_val.set_postfix(avg_loss='0.0', acc='0.0')\n",
        "      loss_val, acc_val = fit(model, val_loader, optimizer, criterion, pbar_val, train=False)\n",
        "\n",
        "    epoch_loss.append(loss_train)\n",
        "    epoch_acc.append(acc_train)\n",
        "\n",
        "    val_loss.append(loss_val)\n",
        "    val_acc.append(acc_val)\n",
        "\n",
        "  return epoch_loss, epoch_acc, val_loss, val_acc, train_time"
      ],
      "execution_count": 12,
      "outputs": []
    },
    {
      "cell_type": "code",
      "metadata": {
        "colab": {
          "base_uri": "https://localhost:8080/"
        },
        "id": "65uzcFG3-y19",
        "outputId": "2aaf95a1-2c4d-4f76-dc1e-4279315ee3d6"
      },
      "source": [
        "epoch_loss, epoch_acc, val_loss, val_acc, train_time = train(classifier, train_loader, val_loader, optimizer, criterion)\n",
        "print(\"\\n --- %s seconds ---\", train_time)"
      ],
      "execution_count": 13,
      "outputs": [
        {
          "output_type": "stream",
          "name": "stderr",
          "text": [
            "Epoch 1/20 - train: 100%|██████████| 60000/60000 [00:12<00:00, 4907.42it/s, acc=0.8969, avg_loss=0.3310]\n",
            "Epoch 1/20 - val: 100%|██████████| 5000/5000 [00:00<00:00, 6873.45it/s, acc=0.9524, avg_loss=0.1492]\n",
            "Epoch 2/20 - train: 100%|██████████| 60000/60000 [00:11<00:00, 5166.35it/s, acc=0.9669, avg_loss=0.1101]\n",
            "Epoch 2/20 - val: 100%|██████████| 5000/5000 [00:00<00:00, 6998.58it/s, acc=0.9728, avg_loss=0.0894]\n",
            "Epoch 3/20 - train: 100%|██████████| 60000/60000 [00:11<00:00, 5063.85it/s, acc=0.9788, avg_loss=0.0675]\n",
            "Epoch 3/20 - val: 100%|██████████| 5000/5000 [00:00<00:00, 6765.83it/s, acc=0.9800, avg_loss=0.0607]\n",
            "Epoch 4/20 - train: 100%|██████████| 60000/60000 [00:11<00:00, 5020.22it/s, acc=0.9842, avg_loss=0.0495]\n",
            "Epoch 4/20 - val: 100%|██████████| 5000/5000 [00:00<00:00, 6913.17it/s, acc=0.9726, avg_loss=0.0815]\n",
            "Epoch 5/20 - train: 100%|██████████| 60000/60000 [00:12<00:00, 4957.87it/s, acc=0.9884, avg_loss=0.0354]\n",
            "Epoch 5/20 - val: 100%|██████████| 5000/5000 [00:00<00:00, 6910.04it/s, acc=0.9800, avg_loss=0.0637]\n",
            "Epoch 6/20 - train: 100%|██████████| 60000/60000 [00:12<00:00, 4981.13it/s, acc=0.9917, avg_loss=0.0261]\n",
            "Epoch 6/20 - val: 100%|██████████| 5000/5000 [00:00<00:00, 6864.99it/s, acc=0.9838, avg_loss=0.0643]\n",
            "Epoch 7/20 - train: 100%|██████████| 60000/60000 [00:12<00:00, 4876.94it/s, acc=0.9935, avg_loss=0.0205]\n",
            "Epoch 7/20 - val: 100%|██████████| 5000/5000 [00:00<00:00, 6648.14it/s, acc=0.9830, avg_loss=0.0565]\n",
            "Epoch 8/20 - train: 100%|██████████| 60000/60000 [00:12<00:00, 4884.91it/s, acc=0.9952, avg_loss=0.0154]\n",
            "Epoch 8/20 - val: 100%|██████████| 5000/5000 [00:00<00:00, 6702.49it/s, acc=0.9804, avg_loss=0.0815]\n",
            "Epoch 9/20 - train: 100%|██████████| 60000/60000 [00:12<00:00, 4867.18it/s, acc=0.9957, avg_loss=0.0131]\n",
            "Epoch 9/20 - val: 100%|██████████| 5000/5000 [00:00<00:00, 6748.59it/s, acc=0.9826, avg_loss=0.0702]\n",
            "Epoch 10/20 - train: 100%|██████████| 60000/60000 [00:12<00:00, 4861.61it/s, acc=0.9965, avg_loss=0.0111]\n",
            "Epoch 10/20 - val: 100%|██████████| 5000/5000 [00:00<00:00, 6973.80it/s, acc=0.9812, avg_loss=0.0837]\n",
            "Epoch 11/20 - train: 100%|██████████| 60000/60000 [00:12<00:00, 4840.18it/s, acc=0.9969, avg_loss=0.0100]\n",
            "Epoch 11/20 - val: 100%|██████████| 5000/5000 [00:00<00:00, 6917.14it/s, acc=0.9806, avg_loss=0.0947]\n",
            "Epoch 12/20 - train: 100%|██████████| 60000/60000 [00:12<00:00, 4825.33it/s, acc=0.9973, avg_loss=0.0078]\n",
            "Epoch 12/20 - val: 100%|██████████| 5000/5000 [00:00<00:00, 6548.10it/s, acc=0.9842, avg_loss=0.0754]\n",
            "Epoch 13/20 - train: 100%|██████████| 60000/60000 [00:12<00:00, 4749.23it/s, acc=0.9977, avg_loss=0.0074]\n",
            "Epoch 13/20 - val: 100%|██████████| 5000/5000 [00:00<00:00, 7035.86it/s, acc=0.9826, avg_loss=0.0709]\n",
            "Epoch 14/20 - train: 100%|██████████| 60000/60000 [00:12<00:00, 4689.14it/s, acc=0.9979, avg_loss=0.0062]\n",
            "Epoch 14/20 - val: 100%|██████████| 5000/5000 [00:00<00:00, 6904.66it/s, acc=0.9838, avg_loss=0.0807]\n",
            "Epoch 15/20 - train: 100%|██████████| 60000/60000 [00:12<00:00, 4653.05it/s, acc=0.9979, avg_loss=0.0066]\n",
            "Epoch 15/20 - val: 100%|██████████| 5000/5000 [00:00<00:00, 7192.91it/s, acc=0.9866, avg_loss=0.0783]\n",
            "Epoch 16/20 - train: 100%|██████████| 60000/60000 [00:12<00:00, 4653.91it/s, acc=0.9982, avg_loss=0.0056]\n",
            "Epoch 16/20 - val: 100%|██████████| 5000/5000 [00:00<00:00, 6734.96it/s, acc=0.9806, avg_loss=0.1129]\n",
            "Epoch 17/20 - train: 100%|██████████| 60000/60000 [00:12<00:00, 4661.75it/s, acc=0.9986, avg_loss=0.0045]\n",
            "Epoch 17/20 - val: 100%|██████████| 5000/5000 [00:00<00:00, 7141.73it/s, acc=0.9790, avg_loss=0.1386]\n",
            "Epoch 18/20 - train: 100%|██████████| 60000/60000 [00:13<00:00, 4524.27it/s, acc=0.9985, avg_loss=0.0052]\n",
            "Epoch 18/20 - val: 100%|██████████| 5000/5000 [00:00<00:00, 6539.92it/s, acc=0.9840, avg_loss=0.0955]\n",
            "Epoch 19/20 - train: 100%|██████████| 60000/60000 [00:13<00:00, 4376.02it/s, acc=0.9985, avg_loss=0.0054]\n",
            "Epoch 19/20 - val: 100%|██████████| 5000/5000 [00:00<00:00, 6513.91it/s, acc=0.9862, avg_loss=0.1025]\n",
            "Epoch 20/20 - train: 100%|██████████| 60000/60000 [00:13<00:00, 4407.83it/s, acc=0.9989, avg_loss=0.0044]\n",
            "Epoch 20/20 - val: 100%|██████████| 5000/5000 [00:00<00:00, 6682.73it/s, acc=0.9864, avg_loss=0.0886]"
          ]
        },
        {
          "output_type": "stream",
          "name": "stdout",
          "text": [
            "\n",
            " --- %s seconds --- 250.6717872619629\n"
          ]
        },
        {
          "output_type": "stream",
          "name": "stderr",
          "text": [
            "\n"
          ]
        }
      ]
    },
    {
      "cell_type": "markdown",
      "metadata": {
        "id": "ww22XHVo_TyI"
      },
      "source": [
        "### Evaluación del entrenamiento "
      ]
    },
    {
      "cell_type": "code",
      "metadata": {
        "colab": {
          "base_uri": "https://localhost:8080/",
          "height": 299
        },
        "id": "qCIf5iKj_R8j",
        "outputId": "0d4460a2-e178-4311-8e69-aa4afbd2b96d"
      },
      "source": [
        "plt.plot(epoch_acc)\n",
        "plt.plot(val_acc)\n",
        "plt.title('model accuracy')\n",
        "plt.ylabel('accuracy')\n",
        "plt.xlabel('epoch')\n",
        "plt.legend(['train', 'val'], loc='upper left')\n",
        "plt.show()"
      ],
      "execution_count": 14,
      "outputs": [
        {
          "output_type": "display_data",
          "data": {
            "image/png": "[encoded data removed]",
            "text/plain": [
              "<Figure size 432x288 with 1 Axes>"
            ]
          },
          "metadata": {
            "needs_background": "light"
          }
        }
      ]
    },
    {
      "cell_type": "code",
      "metadata": {
        "colab": {
          "base_uri": "https://localhost:8080/",
          "height": 299
        },
        "id": "2Q8iblMa_he8",
        "outputId": "00370d00-f0a9-4f4b-91c3-d39594f71220"
      },
      "source": [
        "plt.plot(epoch_loss)\n",
        "plt.plot(val_loss)\n",
        "plt.title('model loss')\n",
        "plt.ylabel('loss')\n",
        "plt.xlabel('epoch')\n",
        "plt.legend(['train', 'val'], loc='upper left')\n",
        "plt.show()"
      ],
      "execution_count": 15,
      "outputs": [
        {
          "output_type": "display_data",
          "data": {
            "image/png": "[encoded data removed]",
            "text/plain": [
              "<Figure size 432x288 with 1 Axes>"
            ]
          },
          "metadata": {
            "needs_background": "light"
          }
        }
      ]
    },
    {
      "cell_type": "markdown",
      "metadata": {
        "id": "Mbdo8JFn_uMX"
      },
      "source": [
        "## Entrenamiento con *dropout*\n",
        "### Declaración del modelo\n",
        "\n",
        "Basta con agregar entre cada capa intermedia la función `Dropout(p=0.5, inplace=False)` del módulo `torch.nn`. En este caso `p` es la probabilidad de aniquilar una neurona duarante el entrenamiento\n",
        "\n"
      ]
    },
    {
      "cell_type": "code",
      "metadata": {
        "id": "6eIEqkx4_sPg"
      },
      "source": [
        "model = nn.Sequential(OrderedDict([\n",
        "    ('h0', nn.Flatten()),\n",
        "    ('z1', nn.Linear(28 * 28, 512)),\n",
        "    ('h1', nn.ReLU()),\n",
        "    ('mu1', nn.Dropout(p=0.5)),\n",
        "    ('z2', nn.Linear(512, 512)),\n",
        "    ('h2', nn.ReLU()),\n",
        "    ('mu2', nn.Dropout(p=0.5)),\n",
        "    ('z3', nn.Linear(512, 10)),\n",
        "]))"
      ],
      "execution_count": 16,
      "outputs": []
    },
    {
      "cell_type": "code",
      "metadata": {
        "id": "3wVmgBOIFAYb"
      },
      "source": [
        "params = model.parameters()\n",
        "optimizer = torch.optim.RMSprop(params, lr=0.001, alpha=0.9, eps=1e-07, weight_decay=0, momentum=0, centered=False)"
      ],
      "execution_count": 17,
      "outputs": []
    },
    {
      "cell_type": "code",
      "metadata": {
        "colab": {
          "base_uri": "https://localhost:8080/"
        },
        "id": "yEbWF5WQ_qsP",
        "outputId": "e30904bc-cf25-4736-a98e-8b2383917f13"
      },
      "source": [
        "epoch_loss, epoch_acc, val_loss, val_acc, train_time = train(model, train_loader, val_loader, optimizer, criterion)\n",
        "print(\"\\n --- %s seconds ---\", train_time)"
      ],
      "execution_count": 18,
      "outputs": [
        {
          "output_type": "stream",
          "name": "stderr",
          "text": [
            "Epoch 1/20 - train: 100%|██████████| 60000/60000 [00:12<00:00, 4862.79it/s, acc=0.6566, avg_loss=5.4989]\n",
            "Epoch 1/20 - val: 100%|██████████| 5000/5000 [00:00<00:00, 6755.92it/s, acc=0.8954, avg_loss=0.3504]\n",
            "Epoch 2/20 - train: 100%|██████████| 60000/60000 [00:11<00:00, 5053.26it/s, acc=0.9366, avg_loss=0.2182]\n",
            "Epoch 2/20 - val: 100%|██████████| 5000/5000 [00:00<00:00, 6769.95it/s, acc=0.9302, avg_loss=0.2448]\n",
            "Epoch 3/20 - train: 100%|██████████| 60000/60000 [00:11<00:00, 5035.78it/s, acc=0.9464, avg_loss=0.1885]\n",
            "Epoch 3/20 - val: 100%|██████████| 5000/5000 [00:00<00:00, 6853.37it/s, acc=0.9468, avg_loss=0.1649]\n",
            "Epoch 4/20 - train: 100%|██████████| 60000/60000 [00:11<00:00, 5032.31it/s, acc=0.9613, avg_loss=0.1313]\n",
            "Epoch 4/20 - val: 100%|██████████| 5000/5000 [00:00<00:00, 7002.59it/s, acc=0.9482, avg_loss=0.1915]\n",
            "Epoch 5/20 - train: 100%|██████████| 60000/60000 [00:11<00:00, 5035.84it/s, acc=0.9664, avg_loss=0.1162]\n",
            "Epoch 5/20 - val: 100%|██████████| 5000/5000 [00:00<00:00, 6991.18it/s, acc=0.9640, avg_loss=0.1336]\n",
            "Epoch 6/20 - train: 100%|██████████| 60000/60000 [00:12<00:00, 4998.77it/s, acc=0.9700, avg_loss=0.1018]\n",
            "Epoch 6/20 - val: 100%|██████████| 5000/5000 [00:00<00:00, 7043.67it/s, acc=0.9660, avg_loss=0.1345]\n",
            "Epoch 7/20 - train: 100%|██████████| 60000/60000 [00:11<00:00, 5009.36it/s, acc=0.9736, avg_loss=0.0934]\n",
            "Epoch 7/20 - val: 100%|██████████| 5000/5000 [00:00<00:00, 6828.38it/s, acc=0.9682, avg_loss=0.1279]\n",
            "Epoch 8/20 - train: 100%|██████████| 60000/60000 [00:12<00:00, 4976.57it/s, acc=0.9766, avg_loss=0.0853]\n",
            "Epoch 8/20 - val: 100%|██████████| 5000/5000 [00:00<00:00, 6727.69it/s, acc=0.9662, avg_loss=0.1415]\n",
            "Epoch 9/20 - train: 100%|██████████| 60000/60000 [00:12<00:00, 4938.29it/s, acc=0.9776, avg_loss=0.0782]\n",
            "Epoch 9/20 - val: 100%|██████████| 5000/5000 [00:00<00:00, 6837.08it/s, acc=0.9728, avg_loss=0.1214]\n",
            "Epoch 10/20 - train: 100%|██████████| 60000/60000 [00:12<00:00, 4917.19it/s, acc=0.9803, avg_loss=0.0714]\n",
            "Epoch 10/20 - val: 100%|██████████| 5000/5000 [00:00<00:00, 6871.63it/s, acc=0.9570, avg_loss=0.1822]\n",
            "Epoch 11/20 - train: 100%|██████████| 60000/60000 [00:12<00:00, 4894.03it/s, acc=0.9820, avg_loss=0.0672]\n",
            "Epoch 11/20 - val: 100%|██████████| 5000/5000 [00:00<00:00, 6854.97it/s, acc=0.9630, avg_loss=0.1644]\n",
            "Epoch 12/20 - train: 100%|██████████| 60000/60000 [00:12<00:00, 4827.16it/s, acc=0.9817, avg_loss=0.0677]\n",
            "Epoch 12/20 - val: 100%|██████████| 5000/5000 [00:00<00:00, 6877.90it/s, acc=0.9686, avg_loss=0.1419]\n",
            "Epoch 13/20 - train: 100%|██████████| 60000/60000 [00:12<00:00, 4783.84it/s, acc=0.9836, avg_loss=0.0620]\n",
            "Epoch 13/20 - val: 100%|██████████| 5000/5000 [00:00<00:00, 6819.00it/s, acc=0.9708, avg_loss=0.1323]\n",
            "Epoch 14/20 - train: 100%|██████████| 60000/60000 [00:12<00:00, 4762.24it/s, acc=0.9848, avg_loss=0.0559]\n",
            "Epoch 14/20 - val: 100%|██████████| 5000/5000 [00:00<00:00, 6905.48it/s, acc=0.9714, avg_loss=0.1485]\n",
            "Epoch 15/20 - train: 100%|██████████| 60000/60000 [00:12<00:00, 4717.98it/s, acc=0.9853, avg_loss=0.0593]\n",
            "Epoch 15/20 - val: 100%|██████████| 5000/5000 [00:00<00:00, 6740.06it/s, acc=0.9670, avg_loss=0.2361]\n",
            "Epoch 16/20 - train: 100%|██████████| 60000/60000 [00:12<00:00, 4724.38it/s, acc=0.9858, avg_loss=0.0547]\n",
            "Epoch 16/20 - val: 100%|██████████| 5000/5000 [00:00<00:00, 6986.01it/s, acc=0.9718, avg_loss=0.1462]\n",
            "Epoch 17/20 - train: 100%|██████████| 60000/60000 [00:12<00:00, 4694.02it/s, acc=0.9868, avg_loss=0.0512]\n",
            "Epoch 17/20 - val: 100%|██████████| 5000/5000 [00:00<00:00, 6809.91it/s, acc=0.9728, avg_loss=0.1556]\n",
            "Epoch 18/20 - train: 100%|██████████| 60000/60000 [00:13<00:00, 4483.01it/s, acc=0.9857, avg_loss=0.0606]\n",
            "Epoch 18/20 - val: 100%|██████████| 5000/5000 [00:00<00:00, 6678.41it/s, acc=0.9670, avg_loss=0.1813]\n",
            "Epoch 19/20 - train: 100%|██████████| 60000/60000 [00:13<00:00, 4421.03it/s, acc=0.9883, avg_loss=0.0476]\n",
            "Epoch 19/20 - val: 100%|██████████| 5000/5000 [00:00<00:00, 6674.12it/s, acc=0.9740, avg_loss=0.1815]\n",
            "Epoch 20/20 - train: 100%|██████████| 60000/60000 [00:13<00:00, 4303.85it/s, acc=0.9874, avg_loss=0.0501]\n",
            "Epoch 20/20 - val: 100%|██████████| 5000/5000 [00:00<00:00, 6835.00it/s, acc=0.9724, avg_loss=0.2131]"
          ]
        },
        {
          "output_type": "stream",
          "name": "stdout",
          "text": [
            "\n",
            " --- %s seconds --- 249.38087630271912\n"
          ]
        },
        {
          "output_type": "stream",
          "name": "stderr",
          "text": [
            "\n"
          ]
        }
      ]
    },
    {
      "cell_type": "markdown",
      "metadata": {
        "id": "sW8TxhSkCz5N"
      },
      "source": [
        "### Evaluación del entrenamiento"
      ]
    },
    {
      "cell_type": "code",
      "metadata": {
        "colab": {
          "base_uri": "https://localhost:8080/",
          "height": 299
        },
        "id": "fEKv7lWjC3qn",
        "outputId": "edb5ca76-8731-4625-8c60-da7c00023e0f"
      },
      "source": [
        "plt.plot(epoch_acc)\n",
        "plt.plot(val_acc)\n",
        "plt.title('model accuracy')\n",
        "plt.ylabel('accuracy')\n",
        "plt.xlabel('epoch')\n",
        "plt.legend(['train', 'val'], loc='upper left')\n",
        "plt.show()"
      ],
      "execution_count": 19,
      "outputs": [
        {
          "output_type": "display_data",
          "data": {
            "image/png": "[encoded data removed]",
            "text/plain": [
              "<Figure size 432x288 with 1 Axes>"
            ]
          },
          "metadata": {
            "needs_background": "light"
          }
        }
      ]
    },
    {
      "cell_type": "code",
      "metadata": {
        "colab": {
          "base_uri": "https://localhost:8080/",
          "height": 299
        },
        "id": "_EtBRewiC55m",
        "outputId": "0e6bb07e-5ff8-4937-82e7-90155e0ebbd0"
      },
      "source": [
        "plt.plot(epoch_loss)\n",
        "plt.plot(val_loss)\n",
        "plt.title('model loss')\n",
        "plt.ylabel('loss')\n",
        "plt.xlabel('epoch')\n",
        "plt.legend(['train', 'val'], loc='upper left')\n",
        "plt.show()"
      ],
      "execution_count": 20,
      "outputs": [
        {
          "output_type": "display_data",
          "data": {
            "image/png": "[encoded data removed]",
            "text/plain": [
              "<Figure size 432x288 with 1 Axes>"
            ]
          },
          "metadata": {
            "needs_background": "light"
          }
        }
      ]
    },
    {
      "cell_type": "markdown",
      "metadata": {
        "id": "K5svfwYjDCYc"
      },
      "source": [
        "## Comparación de ambos modelos"
      ]
    },
    {
      "cell_type": "code",
      "metadata": {
        "id": "noBD6o0xDBf5"
      },
      "source": [
        "def test(model, test_loader):\n",
        "  total = len(test_loader.dataset)\n",
        "  X, Y = next(iter(test_loader))\n",
        "  pred = model(X) # forward pass \n",
        "  loss = criterion(pred, Y) # evaluación de predicción\n",
        "  probs = F.softmax(pred, 1)\n",
        "  label = torch.argmax(probs, dim=1)\n",
        "  correct = torch.sum(label == Y).item()\n",
        "  acc = correct/total\n",
        "  return loss.item(), acc"
      ],
      "execution_count": 21,
      "outputs": []
    },
    {
      "cell_type": "code",
      "metadata": {
        "colab": {
          "base_uri": "https://localhost:8080/"
        },
        "id": "6bJoE-i_EN1D",
        "outputId": "7918b0a3-34a2-4d2c-9391-33d3560afd5c"
      },
      "source": [
        "loss, acc = test(classifier, test_loader)\n",
        "print('modelo simple: loss ={}, acc= {}'.format(loss, acc))"
      ],
      "execution_count": 22,
      "outputs": [
        {
          "output_type": "stream",
          "name": "stdout",
          "text": [
            "modelo simple: loss =0.14133010804653168, acc= 0.9818\n"
          ]
        }
      ]
    },
    {
      "cell_type": "code",
      "metadata": {
        "colab": {
          "base_uri": "https://localhost:8080/"
        },
        "id": "vplifznlEgh3",
        "outputId": "3706f871-0c7a-42e0-fba0-ce21818271ce"
      },
      "source": [
        "loss, acc = test(model, test_loader)\n",
        "print('modelo con dropout: loss ={}, acc= {}'.format(loss, acc))"
      ],
      "execution_count": 23,
      "outputs": [
        {
          "output_type": "stream",
          "name": "stdout",
          "text": [
            "modelo con dropout: loss =0.2641125023365021, acc= 0.9694\n"
          ]
        }
      ]
    }
  ]
}