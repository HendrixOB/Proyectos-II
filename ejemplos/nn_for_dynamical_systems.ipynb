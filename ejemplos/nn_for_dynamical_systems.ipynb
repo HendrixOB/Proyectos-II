{
  "nbformat": 4,
  "nbformat_minor": 0,
  "metadata": {
    "colab": {
      "name": "nn_for_dynamical_systems.ipynb",
      "provenance": [],
      "collapsed_sections": [],
      "include_colab_link": true
    },
    "kernelspec": {
      "display_name": "Python 3",
      "name": "python3"
    },
    "language_info": {
      "name": "python"
    },
    "accelerator": "GPU"
  },
  "cells": [
    {
      "cell_type": "markdown",
      "metadata": {
        "id": "view-in-github",
        "colab_type": "text"
      },
      "source": [
        "<a href=\"https://colab.research.google.com/github/sergfer26/Proyectos-II/blob/main/ejemplos/nn_for_dynamical_systems.ipynb\" target=\"_parent\"><img src=\"https://colab.research.google.com/assets/colab-badge.svg\" alt=\"Open In Colab\"/></a>"
      ]
    },
    {
      "cell_type": "code",
      "metadata": {
        "id": "5C61d946PcsA"
      },
      "source": [
        "import torch \n",
        "import matplotlib\n",
        "import numpy as np\n",
        "from matplotlib import pyplot as plt\n",
        "from mpl_toolkits.mplot3d import Axes3D\n",
        "from torch.utils.data import DataLoader\n",
        "matplotlib.style.use('ggplot')"
      ],
      "execution_count": null,
      "outputs": []
    },
    {
      "cell_type": "markdown",
      "metadata": {
        "id": "7PWcDqKUsXzS"
      },
      "source": [
        "# Redes neuronales para sistemas dinámicos.\n",
        "\n",
        "En este *notebook* demostraremos la utilidad de las redes neuronales para aplicacaciones en sistemas dinámicos. \n",
        "\n",
        "## Contexto.\n",
        "\n",
        "Un sistema dinámico es una forma de describir el pasaje de todos los puntos de un espacio dado $\\mathcal S$ através del tiempo. Desde el punto de vista de la mécanica clásica $\\mathcal S$ puede representar el conjunto de todas las posibles posiciones y velocidades de un sistema que describe el movimiento de algún cuerpo rígido.\n",
        "\n",
        "En este caso consideraremos que $\\mathcal{S} = \\mathbb{R}^{n}$ es un espacio euclidiano. Para cada $\\mathbf x \\in \\mathbb{R}^{n}$ se pude describir su propia evolución por medio del sistema a lo que se le conoce como *trayectoria*. Considerando lo anterior, se pude decir que $\\mathbf x = \\mathbf{x}(t)$ como función del tiempo, la expresión anterior nos indica el estado al tiempo $t$. Si el tiempo $t \\in \\mathbb{R}$ se considera al sistema como continuo. \n",
        "\n",
        "Para la tarea que queremos realizar en este *notebook* utilizaremos los sistemas dinámicos dados por sistemas diferenciales ordinarios. Sea $f: \\mathbb{R}^{n} \\rightarrow \\mathbb{R}^{n}$ la función que define un campo vectorial sobre $\\mathbb{R}^{n}$, \n",
        "\n",
        "$$\\dot{\\mathbf x}= f(t, \\mathbf{x_{t}}; \\mathbf{\\beta}), $$\n",
        "\n",
        "donde $\\mathbf \\beta$ representa un conjunto de parámetros. \n",
        "\n",
        "Se pude describir al sistema de forma más explicita, consideremos $\\mathbf x_t = [x_1, x_2, \\cdots, x_n]^{\\top}$,\n",
        "\n",
        "\\begin{align*}\n",
        "\\dot x_{1}&= f_1(t, x_1, x_2, \\cdots, x_{n}) \\\\\n",
        "\\dot x_{2}&= f_2(t, x_1, x_2, \\cdots, x_{n})\\\\\n",
        "\\vdots \\\\\n",
        "\\dot x_{n}&= f_n(t, x_1, x_2, \\cdots, x_{n})\n",
        "\\end{align*}\n",
        "\n",
        "El problema principal es determinar una solución del sistema que satisfaga una condición inicial $\\mathbf x(0) = \\mathbf x_{0}$. Es decir, se busca encontrar toda la trayectoria que evoluciona en $f$ empezando en un estado inicial $\\mathbf{x}_0$. Sin embargo, cuando se trabaja con ecuaciones diferenciales no lineales, es decir, cuando $f$ es no lineal, no se puede encontrar soluciones bajo ciertas condiciones o es díficil caracterizar una solución.\n",
        "\n",
        "### Soluciones numéricas.\n",
        "\n",
        "Afortunadamente existen métodos numéricos que permiten obtener una buena aproximación de la solución real de un sistema de ecuaciones diferenciales, entre ellos están el método de Euler, la familia de métodos Runge-Kutta, entre otros. En nuestro problema utilizaremos el solucionador `scipy.integrate.odeint` que utiliza *lsoda* de la biblioteca odepack de *FORTRAN*.\n"
      ]
    },
    {
      "cell_type": "code",
      "metadata": {
        "id": "PqTJQA48Pmaw"
      },
      "source": [
        "from scipy.integrate import odeint"
      ],
      "execution_count": null,
      "outputs": []
    },
    {
      "cell_type": "markdown",
      "metadata": {
        "id": "9C3db1Wy7pzx"
      },
      "source": [
        "Para usar la función `odeint` es necesario definir el sistema de la siguiente forma: \n",
        "\n",
        "```dy/dt = func(t, y, beta)```, \n",
        "\n",
        "donde:\n",
        "* `func` es una función de python que descrbe el lado derecho del sistema. \n",
        "* `t` es un arreglo discreto que representa todos los elemntos de un intervalo de tiempo continuo.\n",
        "* `y` es el estado inicial del sistema.\n",
        "\n",
        "La forma de utilizar la funcion es la siguiente:\n",
        "\n",
        "```Y= odeint(func, t, y, args=beta)```\n",
        "\n",
        "donde `Y` representa la trayectoria asociada a cada elemnto del arreglo del tiempo `t`.\n",
        "\n",
        "### Importancia de la predicción de esatdos futuros\n",
        "\n",
        "En general se usa sistemas dinámicos para modelar fenómenos en diversos contextos reales. Una de los retos más facinetes es la predicción de estados futuros. Esta labor pude no parecer interesante en el contexto en que se tiene conocimiento del modelo que evoluciona los estados, pero en los casos de la meteorología y climatología donde no hay un modelo fijo, resulta complicado obtener predicciones a largo plazo. \n",
        "\n",
        "Por lo anterior ha sido objeto de estudio el desarrolar métodos que permitan crear predictores confiables. Un enfoque intersante es el de *Data-driven Dynamical Systems* que tiene una colección de métodos basados en Machine Learning que atacan estos problemas."
      ]
    },
    {
      "cell_type": "markdown",
      "metadata": {
        "id": "HHRQ7HpzQJxY"
      },
      "source": [
        "## Predicción del sistema de Lorenz usando redes neuronales.\n",
        "\n",
        "El siguiente problema fue tomado del libro [*Data-Driven Science and Engieneering: Machine Learning, Dynamical Systems and Control*](http://databookuw.com) de Steven L. Brunton y J. Nathan Kuttz en el capítulo [capítulo 6](http://databookuw.com/page/page-9/), sección 6.6. Puedes encontrar el código original en matlab en el [repositorio de github](https://github.com/dynamicslab/databook_matlab/blob/master/CH06/CH06_SEC06_1_NNLorenz.m).\n",
        "\n",
        "Aunque esta tarea es una simple regresión no lineal, funciona como motivación expander los alcances de las redes neuronales\n",
        "\n",
        "### Planteamiento.\n",
        "\n",
        "Consideremos el sistema ecuaciones diferenciales no lineales autónomo, es decir que no depende del tiempo, conocido como sistema de Lorenz:\n",
        "$$\n",
        "\\begin{cases}\n",
        "\\dot x &= \\sigma(y -x) \\\\\n",
        "\\dot y &= x(\\rho -z)-y \\\\\n",
        "\\dot z &= xy -\\beta z\n",
        "\\end{cases}\n",
        "$$\n",
        "\n",
        "En este caso el estado del sistema esta dado por $\\mathbf x = [x, y, z]^{\\top}$ y $\\mathbf{\\beta} = [\\sigma, \\rho, \\beta]^{\\top}.$\n",
        "\n",
        "Este sistema esta entre los más simples y mejor estudiados del área que exhiben caos, que es una caracterización de la sensibilidad con respecto a la condición inicial que pueden tener los sistemas. En estos sistemas caóticos, dos trayectorias con condiciones iniciales cercanas rápidamente divergeran en comportamiento, después de poco tiempo.\n",
        "\n",
        "Declaramos el sistema en `Python` de la siguiente manera:"
      ]
    },
    {
      "cell_type": "code",
      "metadata": {
        "id": "MrPs0G0QP38v"
      },
      "source": [
        "sigma = 10\n",
        "rho = 28\n",
        "beta = 8/3\n",
        "\n",
        "def lorenz(v, t):\n",
        "  x, y, z = v\n",
        "  x_d = sigma * (y -x)\n",
        "  y_d = x * (rho -z) -y\n",
        "  z_d = x * y - beta * z\n",
        "  return x_d, y_d, z_d"
      ],
      "execution_count": null,
      "outputs": []
    },
    {
      "cell_type": "markdown",
      "metadata": {
        "id": "N5NuUvViN-ER"
      },
      "source": [
        "### Objetivo. \n",
        "Crear un predictor de estados del sistema de Lorenz usando redes neuronales. Durante el entrenamiento de la red se ocuparan muestras obtenidas de la simulación del sistema usando distintas condiciones iniciales. Las simulaciones serán las trayectorias del sistema dadas por la función ``odeint``.\n",
        "\n",
        "### Simulación y datos de entreanamiento"
      ]
    },
    {
      "cell_type": "code",
      "metadata": {
        "id": "BVY8F0nXlgU-"
      },
      "source": [
        "dt = 0.01 # salto de tiempo\n",
        "T = 8 # tiempo máxima\n",
        "n_trayes = 100 # numéro de trayectorias \n",
        "n_states = 3 # número de estados del sistema"
      ],
      "execution_count": null,
      "outputs": []
    },
    {
      "cell_type": "markdown",
      "metadata": {
        "id": "uQZSVzJBRU1m"
      },
      "source": [
        "Haremos varias simulaciones para obtener una gran cantidad de datos que seran útiles para entrenar nuestra red neuronal. Consideremos la $i-$ésima trayectoria $Z^{(i)}$ resultante de simular el sistema usando la condición inicial $\\mathbf x_{0}^{(i)}$, \n",
        "\n",
        "$$Z^{(i)} = \\left\\{\\mathbf{x}_{1}^{(i)}, \\mathbf{x}_{2}^{(i)}, \\cdots \\mathbf{x}_{t-1}^{(i)}, \\mathbf{x}_{t}^{(i)}, \\cdots \\mathbf{x}_{T}^{(i)}\\right\\}.$$\n",
        "\n",
        "Para entrenar la red neuronal necesitamos tener estados que alimentaran a la red para predecir $\\left(X^{(i)}\\right)$ y las predicciones $\\left(Y^{(i)}\\right)$, estas colecciones de estados las definimos de la siguiente forma: \n",
        "\\begin{align*}\n",
        "X^{(i)} &= \\left\\{\\mathbf{x}_{1}^{(i)}, \\mathbf{x}_{2}^{(i)}, \\cdots \\mathbf{x}_{t-1}^{(i)}, \\mathbf{x}_{t}^{(i)}, \\cdots \\mathbf{x}_{T-1}^{(i)}\\right\\} \\\\\n",
        "Y^{(i)} &= \\left\\{\\mathbf{x}_{2}^{(i)}, \\mathbf{x}_{3}^{(i)}, \\cdots \\mathbf{x}_{t}^{(i)}, \\mathbf{x}_{t+1}^{(i)}, \\cdots \\mathbf{x}_{T}^{(i)}\\right\\}\n",
        "\\end{align*}\n",
        "\n",
        "La meta es encontrar un mapeo aproximado de la evolución de $\\mathbf{x}_{t}^{(i)}$ en $\\mathbf{x}_{t+1}^{(i)}$, es decir, la red debe imitar al mapeo dado por `odeint`, \n",
        "\n",
        "$$\\mathbf x_{t+1}^{(i)} = f_{odeint}\\left(\\mathbf x_{t}^{(i)}\\right)$$"
      ]
    },
    {
      "cell_type": "code",
      "metadata": {
        "colab": {
          "base_uri": "https://localhost:8080/",
          "height": 355
        },
        "id": "bptgdC0tRjLa",
        "outputId": "9970d236-d631-450a-9160-34a8c30c70a8"
      },
      "source": [
        "inputs = np.array([[0, 0, 0]]) # X \n",
        "outputs = np.array([[0, 0, 0]]) # Y\n",
        "t = np.arange(0, T, dt)\n",
        "fig = plt.figure()\n",
        "ax = Axes3D(fig) #fig.add_subplot(111, projection='3d')\n",
        "for _ in range(n_trayes):\n",
        "  x0 = 30 * (np.random.random(3) -0.5)\n",
        "  x = odeint(lorenz, x0, t)\n",
        "  inputs = np.vstack([inputs, x[0:-1, :]])\n",
        "  outputs = np.vstack([outputs, x[1:-2, :]])\n",
        "  ax.plot(x[:, 0], x[:, 1], x[:, 2])\n",
        "  ax.scatter(x0[0], x0[1], x0[2], c='red')\n",
        "\n",
        "fig.set_size_inches(12.5, 4.5)\n",
        "ax.view_init(18, -113)\n",
        "plt.show()"
      ],
      "execution_count": null,
      "outputs": [
        {
          "output_type": "display_data",
          "data": {
            "image/png": "[encoded data removed]",
            "text/plain": [
              "<Figure size 900x324 with 1 Axes>"
            ]
          },
          "metadata": {
            "needs_background": "light"
          }
        }
      ]
    },
    {
      "cell_type": "code",
      "metadata": {
        "id": "mkc6C8ptQYM_"
      },
      "source": [
        "inputs = inputs[1:-2, :]\n",
        "outputs = outputs[1:-2, :]"
      ],
      "execution_count": null,
      "outputs": []
    },
    {
      "cell_type": "markdown",
      "metadata": {
        "id": "SH-PbcTDQ62A"
      },
      "source": [
        "#### Generación del *Dataset* y *Dataloader*\n",
        "\n",
        "El conjunto de datos esta dado por\n",
        "$$\\mathcal{D} = \\left\\{x, y \\in \\bigcup_{i=1}^{100} X^{(i)} \\times Y^{(i)}  \\right\\}$$ \n",
        "\n",
        "En este caso no será necesario ocupar la clase abstacta `Dataset` pues las trayectorias son arreglos de `numpy` y basta con transformalos a tensores de `torch` y ocupar la clase `TensorDataset` que es un objeto que hereda de `Dataset` y esta optimizado para tensores."
      ]
    },
    {
      "cell_type": "code",
      "metadata": {
        "id": "1dSgJfZBNT9l"
      },
      "source": [
        "import torch.utils.data as data_utils\n",
        "\n",
        "features = torch.from_numpy(inputs).to(torch.float32) \n",
        "targets = torch.from_numpy(inputs).to(torch.float32)\n",
        "features = features.to(device)  # En caso de tener disponible 'gpu device=cuda'\n",
        "targets = features.to(device)\n",
        "\n",
        "dataset = data_utils.TensorDataset(features, targets)"
      ],
      "execution_count": null,
      "outputs": []
    },
    {
      "cell_type": "markdown",
      "metadata": {
        "id": "NGSnbvtbYx0e"
      },
      "source": [
        "En este caso no usaremos la clase `Subdataset` para separar los datos en dos, utilizaremos el método de `random_split` del módulo `torch.utils.data`, que separa los datos de forma aleatoria de acuerdo a la cantidad de datos en que se quiera dividir.\n",
        "\n",
        "Observemos que `train_size + val_size = len(dataset)`."
      ]
    },
    {
      "cell_type": "code",
      "metadata": {
        "id": "mK_bTxChYwfM"
      },
      "source": [
        "train_ratio = 0.8\n",
        "batch_size = 32\n",
        "\n",
        "train_size = int(train_ratio * len(dataset))\n",
        "val_size = len(dataset) - train_size\n",
        "train_dataset, val_dataset = torch.utils.data.random_split(dataset, [train_size, val_size])\n",
        "\n",
        "train_loader = data_utils.DataLoader(train_dataset, batch_size=batch_size, shuffle=True)\n",
        "val_loader = data_utils.DataLoader(train_dataset, batch_size=batch_size, shuffle=True)"
      ],
      "execution_count": null,
      "outputs": []
    },
    {
      "cell_type": "markdown",
      "metadata": {
        "id": "BwYVDMRZZ50w"
      },
      "source": [
        "### Definición de la red neuronal\n",
        "\n",
        "En este caso consideraremos una red neuronal unidireccional $f_a(\\cdot |\\theta): \\mathbb{R}^{k \\times 3} \\rightarrow \\mathbb{R}^{k \\times 3}$ con la siguiente arquitectura: $a = \\langle [3, 16, 16, 3], \\{\\text{LogSigmoid}, \\text{RadBasExp, Linear}\\} \\rangle$, donde $k$ es el tamaño del mini-batch.\n",
        "\n",
        "Todas las funciones de activación puden ser encontradas en `torch.nn` salvo `RadBasExp` por lo que la definimos de la siguiente manera:"
      ]
    },
    {
      "cell_type": "code",
      "metadata": {
        "id": "rCBs_b4UxKAy"
      },
      "source": [
        "import torch.nn as nn \n",
        "from torch import Tensor\n",
        "\n",
        "class RadBasExp(nn.Module):\n",
        "  \"\"\"Applies the element-wise function:\n",
        "\n",
        "    .. math:: https://en.wikipedia.org/wiki/Radial_basis_function \n",
        "        \\text{RadBasExp}(x) = \\exp(- x^2)\n",
        "    \n",
        "    Shape:\n",
        "        - Input: :math:`(N, *)` where `*` means, any number of additional\n",
        "          dimensions\n",
        "        - Output: :math:`(N, *)`, same shape as the input\n",
        "    \"\"\"\n",
        "  def forward(self, input: Tensor) -> Tensor:\n",
        "      return torch.exp(-1*input.pow(2))"
      ],
      "execution_count": null,
      "outputs": []
    },
    {
      "cell_type": "markdown",
      "metadata": {
        "id": "wXHFtrxVbzNU"
      },
      "source": [
        "Podemos utilizarla de la siguiente form:\n"
      ]
    },
    {
      "cell_type": "code",
      "metadata": {
        "colab": {
          "base_uri": "https://localhost:8080/",
          "height": 265
        },
        "id": "G3DwSukmb3wH",
        "outputId": "6350a6cc-6549-4b5e-bf6d-003d20bd33d8"
      },
      "source": [
        "x = torch.arange(-5., 5., 0.1)\n",
        "m = RadBasExp()\n",
        "y = m(x)\n",
        "plt.plot(x.numpy(), y.numpy())\n",
        "plt.show()"
      ],
      "execution_count": null,
      "outputs": [
        {
          "output_type": "display_data",
          "data": {
            "image/png": "[encoded data removed]",
            "text/plain": [
              "<Figure size 432x288 with 1 Axes>"
            ]
          },
          "metadata": {
            "needs_background": "light"
          }
        }
      ]
    },
    {
      "cell_type": "markdown",
      "metadata": {
        "id": "6nCkaNm2eRou"
      },
      "source": [
        "Observemos que `RadBasExp` al heredar de la clase `nn.Module` podemos incoporar esta función de activación a la red aun cuando la declaramos usando `nn.Sequential`."
      ]
    },
    {
      "cell_type": "code",
      "metadata": {
        "id": "HQ0HHgK9YoKh"
      },
      "source": [
        "from collections import OrderedDict\n",
        "\n",
        "# define model architecture\n",
        "model = nn.Sequential(OrderedDict([\n",
        "    ('z1', nn.Linear(n_states, 8)),\n",
        "    ('h1', nn.LogSigmoid()),\n",
        "    ('z2', nn.Linear(8, 8)),\n",
        "    ('h2', RadBasExp()),\n",
        "    ('z3', nn.Linear(8, n_states)),\n",
        "]))"
      ],
      "execution_count": null,
      "outputs": []
    },
    {
      "cell_type": "code",
      "metadata": {
        "id": "A_R6Ww9yF9wd"
      },
      "source": [
        "model = model.to(device)"
      ],
      "execution_count": null,
      "outputs": []
    },
    {
      "cell_type": "markdown",
      "metadata": {
        "id": "92HRox97UU97"
      },
      "source": [
        "La red deberá ser capaz de la siguiente tarea:\n",
        "$$\\hat{\\mathbf{x}}_{t+1} =f_a(\\mathbf{x}_t |\\theta),\\quad \\|\\mathbf{x}_{t+1} - \\hat{\\mathbf{x}}_{t+1}\\| < \\epsilon << 1$$ "
      ]
    },
    {
      "cell_type": "markdown",
      "metadata": {
        "id": "CalAjbR1erjE"
      },
      "source": [
        "### Función objetivo y optimizador\n",
        "\n",
        "Al ser una tarea de regresión usaremos la función *MSE* (error cuadrático medio) para comparar las predicciones de la red con los valores resultantes de `odeint`. "
      ]
    },
    {
      "cell_type": "code",
      "metadata": {
        "id": "5R4bI_OZdERo"
      },
      "source": [
        "from torch import optim\n",
        "\n",
        "criterion = nn.MSELoss()\n",
        "optimizer = optim.Adam(model.parameters(), lr=0.001) #, weight_decay=0.0005)"
      ],
      "execution_count": null,
      "outputs": []
    },
    {
      "cell_type": "markdown",
      "metadata": {
        "id": "j6o3yjcJfLb5"
      },
      "source": [
        "### Entrenamiento\n",
        "\n",
        "Como en anteriores ocasiones usaremos la función `fit` para cada paso del aprendizaje"
      ]
    },
    {
      "cell_type": "code",
      "metadata": {
        "id": "AGw_TdVBkNB4"
      },
      "source": [
        "def fit(model, dataloader, optimizer, criterion, pbar, train=True):\n",
        "  running_loss = 0.0\n",
        "  correct = 0\n",
        "  total = 0\n",
        "  for i, data in enumerate(dataloader, 0):\n",
        "    X, Y = data\n",
        "    if train:\n",
        "      optimizer.zero_grad() # reinicia el gradiente\n",
        "    pred = model(X) # forward pass \n",
        "    loss = criterion(pred, Y) # evaluación de predicción\n",
        "    if train:\n",
        "      loss.backward() # cálcula las derivadas \n",
        "      optimizer.step() # paso de optimización \n",
        "\n",
        "    running_loss += loss.item()\n",
        "    avg_loss = running_loss/(i + 1)\n",
        "        \n",
        "    pbar.set_postfix(avg_loss='{:.4f}'.format(avg_loss))\n",
        "    pbar.update(Y.shape[0])\n",
        "  return avg_loss"
      ],
      "execution_count": null,
      "outputs": []
    },
    {
      "cell_type": "code",
      "metadata": {
        "id": "E0agOa47kfEx"
      },
      "source": [
        "import time\n",
        "\n",
        "EPOCHS = 1000\n",
        "train_time = 0\n",
        "\n",
        "epoch_loss = []\n",
        "val_loss = []"
      ],
      "execution_count": null,
      "outputs": []
    },
    {
      "cell_type": "markdown",
      "metadata": {
        "id": "vYfng0jtfZpy"
      },
      "source": [
        "y ocuparemos un ciclo para juntar todos los paso de entreaniento"
      ]
    },
    {
      "cell_type": "code",
      "metadata": {
        "colab": {
          "base_uri": "https://localhost:8080/"
        },
        "id": "Bv9NgdwAkimj",
        "outputId": "18d17958-ae9a-4536-e0a5-25502622cdf6"
      },
      "source": [
        "from tqdm import tqdm\n",
        "\n",
        "model.train()\n",
        "for epoch in range(EPOCHS):\n",
        "  start_time = time.time()\n",
        "  with tqdm(total=train_size, position=0) as pbar_train:\n",
        "    pbar_train.set_description(f'Epoch {epoch + 1}/'+str(EPOCHS)+' - train')\n",
        "    pbar_train.set_postfix(avg_loss='0.0')\n",
        "    loss_train = fit(model, train_loader, optimizer, criterion, pbar_train)\n",
        "    train_time +=  time.time() - start_time\n",
        "  with tqdm(total=len(val_dataset), position=0) as pbar_val:\n",
        "    pbar_val.set_description(f'Epoch {epoch + 1}/'+str(EPOCHS)+' - val')\n",
        "    pbar_val.set_postfix(avg_loss='0.0')\n",
        "    loss_val = fit(model, val_loader, optimizer, criterion, pbar_val, train=False)\n",
        "\n",
        "  epoch_loss.append(loss_train)\n",
        "  val_loss.append(loss_val)\n",
        "\n",
        "print(\"\\n --- %s seconds ---\", train_time)"
      ],
      "execution_count": null,
      "outputs": [
        {
          "output_type": "stream",
          "name": "stderr",
          "text": [
            "Epoch 1/1000 - train: 100%|██████████| 63918/63918 [00:17<00:00, 3721.65it/s, avg_loss=178.1217]\n",
            "Epoch 1/1000 - val: : 63918it [00:10, 6331.38it/s, avg_loss=103.4406]\n",
            "Epoch 2/1000 - train: 100%|██████████| 63918/63918 [00:15<00:00, 4195.44it/s, avg_loss=56.9414]\n",
            "Epoch 2/1000 - val: : 63918it [00:11, 5781.04it/s, avg_loss=29.9230]\n",
            "Epoch 3/1000 - train: 100%|██████████| 63918/63918 [00:15<00:00, 3999.76it/s, avg_loss=19.0469]\n",
            "Epoch 3/1000 - val: : 63918it [00:10, 6218.16it/s, avg_loss=11.9033]\n",
            "Epoch 4/1000 - train: 100%|██████████| 63918/63918 [00:15<00:00, 4238.30it/s, avg_loss=8.8568]\n",
            "Epoch 4/1000 - val: : 63918it [00:10, 6199.81it/s, avg_loss=6.7835]\n",
            "Epoch 5/1000 - train: 100%|██████████| 63918/63918 [00:14<00:00, 4261.73it/s, avg_loss=5.7446]\n",
            "Epoch 5/1000 - val: : 63918it [00:10, 6221.23it/s, avg_loss=4.9237]\n",
            "Epoch 6/1000 - train: 100%|██████████| 63918/63918 [00:15<00:00, 4227.34it/s, avg_loss=4.4261]\n",
            "Epoch 6/1000 - val: : 63918it [00:10, 6171.07it/s, avg_loss=3.9254]\n",
            "Epoch 7/1000 - train: 100%|██████████| 63918/63918 [00:15<00:00, 4181.13it/s, avg_loss=3.4300]\n",
            "Epoch 7/1000 - val: : 63918it [00:10, 6298.66it/s, avg_loss=2.9616]\n",
            "Epoch 8/1000 - train: 100%|██████████| 63918/63918 [00:14<00:00, 4304.48it/s, avg_loss=2.6271]\n",
            "Epoch 8/1000 - val: : 63918it [00:10, 6252.16it/s, avg_loss=2.3085]\n",
            "Epoch 9/1000 - train: 100%|██████████| 63918/63918 [00:15<00:00, 4094.08it/s, avg_loss=2.0817]\n",
            "Epoch 9/1000 - val: : 63918it [00:10, 6136.06it/s, avg_loss=2.0066]\n",
            "Epoch 10/1000 - train: 100%|██████████| 63918/63918 [00:15<00:00, 4153.46it/s, avg_loss=1.7135]\n",
            "Epoch 10/1000 - val: : 63918it [00:10, 5988.16it/s, avg_loss=1.5640]\n",
            "Epoch 11/1000 - train: 100%|██████████| 63918/63918 [00:15<00:00, 4231.88it/s, avg_loss=1.4478]\n",
            "Epoch 11/1000 - val: : 63918it [00:10, 6151.02it/s, avg_loss=1.3590]\n",
            "Epoch 12/1000 - train: 100%|██████████| 63918/63918 [00:15<00:00, 4138.72it/s, avg_loss=1.2460]\n",
            "Epoch 12/1000 - val: : 63918it [00:10, 6091.79it/s, avg_loss=1.1413]\n",
            "Epoch 13/1000 - train: 100%|██████████| 63918/63918 [00:15<00:00, 4100.63it/s, avg_loss=1.0878]\n",
            "Epoch 13/1000 - val: : 63918it [00:10, 6228.75it/s, avg_loss=1.0287]\n",
            "Epoch 14/1000 - train: 100%|██████████| 63918/63918 [00:15<00:00, 4111.45it/s, avg_loss=0.9619]\n",
            "Epoch 14/1000 - val: : 63918it [00:10, 6111.96it/s, avg_loss=0.8679]\n",
            "Epoch 15/1000 - train: 100%|██████████| 63918/63918 [00:15<00:00, 4203.04it/s, avg_loss=0.8536]\n",
            "Epoch 15/1000 - val: : 63918it [00:10, 6027.11it/s, avg_loss=0.7875]\n",
            "Epoch 16/1000 - train: 100%|██████████| 63918/63918 [00:15<00:00, 4144.61it/s, avg_loss=0.7650]\n",
            "Epoch 16/1000 - val: : 63918it [00:10, 6054.84it/s, avg_loss=0.7034]\n",
            "Epoch 17/1000 - train: 100%|██████████| 63918/63918 [00:15<00:00, 4136.19it/s, avg_loss=0.6897]\n",
            "Epoch 17/1000 - val: : 63918it [00:10, 6205.46it/s, avg_loss=0.6256]\n",
            "Epoch 18/1000 - train: 100%|██████████| 63918/63918 [00:15<00:00, 4090.59it/s, avg_loss=0.6215]\n",
            "Epoch 18/1000 - val: : 63918it [00:10, 6381.72it/s, avg_loss=0.6260]\n",
            "Epoch 19/1000 - train: 100%|██████████| 63918/63918 [00:15<00:00, 4127.96it/s, avg_loss=0.5651]\n",
            "Epoch 19/1000 - val: : 63918it [00:10, 6346.72it/s, avg_loss=0.5833]\n",
            "Epoch 20/1000 - train: 100%|██████████| 63918/63918 [00:15<00:00, 4090.06it/s, avg_loss=0.5091]\n",
            "Epoch 20/1000 - val: : 63918it [00:10, 6147.94it/s, avg_loss=0.4898]\n",
            "Epoch 21/1000 - train: 100%|██████████| 63918/63918 [00:15<00:00, 4061.04it/s, avg_loss=0.4640]\n",
            "Epoch 21/1000 - val: : 63918it [00:10, 6043.67it/s, avg_loss=0.5599]\n",
            "Epoch 22/1000 - train: 100%|██████████| 63918/63918 [00:15<00:00, 4061.55it/s, avg_loss=0.4277]\n",
            "Epoch 22/1000 - val: : 63918it [00:10, 5966.46it/s, avg_loss=0.4743]\n",
            "Epoch 23/1000 - train: 100%|██████████| 63918/63918 [00:15<00:00, 4063.74it/s, avg_loss=0.3914]\n",
            "Epoch 23/1000 - val: : 63918it [00:10, 6322.61it/s, avg_loss=0.3782]\n",
            "Epoch 24/1000 - train: 100%|██████████| 63918/63918 [00:15<00:00, 4094.35it/s, avg_loss=0.3631]\n",
            "Epoch 24/1000 - val: : 63918it [00:10, 6044.72it/s, avg_loss=0.3551]\n",
            "Epoch 25/1000 - train: 100%|██████████| 63918/63918 [00:15<00:00, 4102.65it/s, avg_loss=0.3359]\n",
            "Epoch 25/1000 - val: : 63918it [00:10, 5929.25it/s, avg_loss=0.3027]\n",
            "Epoch 26/1000 - train: 100%|██████████| 63918/63918 [00:15<00:00, 4078.11it/s, avg_loss=0.3094]\n",
            "Epoch 26/1000 - val: : 63918it [00:10, 6144.04it/s, avg_loss=0.3358]\n",
            "Epoch 27/1000 - train: 100%|██████████| 63918/63918 [00:15<00:00, 4133.64it/s, avg_loss=0.2918]\n",
            "Epoch 27/1000 - val: : 63918it [00:10, 6180.91it/s, avg_loss=0.2614]\n",
            "Epoch 28/1000 - train: 100%|██████████| 63918/63918 [00:15<00:00, 4150.51it/s, avg_loss=0.2679]\n",
            "Epoch 28/1000 - val: : 63918it [00:10, 6190.66it/s, avg_loss=0.2639]\n",
            "Epoch 29/1000 - train: 100%|██████████| 63918/63918 [00:15<00:00, 4054.35it/s, avg_loss=0.2532]\n",
            "Epoch 29/1000 - val: : 63918it [00:10, 6161.80it/s, avg_loss=0.2270]\n",
            "Epoch 30/1000 - train: 100%|██████████| 63918/63918 [00:15<00:00, 4123.74it/s, avg_loss=0.2373]\n",
            "Epoch 30/1000 - val: : 63918it [00:10, 6094.30it/s, avg_loss=0.2093]\n",
            "Epoch 31/1000 - train: 100%|██████████| 63918/63918 [00:15<00:00, 4103.13it/s, avg_loss=0.2225]\n",
            "Epoch 31/1000 - val: : 63918it [00:10, 6191.69it/s, avg_loss=0.2236]\n",
            "Epoch 32/1000 - train: 100%|██████████| 63918/63918 [00:15<00:00, 4081.95it/s, avg_loss=0.2055]\n",
            "Epoch 32/1000 - val: : 63918it [00:10, 6048.88it/s, avg_loss=0.1891]\n",
            "Epoch 33/1000 - train: 100%|██████████| 63918/63918 [00:15<00:00, 4120.93it/s, avg_loss=0.1963]\n",
            "Epoch 33/1000 - val: : 63918it [00:10, 6138.81it/s, avg_loss=0.1713]\n",
            "Epoch 34/1000 - train: 100%|██████████| 63918/63918 [00:15<00:00, 4012.04it/s, avg_loss=0.1840]\n",
            "Epoch 34/1000 - val: : 63918it [00:10, 6194.20it/s, avg_loss=0.1722]\n",
            "Epoch 35/1000 - train: 100%|██████████| 63918/63918 [00:15<00:00, 4079.65it/s, avg_loss=0.1755]\n",
            "Epoch 35/1000 - val: : 63918it [00:10, 6272.79it/s, avg_loss=0.1762]\n",
            "Epoch 36/1000 - train: 100%|██████████| 63918/63918 [00:16<00:00, 3884.95it/s, avg_loss=0.1650]\n",
            "Epoch 36/1000 - val: : 63918it [00:10, 6134.36it/s, avg_loss=0.1675]\n",
            "Epoch 37/1000 - train: 100%|██████████| 63918/63918 [00:15<00:00, 4065.79it/s, avg_loss=0.1577]\n",
            "Epoch 37/1000 - val: : 63918it [00:10, 6372.66it/s, avg_loss=0.1794]\n",
            "Epoch 38/1000 - train: 100%|██████████| 63918/63918 [00:15<00:00, 4050.69it/s, avg_loss=0.1516]\n",
            "Epoch 38/1000 - val: : 63918it [00:10, 6245.38it/s, avg_loss=0.1663]\n",
            "Epoch 39/1000 - train: 100%|██████████| 63918/63918 [00:16<00:00, 3960.33it/s, avg_loss=0.1451]\n",
            "Epoch 39/1000 - val: : 63918it [00:09, 6419.62it/s, avg_loss=0.2210]\n",
            "Epoch 40/1000 - train: 100%|██████████| 63918/63918 [00:16<00:00, 3960.18it/s, avg_loss=0.1363]\n",
            "Epoch 40/1000 - val: : 63918it [00:10, 6075.28it/s, avg_loss=0.1234]\n",
            "Epoch 41/1000 - train: 100%|██████████| 63918/63918 [00:16<00:00, 3989.29it/s, avg_loss=0.1315]\n",
            "Epoch 41/1000 - val: : 63918it [00:10, 6152.31it/s, avg_loss=0.1832]\n",
            "Epoch 42/1000 - train: 100%|██████████| 63918/63918 [00:16<00:00, 3976.76it/s, avg_loss=0.1280]\n",
            "Epoch 42/1000 - val: : 63918it [00:10, 5938.67it/s, avg_loss=0.1136]\n",
            "Epoch 43/1000 - train: 100%|██████████| 63918/63918 [00:15<00:00, 4040.89it/s, avg_loss=0.1204]\n",
            "Epoch 43/1000 - val: : 63918it [00:10, 6096.41it/s, avg_loss=0.1725]\n",
            "Epoch 44/1000 - train: 100%|██████████| 63918/63918 [00:16<00:00, 3952.68it/s, avg_loss=0.1166]\n",
            "Epoch 44/1000 - val: : 63918it [00:10, 5927.99it/s, avg_loss=0.0978]\n",
            "Epoch 45/1000 - train: 100%|██████████| 63918/63918 [00:16<00:00, 3771.40it/s, avg_loss=0.1129]\n",
            "Epoch 45/1000 - val: : 63918it [00:10, 6217.67it/s, avg_loss=0.1033]\n",
            "Epoch 46/1000 - train: 100%|██████████| 63918/63918 [00:16<00:00, 3976.69it/s, avg_loss=0.1083]\n",
            "Epoch 46/1000 - val: : 63918it [00:10, 6214.51it/s, avg_loss=0.1226]\n",
            "Epoch 47/1000 - train: 100%|██████████| 63918/63918 [00:16<00:00, 3966.32it/s, avg_loss=0.1061]\n",
            "Epoch 47/1000 - val: : 63918it [00:10, 5922.49it/s, avg_loss=0.0935]\n",
            "Epoch 48/1000 - train: 100%|██████████| 63918/63918 [00:16<00:00, 3945.67it/s, avg_loss=0.1003]\n",
            "Epoch 48/1000 - val: : 63918it [00:10, 6167.46it/s, avg_loss=0.1569]\n",
            "Epoch 49/1000 - train: 100%|██████████| 63918/63918 [00:16<00:00, 3965.35it/s, avg_loss=0.0976]\n",
            "Epoch 49/1000 - val: : 63918it [00:10, 6144.11it/s, avg_loss=0.1085]\n",
            "Epoch 50/1000 - train: 100%|██████████| 63918/63918 [00:16<00:00, 3992.75it/s, avg_loss=0.0969]\n",
            "Epoch 50/1000 - val: : 63918it [00:10, 6155.99it/s, avg_loss=0.0890]\n",
            "Epoch 51/1000 - train: 100%|██████████| 63918/63918 [00:15<00:00, 4007.79it/s, avg_loss=0.0924]\n",
            "Epoch 51/1000 - val: : 63918it [00:10, 6042.32it/s, avg_loss=0.0742]\n",
            "Epoch 52/1000 - train: 100%|██████████| 63918/63918 [00:15<00:00, 4014.12it/s, avg_loss=0.0886]\n",
            "Epoch 52/1000 - val: : 63918it [00:10, 5910.69it/s, avg_loss=0.0778]\n",
            "Epoch 53/1000 - train: 100%|██████████| 63918/63918 [00:16<00:00, 3944.87it/s, avg_loss=0.0862]\n",
            "Epoch 53/1000 - val: : 63918it [00:10, 6190.60it/s, avg_loss=0.0800]\n",
            "Epoch 54/1000 - train: 100%|██████████| 63918/63918 [00:16<00:00, 3923.10it/s, avg_loss=0.0840]\n",
            "Epoch 54/1000 - val: : 63918it [00:09, 6464.21it/s, avg_loss=0.1117]\n",
            "Epoch 55/1000 - train: 100%|██████████| 63918/63918 [00:16<00:00, 3825.79it/s, avg_loss=0.0825]\n",
            "Epoch 55/1000 - val: : 63918it [00:10, 6020.46it/s, avg_loss=0.0659]\n",
            "Epoch 56/1000 - train: 100%|██████████| 63918/63918 [00:16<00:00, 3847.17it/s, avg_loss=0.0801]\n",
            "Epoch 56/1000 - val: : 63918it [00:10, 5869.35it/s, avg_loss=0.0659]\n",
            "Epoch 57/1000 - train: 100%|██████████| 63918/63918 [00:16<00:00, 3907.33it/s, avg_loss=0.0785]\n",
            "Epoch 57/1000 - val: : 63918it [00:10, 6155.89it/s, avg_loss=0.1352]\n",
            "Epoch 58/1000 - train: 100%|██████████| 63918/63918 [00:16<00:00, 3913.83it/s, avg_loss=0.0774]\n",
            "Epoch 58/1000 - val: : 63918it [00:11, 5787.78it/s, avg_loss=0.0925]\n",
            "Epoch 59/1000 - train: 100%|██████████| 63918/63918 [00:16<00:00, 3886.23it/s, avg_loss=0.0713]\n",
            "Epoch 59/1000 - val: : 63918it [00:10, 6136.00it/s, avg_loss=0.0803]\n",
            "Epoch 60/1000 - train: 100%|██████████| 63918/63918 [00:16<00:00, 3952.11it/s, avg_loss=0.0710]\n",
            "Epoch 60/1000 - val: : 63918it [00:10, 6166.38it/s, avg_loss=0.0606]\n",
            "Epoch 61/1000 - train: 100%|██████████| 63918/63918 [00:16<00:00, 3876.40it/s, avg_loss=0.0700]\n",
            "Epoch 61/1000 - val: : 63918it [00:10, 5919.54it/s, avg_loss=0.0522]\n",
            "Epoch 62/1000 - train: 100%|██████████| 63918/63918 [00:16<00:00, 3909.12it/s, avg_loss=0.0677]\n",
            "Epoch 62/1000 - val: : 63918it [00:10, 6088.08it/s, avg_loss=0.0609]\n",
            "Epoch 63/1000 - train: 100%|██████████| 63918/63918 [00:16<00:00, 3794.34it/s, avg_loss=0.0650]\n",
            "Epoch 63/1000 - val: : 63918it [00:10, 5947.87it/s, avg_loss=0.0549]\n",
            "Epoch 64/1000 - train: 100%|██████████| 63918/63918 [00:16<00:00, 3833.24it/s, avg_loss=0.0645]\n",
            "Epoch 64/1000 - val: : 63918it [00:10, 6092.71it/s, avg_loss=0.0521]\n",
            "Epoch 65/1000 - train: 100%|██████████| 63918/63918 [00:16<00:00, 3790.92it/s, avg_loss=0.0632]\n",
            "Epoch 65/1000 - val: : 63918it [00:10, 5956.93it/s, avg_loss=0.0872]\n",
            "Epoch 66/1000 - train: 100%|██████████| 63918/63918 [00:16<00:00, 3762.56it/s, avg_loss=0.0633]\n",
            "Epoch 66/1000 - val: : 63918it [00:10, 5921.22it/s, avg_loss=0.0482]\n",
            "Epoch 67/1000 - train: 100%|██████████| 63918/63918 [00:16<00:00, 3860.48it/s, avg_loss=0.0616]\n",
            "Epoch 67/1000 - val: : 63918it [00:10, 5916.21it/s, avg_loss=0.0482]\n",
            "Epoch 68/1000 - train: 100%|██████████| 63918/63918 [00:16<00:00, 3813.82it/s, avg_loss=0.0589]\n",
            "Epoch 68/1000 - val: : 63918it [00:10, 5897.79it/s, avg_loss=0.0706]\n",
            "Epoch 69/1000 - train: 100%|██████████| 63918/63918 [00:16<00:00, 3887.06it/s, avg_loss=0.0570]\n",
            "Epoch 69/1000 - val: : 63918it [00:10, 6050.73it/s, avg_loss=0.0497]\n",
            "Epoch 70/1000 - train: 100%|██████████| 63918/63918 [00:16<00:00, 3786.35it/s, avg_loss=0.0572]\n",
            "Epoch 70/1000 - val: : 63918it [00:10, 5983.81it/s, avg_loss=0.0460]\n",
            "Epoch 71/1000 - train: 100%|██████████| 63918/63918 [00:16<00:00, 3909.24it/s, avg_loss=0.0549]\n",
            "Epoch 71/1000 - val: : 63918it [00:10, 5934.04it/s, avg_loss=0.0545]\n",
            "Epoch 72/1000 - train: 100%|██████████| 63918/63918 [00:16<00:00, 3854.87it/s, avg_loss=0.0558]\n",
            "Epoch 72/1000 - val: : 63918it [00:10, 5947.56it/s, avg_loss=0.0685]\n",
            "Epoch 73/1000 - train: 100%|██████████| 63918/63918 [00:16<00:00, 3883.68it/s, avg_loss=0.0527]\n",
            "Epoch 73/1000 - val: : 63918it [00:10, 6052.75it/s, avg_loss=0.0422]\n",
            "Epoch 74/1000 - train: 100%|██████████| 63918/63918 [00:16<00:00, 3899.11it/s, avg_loss=0.0527]\n",
            "Epoch 74/1000 - val: : 63918it [00:11, 5809.45it/s, avg_loss=0.0605]\n",
            "Epoch 75/1000 - train: 100%|██████████| 63918/63918 [00:16<00:00, 3938.54it/s, avg_loss=0.0514]\n",
            "Epoch 75/1000 - val: : 63918it [00:10, 6157.46it/s, avg_loss=0.0435]\n",
            "Epoch 76/1000 - train: 100%|██████████| 63918/63918 [00:16<00:00, 3847.36it/s, avg_loss=0.0491]\n",
            "Epoch 76/1000 - val: : 63918it [00:10, 6161.85it/s, avg_loss=0.0394]\n",
            "Epoch 77/1000 - train: 100%|██████████| 63918/63918 [00:16<00:00, 3859.25it/s, avg_loss=0.0494]\n",
            "Epoch 77/1000 - val: : 63918it [00:10, 5928.43it/s, avg_loss=0.0411]\n",
            "Epoch 78/1000 - train: 100%|██████████| 63918/63918 [00:16<00:00, 3875.31it/s, avg_loss=0.0502]\n",
            "Epoch 78/1000 - val: : 63918it [00:10, 5823.30it/s, avg_loss=0.0683]\n",
            "Epoch 79/1000 - train: 100%|██████████| 63918/63918 [00:17<00:00, 3746.18it/s, avg_loss=0.0480]\n",
            "Epoch 79/1000 - val: : 63918it [00:11, 5578.91it/s, avg_loss=0.0419]\n",
            "Epoch 80/1000 - train: 100%|██████████| 63918/63918 [00:16<00:00, 3888.13it/s, avg_loss=0.0462]\n",
            "Epoch 80/1000 - val: : 63918it [00:11, 5796.70it/s, avg_loss=0.0392]\n",
            "Epoch 81/1000 - train: 100%|██████████| 63918/63918 [00:16<00:00, 3854.79it/s, avg_loss=0.0483]\n",
            "Epoch 81/1000 - val: : 63918it [00:10, 5819.46it/s, avg_loss=0.0580]\n",
            "Epoch 82/1000 - train: 100%|██████████| 63918/63918 [00:16<00:00, 3827.45it/s, avg_loss=0.0443]\n",
            "Epoch 82/1000 - val: : 63918it [00:10, 5947.64it/s, avg_loss=0.0371]\n",
            "Epoch 83/1000 - train: 100%|██████████| 63918/63918 [00:16<00:00, 3861.94it/s, avg_loss=0.0447]\n",
            "Epoch 83/1000 - val: : 63918it [00:11, 5790.69it/s, avg_loss=0.0458]\n",
            "Epoch 84/1000 - train: 100%|██████████| 63918/63918 [00:16<00:00, 3795.61it/s, avg_loss=0.0435]\n",
            "Epoch 84/1000 - val: : 63918it [00:10, 6069.12it/s, avg_loss=0.0423]\n",
            "Epoch 85/1000 - train: 100%|██████████| 63918/63918 [00:16<00:00, 3890.34it/s, avg_loss=0.0431]\n",
            "Epoch 85/1000 - val: : 63918it [00:10, 5822.77it/s, avg_loss=0.0426]\n",
            "Epoch 86/1000 - train: 100%|██████████| 63918/63918 [00:16<00:00, 3804.50it/s, avg_loss=0.0418]\n",
            "Epoch 86/1000 - val: : 63918it [00:10, 5892.81it/s, avg_loss=0.0333]\n",
            "Epoch 87/1000 - train: 100%|██████████| 63918/63918 [00:17<00:00, 3725.15it/s, avg_loss=0.0419]\n",
            "Epoch 87/1000 - val: : 63918it [00:11, 5578.86it/s, avg_loss=0.0463]\n",
            "Epoch 88/1000 - train: 100%|██████████| 63918/63918 [00:16<00:00, 3854.97it/s, avg_loss=0.0410]\n",
            "Epoch 88/1000 - val: : 63918it [00:10, 5955.16it/s, avg_loss=0.0458]\n",
            "Epoch 89/1000 - train: 100%|██████████| 63918/63918 [00:16<00:00, 3825.99it/s, avg_loss=0.0405]\n",
            "Epoch 89/1000 - val: : 63918it [00:11, 5720.20it/s, avg_loss=0.0382]\n",
            "Epoch 90/1000 - train: 100%|██████████| 63918/63918 [00:16<00:00, 3821.25it/s, avg_loss=0.0395]\n",
            "Epoch 90/1000 - val: : 63918it [00:10, 5927.83it/s, avg_loss=0.0318]\n",
            "Epoch 91/1000 - train: 100%|██████████| 63918/63918 [00:16<00:00, 3774.25it/s, avg_loss=0.0391]\n",
            "Epoch 91/1000 - val: : 63918it [00:11, 5776.15it/s, avg_loss=0.0332]\n",
            "Epoch 92/1000 - train: 100%|██████████| 63918/63918 [00:16<00:00, 3874.42it/s, avg_loss=0.0388]\n",
            "Epoch 92/1000 - val: : 63918it [00:10, 5847.54it/s, avg_loss=0.0306]\n",
            "Epoch 93/1000 - train: 100%|██████████| 63918/63918 [00:17<00:00, 3754.77it/s, avg_loss=0.0378]\n",
            "Epoch 93/1000 - val: : 63918it [00:10, 5892.43it/s, avg_loss=0.0340]\n",
            "Epoch 94/1000 - train: 100%|██████████| 63918/63918 [00:16<00:00, 3860.58it/s, avg_loss=0.0372]\n",
            "Epoch 94/1000 - val: : 63918it [00:11, 5763.43it/s, avg_loss=0.0384]\n",
            "Epoch 95/1000 - train: 100%|██████████| 63918/63918 [00:16<00:00, 3842.24it/s, avg_loss=0.0366]\n",
            "Epoch 95/1000 - val: : 63918it [00:10, 5839.90it/s, avg_loss=0.0363]\n",
            "Epoch 96/1000 - train: 100%|██████████| 63918/63918 [00:17<00:00, 3736.77it/s, avg_loss=0.0359]\n",
            "Epoch 96/1000 - val: : 63918it [00:10, 5882.59it/s, avg_loss=0.0366]\n",
            "Epoch 97/1000 - train: 100%|██████████| 63918/63918 [00:17<00:00, 3721.68it/s, avg_loss=0.0360]\n",
            "Epoch 97/1000 - val: : 63918it [00:11, 5751.96it/s, avg_loss=0.0525]\n",
            "Epoch 98/1000 - train: 100%|██████████| 63918/63918 [00:17<00:00, 3714.82it/s, avg_loss=0.0345]\n",
            "Epoch 98/1000 - val: : 63918it [00:10, 5838.70it/s, avg_loss=0.0357]\n",
            "Epoch 99/1000 - train: 100%|██████████| 63918/63918 [00:17<00:00, 3757.89it/s, avg_loss=0.0351]\n",
            "Epoch 99/1000 - val: : 63918it [00:10, 5827.70it/s, avg_loss=0.0263]\n",
            "Epoch 100/1000 - train: 100%|██████████| 63918/63918 [00:16<00:00, 3824.15it/s, avg_loss=0.0346]\n",
            "Epoch 100/1000 - val: : 63918it [00:10, 5832.48it/s, avg_loss=0.0318]\n",
            "Epoch 101/1000 - train: 100%|██████████| 63918/63918 [00:16<00:00, 3837.51it/s, avg_loss=0.0335]\n",
            "Epoch 101/1000 - val: : 63918it [00:11, 5709.14it/s, avg_loss=0.0325]\n",
            "Epoch 102/1000 - train: 100%|██████████| 63918/63918 [00:16<00:00, 3900.60it/s, avg_loss=0.0329]\n",
            "Epoch 102/1000 - val: : 63918it [00:11, 5759.30it/s, avg_loss=0.0660]\n",
            "Epoch 103/1000 - train: 100%|██████████| 63918/63918 [00:17<00:00, 3724.75it/s, avg_loss=0.0321]\n",
            "Epoch 103/1000 - val: : 63918it [00:11, 5658.57it/s, avg_loss=0.0247]\n",
            "Epoch 104/1000 - train: 100%|██████████| 63918/63918 [00:16<00:00, 3842.46it/s, avg_loss=0.0318]\n",
            "Epoch 104/1000 - val: : 63918it [00:10, 5902.63it/s, avg_loss=0.0469]\n",
            "Epoch 105/1000 - train: 100%|██████████| 63918/63918 [00:17<00:00, 3745.44it/s, avg_loss=0.0329]\n",
            "Epoch 105/1000 - val: : 63918it [00:11, 5629.15it/s, avg_loss=0.0234]\n",
            "Epoch 106/1000 - train: 100%|██████████| 63918/63918 [00:17<00:00, 3741.81it/s, avg_loss=0.0313]\n",
            "Epoch 106/1000 - val: : 63918it [00:10, 5867.42it/s, avg_loss=0.0397]\n",
            "Epoch 107/1000 - train: 100%|██████████| 63918/63918 [00:16<00:00, 3853.15it/s, avg_loss=0.0313]\n",
            "Epoch 107/1000 - val: : 63918it [00:10, 5918.11it/s, avg_loss=0.0269]\n",
            "Epoch 108/1000 - train: 100%|██████████| 63918/63918 [00:16<00:00, 3766.48it/s, avg_loss=0.0309]\n",
            "Epoch 108/1000 - val: : 63918it [00:10, 5860.76it/s, avg_loss=0.0332]\n",
            "Epoch 109/1000 - train: 100%|██████████| 63918/63918 [00:17<00:00, 3755.49it/s, avg_loss=0.0301]\n",
            "Epoch 109/1000 - val: : 63918it [00:11, 5752.06it/s, avg_loss=0.0220]\n",
            "Epoch 110/1000 - train: 100%|██████████| 63918/63918 [00:16<00:00, 3789.54it/s, avg_loss=0.0299]\n",
            "Epoch 110/1000 - val: : 63918it [00:10, 5843.18it/s, avg_loss=0.0219]\n",
            "Epoch 111/1000 - train: 100%|██████████| 63918/63918 [00:16<00:00, 3760.38it/s, avg_loss=0.0292]\n",
            "Epoch 111/1000 - val: : 63918it [00:11, 5679.18it/s, avg_loss=0.0204]\n",
            "Epoch 112/1000 - train: 100%|██████████| 63918/63918 [00:16<00:00, 3826.35it/s, avg_loss=0.0286]\n",
            "Epoch 112/1000 - val: : 63918it [00:11, 5771.90it/s, avg_loss=0.0272]\n",
            "Epoch 113/1000 - train: 100%|██████████| 63918/63918 [00:16<00:00, 3793.80it/s, avg_loss=0.0282]\n",
            "Epoch 113/1000 - val: : 63918it [00:11, 5706.61it/s, avg_loss=0.0230]\n",
            "Epoch 114/1000 - train: 100%|██████████| 63918/63918 [00:17<00:00, 3698.37it/s, avg_loss=0.0288]\n",
            "Epoch 114/1000 - val: : 63918it [00:11, 5697.33it/s, avg_loss=0.0511]\n",
            "Epoch 115/1000 - train: 100%|██████████| 63918/63918 [00:16<00:00, 3797.43it/s, avg_loss=0.0277]\n",
            "Epoch 115/1000 - val: : 63918it [00:11, 5681.74it/s, avg_loss=0.0658]\n",
            "Epoch 116/1000 - train: 100%|██████████| 63918/63918 [00:17<00:00, 3732.02it/s, avg_loss=0.0275]\n",
            "Epoch 116/1000 - val: : 63918it [00:11, 5642.91it/s, avg_loss=0.0204]\n",
            "Epoch 117/1000 - train: 100%|██████████| 63918/63918 [00:17<00:00, 3748.54it/s, avg_loss=0.0274]\n",
            "Epoch 117/1000 - val: : 63918it [00:10, 5896.87it/s, avg_loss=0.0705]\n",
            "Epoch 118/1000 - train: 100%|██████████| 63918/63918 [00:17<00:00, 3732.95it/s, avg_loss=0.0273]\n",
            "Epoch 118/1000 - val: : 63918it [00:11, 5657.87it/s, avg_loss=0.0258]\n",
            "Epoch 119/1000 - train: 100%|██████████| 63918/63918 [00:17<00:00, 3553.17it/s, avg_loss=0.0269]\n",
            "Epoch 119/1000 - val: : 63918it [00:10, 5958.14it/s, avg_loss=0.0275]\n",
            "Epoch 120/1000 - train: 100%|██████████| 63918/63918 [00:16<00:00, 3805.68it/s, avg_loss=0.0278]\n",
            "Epoch 120/1000 - val: : 63918it [00:11, 5589.54it/s, avg_loss=0.0208]\n",
            "Epoch 121/1000 - train: 100%|██████████| 63918/63918 [00:17<00:00, 3731.80it/s, avg_loss=0.0262]\n",
            "Epoch 121/1000 - val: : 63918it [00:11, 5575.45it/s, avg_loss=0.0297]\n",
            "Epoch 122/1000 - train: 100%|██████████| 63918/63918 [00:16<00:00, 3793.78it/s, avg_loss=0.0256]\n",
            "Epoch 122/1000 - val: : 63918it [00:11, 5576.28it/s, avg_loss=0.0217]\n",
            "Epoch 123/1000 - train: 100%|██████████| 63918/63918 [00:18<00:00, 3524.54it/s, avg_loss=0.0261]\n",
            "Epoch 123/1000 - val: : 63918it [00:17, 3674.61it/s, avg_loss=0.0212]\n",
            "Epoch 124/1000 - train: 100%|██████████| 63918/63918 [00:20<00:00, 3130.22it/s, avg_loss=0.0249]\n",
            "Epoch 124/1000 - val: : 63918it [00:11, 5513.12it/s, avg_loss=0.0213]\n",
            "Epoch 125/1000 - train: 100%|██████████| 63918/63918 [00:17<00:00, 3680.18it/s, avg_loss=0.0246]\n",
            "Epoch 125/1000 - val: : 63918it [00:11, 5570.76it/s, avg_loss=0.0188]\n",
            "Epoch 126/1000 - train: 100%|██████████| 63918/63918 [00:17<00:00, 3590.75it/s, avg_loss=0.0250]\n",
            "Epoch 126/1000 - val: : 63918it [00:11, 5367.63it/s, avg_loss=0.0194]\n",
            "Epoch 127/1000 - train: 100%|██████████| 63918/63918 [00:17<00:00, 3712.72it/s, avg_loss=0.0255]\n",
            "Epoch 127/1000 - val: : 63918it [00:11, 5632.75it/s, avg_loss=0.0245]\n",
            "Epoch 128/1000 - train: 100%|██████████| 63918/63918 [00:17<00:00, 3704.54it/s, avg_loss=0.0237]\n",
            "Epoch 128/1000 - val: : 63918it [00:11, 5707.91it/s, avg_loss=0.0360]\n",
            "Epoch 129/1000 - train: 100%|██████████| 63918/63918 [00:17<00:00, 3718.98it/s, avg_loss=0.0246]\n",
            "Epoch 129/1000 - val: : 63918it [00:11, 5550.22it/s, avg_loss=0.0285]\n",
            "Epoch 130/1000 - train: 100%|██████████| 63918/63918 [00:17<00:00, 3688.26it/s, avg_loss=0.0247]\n",
            "Epoch 130/1000 - val: : 63918it [00:12, 5319.76it/s, avg_loss=0.0196]\n",
            "Epoch 131/1000 - train: 100%|██████████| 63918/63918 [00:17<00:00, 3718.95it/s, avg_loss=0.0235]\n",
            "Epoch 131/1000 - val: : 63918it [00:11, 5455.79it/s, avg_loss=0.0362]\n",
            "Epoch 132/1000 - train: 100%|██████████| 63918/63918 [00:17<00:00, 3630.49it/s, avg_loss=0.0239]\n",
            "Epoch 132/1000 - val: : 63918it [00:12, 5300.86it/s, avg_loss=0.0307]\n",
            "Epoch 133/1000 - train: 100%|██████████| 63918/63918 [00:17<00:00, 3753.94it/s, avg_loss=0.0234]\n",
            "Epoch 133/1000 - val: : 63918it [00:11, 5467.66it/s, avg_loss=0.0210]\n",
            "Epoch 134/1000 - train: 100%|██████████| 63918/63918 [00:19<00:00, 3351.98it/s, avg_loss=0.0234]\n",
            "Epoch 134/1000 - val: : 63918it [00:11, 5434.69it/s, avg_loss=0.0176]\n",
            "Epoch 135/1000 - train: 100%|██████████| 63918/63918 [00:17<00:00, 3701.16it/s, avg_loss=0.0233]\n",
            "Epoch 135/1000 - val: : 63918it [00:11, 5473.42it/s, avg_loss=0.0193]\n",
            "Epoch 136/1000 - train: 100%|██████████| 63918/63918 [00:17<00:00, 3687.37it/s, avg_loss=0.0228]\n",
            "Epoch 136/1000 - val: : 63918it [00:11, 5398.98it/s, avg_loss=0.0463]\n",
            "Epoch 137/1000 - train: 100%|██████████| 63918/63918 [00:16<00:00, 3764.06it/s, avg_loss=0.0231]\n",
            "Epoch 137/1000 - val: : 63918it [00:11, 5478.92it/s, avg_loss=0.0189]\n",
            "Epoch 138/1000 - train: 100%|██████████| 63918/63918 [00:17<00:00, 3700.59it/s, avg_loss=0.0222]\n",
            "Epoch 138/1000 - val: : 63918it [00:11, 5514.29it/s, avg_loss=0.0210]\n",
            "Epoch 139/1000 - train: 100%|██████████| 63918/63918 [00:16<00:00, 3761.51it/s, avg_loss=0.0224]\n",
            "Epoch 139/1000 - val: : 63918it [00:11, 5494.70it/s, avg_loss=0.0187]\n",
            "Epoch 140/1000 - train: 100%|██████████| 63918/63918 [00:17<00:00, 3690.07it/s, avg_loss=0.0226]\n",
            "Epoch 140/1000 - val: : 63918it [00:12, 5317.32it/s, avg_loss=0.0289]\n",
            "Epoch 141/1000 - train: 100%|██████████| 63918/63918 [00:17<00:00, 3697.90it/s, avg_loss=0.0223]\n",
            "Epoch 141/1000 - val: : 63918it [00:11, 5492.60it/s, avg_loss=0.0200]\n",
            "Epoch 142/1000 - train: 100%|██████████| 63918/63918 [00:16<00:00, 3796.90it/s, avg_loss=0.0220]\n",
            "Epoch 142/1000 - val: : 63918it [00:11, 5488.48it/s, avg_loss=0.0413]\n",
            "Epoch 143/1000 - train: 100%|██████████| 63918/63918 [00:16<00:00, 3839.85it/s, avg_loss=0.0218]\n",
            "Epoch 143/1000 - val: : 63918it [00:11, 5409.11it/s, avg_loss=0.0166]\n",
            "Epoch 144/1000 - train: 100%|██████████| 63918/63918 [00:16<00:00, 3829.69it/s, avg_loss=0.0212]\n",
            "Epoch 144/1000 - val: : 63918it [00:11, 5383.23it/s, avg_loss=0.0297]\n",
            "Epoch 145/1000 - train: 100%|██████████| 63918/63918 [00:17<00:00, 3724.57it/s, avg_loss=0.0210]\n",
            "Epoch 145/1000 - val: : 63918it [00:11, 5592.38it/s, avg_loss=0.0175]\n",
            "Epoch 146/1000 - train: 100%|██████████| 63918/63918 [00:17<00:00, 3717.25it/s, avg_loss=0.0214]\n",
            "Epoch 146/1000 - val: : 63918it [00:11, 5606.85it/s, avg_loss=0.0162]\n",
            "Epoch 147/1000 - train: 100%|██████████| 63918/63918 [00:16<00:00, 3763.58it/s, avg_loss=0.0212]\n",
            "Epoch 147/1000 - val: : 63918it [00:11, 5413.99it/s, avg_loss=0.0163]\n",
            "Epoch 148/1000 - train: 100%|██████████| 63918/63918 [00:17<00:00, 3592.40it/s, avg_loss=0.0211]\n",
            "Epoch 148/1000 - val: : 63918it [00:11, 5664.00it/s, avg_loss=0.0181]\n",
            "Epoch 149/1000 - train: 100%|██████████| 63918/63918 [00:17<00:00, 3662.15it/s, avg_loss=0.0203]\n",
            "Epoch 149/1000 - val: : 63918it [00:11, 5686.45it/s, avg_loss=0.0119]\n",
            "Epoch 150/1000 - train: 100%|██████████| 63918/63918 [00:16<00:00, 3767.77it/s, avg_loss=0.0207]\n",
            "Epoch 150/1000 - val: : 63918it [00:12, 5140.29it/s, avg_loss=0.0165]\n",
            "Epoch 151/1000 - train: 100%|██████████| 63918/63918 [00:16<00:00, 3779.24it/s, avg_loss=0.0200]\n",
            "Epoch 151/1000 - val: : 63918it [00:11, 5506.35it/s, avg_loss=0.0186]\n",
            "Epoch 152/1000 - train: 100%|██████████| 63918/63918 [00:17<00:00, 3614.25it/s, avg_loss=0.0202]\n",
            "Epoch 152/1000 - val: : 63918it [00:11, 5611.35it/s, avg_loss=0.0521]\n",
            "Epoch 153/1000 - train: 100%|██████████| 63918/63918 [00:17<00:00, 3732.78it/s, avg_loss=0.0199]\n",
            "Epoch 153/1000 - val: : 63918it [00:11, 5580.20it/s, avg_loss=0.0178]\n",
            "Epoch 154/1000 - train: 100%|██████████| 63918/63918 [00:18<00:00, 3547.71it/s, avg_loss=0.0195]\n",
            "Epoch 154/1000 - val: : 63918it [00:11, 5394.18it/s, avg_loss=0.0178]\n",
            "Epoch 155/1000 - train: 100%|██████████| 63918/63918 [00:17<00:00, 3612.37it/s, avg_loss=0.0199]\n",
            "Epoch 155/1000 - val: : 63918it [00:12, 5196.77it/s, avg_loss=0.0252]\n",
            "Epoch 156/1000 - train: 100%|██████████| 63918/63918 [00:17<00:00, 3649.20it/s, avg_loss=0.0192]\n",
            "Epoch 156/1000 - val: : 63918it [00:11, 5491.58it/s, avg_loss=0.0170]\n",
            "Epoch 157/1000 - train: 100%|██████████| 63918/63918 [00:17<00:00, 3636.41it/s, avg_loss=0.0187]\n",
            "Epoch 157/1000 - val: : 63918it [00:12, 5266.09it/s, avg_loss=0.0481]\n",
            "Epoch 158/1000 - train: 100%|██████████| 63918/63918 [00:18<00:00, 3531.96it/s, avg_loss=0.0203]\n",
            "Epoch 158/1000 - val: : 63918it [00:11, 5407.42it/s, avg_loss=0.0202]\n",
            "Epoch 159/1000 - train: 100%|██████████| 63918/63918 [00:17<00:00, 3707.02it/s, avg_loss=0.0182]\n",
            "Epoch 159/1000 - val: : 63918it [00:11, 5422.37it/s, avg_loss=0.0126]\n",
            "Epoch 160/1000 - train: 100%|██████████| 63918/63918 [00:17<00:00, 3610.28it/s, avg_loss=0.0189]\n",
            "Epoch 160/1000 - val: : 63918it [00:11, 5516.56it/s, avg_loss=0.0196]\n",
            "Epoch 161/1000 - train: 100%|██████████| 63918/63918 [00:17<00:00, 3649.17it/s, avg_loss=0.0183]\n",
            "Epoch 161/1000 - val: : 63918it [00:11, 5378.96it/s, avg_loss=0.0204]\n",
            "Epoch 162/1000 - train: 100%|██████████| 63918/63918 [00:17<00:00, 3618.68it/s, avg_loss=0.0182]\n",
            "Epoch 162/1000 - val: : 63918it [00:11, 5443.70it/s, avg_loss=0.0245]\n",
            "Epoch 163/1000 - train: 100%|██████████| 63918/63918 [00:17<00:00, 3591.94it/s, avg_loss=0.0181]\n",
            "Epoch 163/1000 - val: : 63918it [00:11, 5578.87it/s, avg_loss=0.0163]\n",
            "Epoch 164/1000 - train: 100%|██████████| 63918/63918 [00:17<00:00, 3653.47it/s, avg_loss=0.0179]\n",
            "Epoch 164/1000 - val: : 63918it [00:12, 5185.02it/s, avg_loss=0.0176]\n",
            "Epoch 165/1000 - train: 100%|██████████| 63918/63918 [00:17<00:00, 3723.90it/s, avg_loss=0.0183]\n",
            "Epoch 165/1000 - val: : 63918it [00:12, 5316.37it/s, avg_loss=0.0187]\n",
            "Epoch 166/1000 - train: 100%|██████████| 63918/63918 [00:17<00:00, 3650.29it/s, avg_loss=0.0180]\n",
            "Epoch 166/1000 - val: : 63918it [00:12, 5256.10it/s, avg_loss=0.0145]\n",
            "Epoch 167/1000 - train: 100%|██████████| 63918/63918 [00:18<00:00, 3476.36it/s, avg_loss=0.0176]\n",
            "Epoch 167/1000 - val: : 63918it [00:12, 5254.31it/s, avg_loss=0.0144]\n",
            "Epoch 168/1000 - train: 100%|██████████| 63918/63918 [00:17<00:00, 3677.34it/s, avg_loss=0.0171]\n",
            "Epoch 168/1000 - val: : 63918it [00:11, 5452.29it/s, avg_loss=0.0161]\n",
            "Epoch 169/1000 - train: 100%|██████████| 63918/63918 [00:18<00:00, 3540.00it/s, avg_loss=0.0173]\n",
            "Epoch 169/1000 - val: : 63918it [00:11, 5598.47it/s, avg_loss=0.0221]\n",
            "Epoch 170/1000 - train: 100%|██████████| 63918/63918 [00:17<00:00, 3605.04it/s, avg_loss=0.0180]\n",
            "Epoch 170/1000 - val: : 63918it [00:12, 5287.66it/s, avg_loss=0.0169]\n",
            "Epoch 171/1000 - train: 100%|██████████| 63918/63918 [00:17<00:00, 3590.30it/s, avg_loss=0.0170]\n",
            "Epoch 171/1000 - val: : 63918it [00:12, 5017.14it/s, avg_loss=0.0160]\n",
            "Epoch 172/1000 - train: 100%|██████████| 63918/63918 [00:18<00:00, 3539.63it/s, avg_loss=0.0172]\n",
            "Epoch 172/1000 - val: : 63918it [00:12, 5147.45it/s, avg_loss=0.0146]\n",
            "Epoch 173/1000 - train: 100%|██████████| 63918/63918 [00:18<00:00, 3481.81it/s, avg_loss=0.0173]\n",
            "Epoch 173/1000 - val: : 63918it [00:11, 5735.48it/s, avg_loss=0.0135]\n",
            "Epoch 174/1000 - train: 100%|██████████| 63918/63918 [00:18<00:00, 3521.85it/s, avg_loss=0.0172]\n",
            "Epoch 174/1000 - val: : 63918it [00:11, 5374.54it/s, avg_loss=0.0200]\n",
            "Epoch 175/1000 - train: 100%|██████████| 63918/63918 [00:18<00:00, 3527.20it/s, avg_loss=0.0168]\n",
            "Epoch 175/1000 - val: : 63918it [00:12, 5297.60it/s, avg_loss=0.0231]\n",
            "Epoch 176/1000 - train: 100%|██████████| 63918/63918 [00:18<00:00, 3550.97it/s, avg_loss=0.0165]\n",
            "Epoch 176/1000 - val: : 63918it [00:11, 5413.66it/s, avg_loss=0.0133]\n",
            "Epoch 177/1000 - train: 100%|██████████| 63918/63918 [00:18<00:00, 3447.84it/s, avg_loss=0.0164]\n",
            "Epoch 177/1000 - val: : 63918it [00:11, 5331.45it/s, avg_loss=0.0215]\n",
            "Epoch 178/1000 - train: 100%|██████████| 63918/63918 [00:17<00:00, 3579.47it/s, avg_loss=0.0169]\n",
            "Epoch 178/1000 - val: : 63918it [00:12, 5251.19it/s, avg_loss=0.0181]\n",
            "Epoch 179/1000 - train: 100%|██████████| 63918/63918 [00:18<00:00, 3435.54it/s, avg_loss=0.0165]\n",
            "Epoch 179/1000 - val: : 63918it [00:12, 5172.07it/s, avg_loss=0.0106]\n",
            "Epoch 180/1000 - train: 100%|██████████| 63918/63918 [00:17<00:00, 3557.66it/s, avg_loss=0.0157]\n",
            "Epoch 180/1000 - val: : 63918it [00:12, 5256.24it/s, avg_loss=0.0179]\n",
            "Epoch 181/1000 - train: 100%|██████████| 63918/63918 [00:18<00:00, 3438.68it/s, avg_loss=0.0162]\n",
            "Epoch 181/1000 - val: : 63918it [00:11, 5479.15it/s, avg_loss=0.0141]\n",
            "Epoch 182/1000 - train: 100%|██████████| 63918/63918 [00:18<00:00, 3479.53it/s, avg_loss=0.0157]\n",
            "Epoch 182/1000 - val: : 63918it [00:12, 5075.39it/s, avg_loss=0.0231]\n",
            "Epoch 183/1000 - train: 100%|██████████| 63918/63918 [00:18<00:00, 3474.65it/s, avg_loss=0.0157]\n",
            "Epoch 183/1000 - val: : 63918it [00:12, 5057.36it/s, avg_loss=0.0215]\n",
            "Epoch 184/1000 - train: 100%|██████████| 63918/63918 [00:18<00:00, 3499.57it/s, avg_loss=0.0159]\n",
            "Epoch 184/1000 - val: : 63918it [00:12, 5262.08it/s, avg_loss=0.0100]\n",
            "Epoch 185/1000 - train: 100%|██████████| 63918/63918 [00:18<00:00, 3431.75it/s, avg_loss=0.0156]\n",
            "Epoch 185/1000 - val: : 63918it [00:12, 5127.95it/s, avg_loss=0.0225]\n",
            "Epoch 186/1000 - train: 100%|██████████| 63918/63918 [00:18<00:00, 3547.59it/s, avg_loss=0.0156]\n",
            "Epoch 186/1000 - val: : 63918it [00:11, 5421.18it/s, avg_loss=0.0164]\n",
            "Epoch 187/1000 - train: 100%|██████████| 63918/63918 [00:18<00:00, 3384.12it/s, avg_loss=0.0154]\n",
            "Epoch 187/1000 - val: : 63918it [00:12, 5244.04it/s, avg_loss=0.0159]\n",
            "Epoch 188/1000 - train: 100%|██████████| 63918/63918 [00:17<00:00, 3589.06it/s, avg_loss=0.0150]\n",
            "Epoch 188/1000 - val: : 63918it [00:11, 5356.46it/s, avg_loss=0.0124]\n",
            "Epoch 189/1000 - train: 100%|██████████| 63918/63918 [00:18<00:00, 3478.23it/s, avg_loss=0.0156]\n",
            "Epoch 189/1000 - val: : 63918it [00:11, 5423.16it/s, avg_loss=0.0098]\n",
            "Epoch 190/1000 - train: 100%|██████████| 63918/63918 [00:19<00:00, 3351.10it/s, avg_loss=0.0150]\n",
            "Epoch 190/1000 - val: : 63918it [00:11, 5422.62it/s, avg_loss=0.0177]\n",
            "Epoch 191/1000 - train: 100%|██████████| 63918/63918 [00:18<00:00, 3382.24it/s, avg_loss=0.0150]\n",
            "Epoch 191/1000 - val: : 63918it [00:11, 5432.18it/s, avg_loss=0.0099]\n",
            "Epoch 192/1000 - train: 100%|██████████| 63918/63918 [00:18<00:00, 3442.64it/s, avg_loss=0.0149]\n",
            "Epoch 192/1000 - val: : 63918it [00:12, 5123.93it/s, avg_loss=0.0117]\n",
            "Epoch 193/1000 - train: 100%|██████████| 63918/63918 [00:17<00:00, 3552.87it/s, avg_loss=0.0145]\n",
            "Epoch 193/1000 - val: : 63918it [00:12, 5239.93it/s, avg_loss=0.0155]\n",
            "Epoch 194/1000 - train: 100%|██████████| 63918/63918 [00:18<00:00, 3502.77it/s, avg_loss=0.0149]\n",
            "Epoch 194/1000 - val: : 63918it [00:12, 5210.78it/s, avg_loss=0.0104]\n",
            "Epoch 195/1000 - train: 100%|██████████| 63918/63918 [00:18<00:00, 3504.93it/s, avg_loss=0.0157]\n",
            "Epoch 195/1000 - val: : 63918it [00:12, 5029.42it/s, avg_loss=0.0198]\n",
            "Epoch 196/1000 - train: 100%|██████████| 63918/63918 [00:18<00:00, 3483.40it/s, avg_loss=0.0144]\n",
            "Epoch 196/1000 - val: : 63918it [00:11, 5507.41it/s, avg_loss=0.0134]\n",
            "Epoch 197/1000 - train: 100%|██████████| 63918/63918 [00:18<00:00, 3400.20it/s, avg_loss=0.0141]\n",
            "Epoch 197/1000 - val: : 63918it [00:12, 5104.64it/s, avg_loss=0.0116]\n",
            "Epoch 198/1000 - train: 100%|██████████| 63918/63918 [00:18<00:00, 3542.52it/s, avg_loss=0.0154]\n",
            "Epoch 198/1000 - val: : 63918it [00:12, 5171.54it/s, avg_loss=0.0106]\n",
            "Epoch 199/1000 - train: 100%|██████████| 63918/63918 [00:18<00:00, 3370.21it/s, avg_loss=0.0138]\n",
            "Epoch 199/1000 - val: : 63918it [00:11, 5412.25it/s, avg_loss=0.0153]\n",
            "Epoch 200/1000 - train: 100%|██████████| 63918/63918 [00:18<00:00, 3404.05it/s, avg_loss=0.0145]\n",
            "Epoch 200/1000 - val: : 63918it [00:11, 5359.08it/s, avg_loss=0.0101]\n",
            "Epoch 201/1000 - train: 100%|██████████| 63918/63918 [00:19<00:00, 3294.71it/s, avg_loss=0.0142]\n",
            "Epoch 201/1000 - val: : 63918it [00:11, 5596.37it/s, avg_loss=0.0098]\n",
            "Epoch 202/1000 - train: 100%|██████████| 63918/63918 [00:18<00:00, 3379.94it/s, avg_loss=0.0143]\n",
            "Epoch 202/1000 - val: : 63918it [00:11, 5482.47it/s, avg_loss=0.0124]\n",
            "Epoch 203/1000 - train: 100%|██████████| 63918/63918 [00:18<00:00, 3457.46it/s, avg_loss=0.0141]\n",
            "Epoch 203/1000 - val: : 63918it [00:12, 5170.63it/s, avg_loss=0.0135]\n",
            "Epoch 204/1000 - train: 100%|██████████| 63918/63918 [00:19<00:00, 3326.27it/s, avg_loss=0.0142]\n",
            "Epoch 204/1000 - val: : 63918it [00:12, 5239.39it/s, avg_loss=0.0134]\n",
            "Epoch 205/1000 - train: 100%|██████████| 63918/63918 [00:18<00:00, 3404.99it/s, avg_loss=0.0140]\n",
            "Epoch 205/1000 - val: : 63918it [00:11, 5494.45it/s, avg_loss=0.0106]\n",
            "Epoch 206/1000 - train: 100%|██████████| 63918/63918 [00:20<00:00, 3158.16it/s, avg_loss=0.0134]\n",
            "Epoch 206/1000 - val: : 63918it [00:12, 4969.01it/s, avg_loss=0.0083]\n",
            "Epoch 207/1000 - train: 100%|██████████| 63918/63918 [00:19<00:00, 3321.82it/s, avg_loss=0.0140]\n",
            "Epoch 207/1000 - val: : 63918it [00:12, 4972.34it/s, avg_loss=0.0118]\n",
            "Epoch 208/1000 - train: 100%|██████████| 63918/63918 [00:19<00:00, 3346.78it/s, avg_loss=0.0146]\n",
            "Epoch 208/1000 - val: : 63918it [00:13, 4762.09it/s, avg_loss=0.0088]\n",
            "Epoch 209/1000 - train: 100%|██████████| 63918/63918 [00:19<00:00, 3202.11it/s, avg_loss=0.0133]\n",
            "Epoch 209/1000 - val: : 63918it [00:12, 5010.41it/s, avg_loss=0.0120]\n",
            "Epoch 210/1000 - train: 100%|██████████| 63918/63918 [00:20<00:00, 3061.14it/s, avg_loss=0.0137]\n",
            "Epoch 210/1000 - val: : 63918it [00:12, 5177.03it/s, avg_loss=0.0262]\n",
            "Epoch 211/1000 - train: 100%|██████████| 63918/63918 [00:20<00:00, 3146.48it/s, avg_loss=0.0136]\n",
            "Epoch 211/1000 - val: : 63918it [00:12, 5064.55it/s, avg_loss=0.0128]\n",
            "Epoch 212/1000 - train: 100%|██████████| 63918/63918 [00:21<00:00, 3027.09it/s, avg_loss=0.0130]\n",
            "Epoch 212/1000 - val: : 63918it [00:13, 4891.70it/s, avg_loss=0.0118]\n",
            "Epoch 213/1000 - train: 100%|██████████| 63918/63918 [00:20<00:00, 3120.49it/s, avg_loss=0.0132]\n",
            "Epoch 213/1000 - val: : 63918it [00:13, 4850.09it/s, avg_loss=0.0128]\n",
            "Epoch 214/1000 - train: 100%|██████████| 63918/63918 [00:20<00:00, 3122.40it/s, avg_loss=0.0136]\n",
            "Epoch 214/1000 - val: : 63918it [00:13, 4911.00it/s, avg_loss=0.0136]\n",
            "Epoch 215/1000 - train: 100%|██████████| 63918/63918 [00:20<00:00, 3193.01it/s, avg_loss=0.0135]\n",
            "Epoch 215/1000 - val: : 63918it [00:12, 5180.99it/s, avg_loss=0.0084]\n",
            "Epoch 216/1000 - train: 100%|██████████| 63918/63918 [00:20<00:00, 3121.53it/s, avg_loss=0.0137]\n",
            "Epoch 216/1000 - val: : 63918it [00:13, 4822.16it/s, avg_loss=0.0087]\n",
            "Epoch 217/1000 - train: 100%|██████████| 63918/63918 [00:19<00:00, 3240.23it/s, avg_loss=0.0129]\n",
            "Epoch 217/1000 - val: : 63918it [00:13, 4801.74it/s, avg_loss=0.0167]\n",
            "Epoch 218/1000 - train: 100%|██████████| 63918/63918 [00:19<00:00, 3239.28it/s, avg_loss=0.0131]\n",
            "Epoch 218/1000 - val: : 63918it [00:13, 4762.57it/s, avg_loss=0.0135]\n",
            "Epoch 219/1000 - train: 100%|██████████| 63918/63918 [00:20<00:00, 3080.93it/s, avg_loss=0.0132]\n",
            "Epoch 219/1000 - val: : 63918it [00:12, 4918.53it/s, avg_loss=0.0086]\n",
            "Epoch 220/1000 - train: 100%|██████████| 63918/63918 [00:20<00:00, 3071.55it/s, avg_loss=0.0128]\n",
            "Epoch 220/1000 - val: : 63918it [00:13, 4815.39it/s, avg_loss=0.0109]\n",
            "Epoch 221/1000 - train: 100%|██████████| 63918/63918 [00:20<00:00, 3105.58it/s, avg_loss=0.0130]\n",
            "Epoch 221/1000 - val: : 63918it [00:13, 4911.21it/s, avg_loss=0.0097]\n",
            "Epoch 222/1000 - train: 100%|██████████| 63918/63918 [00:19<00:00, 3213.03it/s, avg_loss=0.0125]\n",
            "Epoch 222/1000 - val: : 63918it [00:13, 4910.12it/s, avg_loss=0.0138]\n",
            "Epoch 223/1000 - train: 100%|██████████| 63918/63918 [00:20<00:00, 3167.59it/s, avg_loss=0.0127]\n",
            "Epoch 223/1000 - val: : 63918it [00:12, 4964.46it/s, avg_loss=0.0143]\n",
            "Epoch 224/1000 - train: 100%|██████████| 63918/63918 [00:20<00:00, 3092.70it/s, avg_loss=0.0127]\n",
            "Epoch 224/1000 - val: : 63918it [00:13, 4803.02it/s, avg_loss=0.0104]\n",
            "Epoch 225/1000 - train: 100%|██████████| 63918/63918 [00:19<00:00, 3217.76it/s, avg_loss=0.0131]\n",
            "Epoch 225/1000 - val: : 63918it [00:13, 4906.01it/s, avg_loss=0.0083]\n",
            "Epoch 226/1000 - train: 100%|██████████| 63918/63918 [00:19<00:00, 3204.10it/s, avg_loss=0.0119]\n",
            "Epoch 226/1000 - val: : 63918it [00:13, 4687.76it/s, avg_loss=0.0155]\n",
            "Epoch 227/1000 - train: 100%|██████████| 63918/63918 [00:20<00:00, 3162.38it/s, avg_loss=0.0126]\n",
            "Epoch 227/1000 - val: : 63918it [00:12, 5097.71it/s, avg_loss=0.0121]\n",
            "Epoch 228/1000 - train: 100%|██████████| 63918/63918 [00:19<00:00, 3205.95it/s, avg_loss=0.0118]\n",
            "Epoch 228/1000 - val: : 63918it [00:12, 5061.18it/s, avg_loss=0.0109]\n",
            "Epoch 229/1000 - train: 100%|██████████| 63918/63918 [00:19<00:00, 3214.61it/s, avg_loss=0.0124]\n",
            "Epoch 229/1000 - val: : 63918it [00:13, 4782.27it/s, avg_loss=0.0088]\n",
            "Epoch 230/1000 - train: 100%|██████████| 63918/63918 [00:20<00:00, 3109.68it/s, avg_loss=0.0120]\n",
            "Epoch 230/1000 - val: : 63918it [00:13, 4886.11it/s, avg_loss=0.0090]\n",
            "Epoch 231/1000 - train: 100%|██████████| 63918/63918 [00:19<00:00, 3223.55it/s, avg_loss=0.0117]\n",
            "Epoch 231/1000 - val: : 63918it [00:12, 4967.94it/s, avg_loss=0.0095]\n",
            "Epoch 232/1000 - train: 100%|██████████| 63918/63918 [00:20<00:00, 3178.03it/s, avg_loss=0.0124]\n",
            "Epoch 232/1000 - val: : 63918it [00:13, 4848.13it/s, avg_loss=0.0131]\n",
            "Epoch 233/1000 - train: 100%|██████████| 63918/63918 [00:20<00:00, 3168.29it/s, avg_loss=0.0116]\n",
            "Epoch 233/1000 - val: : 63918it [00:12, 4919.35it/s, avg_loss=0.0095]\n",
            "Epoch 234/1000 - train: 100%|██████████| 63918/63918 [00:20<00:00, 3064.31it/s, avg_loss=0.0117]\n",
            "Epoch 234/1000 - val: : 63918it [00:12, 4961.21it/s, avg_loss=0.0107]\n",
            "Epoch 235/1000 - train: 100%|██████████| 63918/63918 [00:21<00:00, 2977.22it/s, avg_loss=0.0122]\n",
            "Epoch 235/1000 - val: : 63918it [00:12, 5293.36it/s, avg_loss=0.0144]\n",
            "Epoch 236/1000 - train: 100%|██████████| 63918/63918 [00:21<00:00, 2988.28it/s, avg_loss=0.0115]\n",
            "Epoch 236/1000 - val: : 63918it [00:13, 4818.50it/s, avg_loss=0.0100]\n",
            "Epoch 237/1000 - train: 100%|██████████| 63918/63918 [00:20<00:00, 3147.95it/s, avg_loss=0.0118]\n",
            "Epoch 237/1000 - val: : 63918it [00:12, 4934.91it/s, avg_loss=0.0108]\n",
            "Epoch 238/1000 - train: 100%|██████████| 63918/63918 [00:20<00:00, 3119.71it/s, avg_loss=0.0113]\n",
            "Epoch 238/1000 - val: : 63918it [00:13, 4622.05it/s, avg_loss=0.0106]\n",
            "Epoch 239/1000 - train: 100%|██████████| 63918/63918 [00:20<00:00, 3174.53it/s, avg_loss=0.0118]\n",
            "Epoch 239/1000 - val: : 63918it [00:12, 5088.34it/s, avg_loss=0.0132]\n",
            "Epoch 240/1000 - train: 100%|██████████| 63918/63918 [00:22<00:00, 2900.11it/s, avg_loss=0.0115]\n",
            "Epoch 240/1000 - val: : 63918it [00:13, 4597.52it/s, avg_loss=0.0067]\n",
            "Epoch 241/1000 - train: 100%|██████████| 63918/63918 [00:19<00:00, 3283.23it/s, avg_loss=0.0114]\n",
            "Epoch 241/1000 - val: : 63918it [00:12, 5175.74it/s, avg_loss=0.0085]\n",
            "Epoch 242/1000 - train: 100%|██████████| 63918/63918 [00:21<00:00, 2991.39it/s, avg_loss=0.0113]\n",
            "Epoch 242/1000 - val: : 63918it [00:13, 4848.16it/s, avg_loss=0.0082]\n",
            "Epoch 243/1000 - train: 100%|██████████| 63918/63918 [00:20<00:00, 3084.84it/s, avg_loss=0.0111]\n",
            "Epoch 243/1000 - val: : 63918it [00:12, 4986.26it/s, avg_loss=0.0144]\n",
            "Epoch 244/1000 - train: 100%|██████████| 63918/63918 [00:20<00:00, 3078.66it/s, avg_loss=0.0114]\n",
            "Epoch 244/1000 - val: : 63918it [00:13, 4701.62it/s, avg_loss=0.0113]\n",
            "Epoch 245/1000 - train: 100%|██████████| 63918/63918 [00:19<00:00, 3264.36it/s, avg_loss=0.0110]\n",
            "Epoch 245/1000 - val: : 63918it [00:13, 4726.58it/s, avg_loss=0.0086]\n",
            "Epoch 246/1000 - train: 100%|██████████| 63918/63918 [00:20<00:00, 3157.38it/s, avg_loss=0.0111]\n",
            "Epoch 246/1000 - val: : 63918it [00:12, 5037.87it/s, avg_loss=0.0135]\n",
            "Epoch 247/1000 - train: 100%|██████████| 63918/63918 [00:20<00:00, 3099.62it/s, avg_loss=0.0111]\n",
            "Epoch 247/1000 - val: : 63918it [00:13, 4859.91it/s, avg_loss=0.0127]\n",
            "Epoch 248/1000 - train: 100%|██████████| 63918/63918 [00:20<00:00, 3092.14it/s, avg_loss=0.0107]\n",
            "Epoch 248/1000 - val: : 63918it [00:13, 4723.80it/s, avg_loss=0.0075]\n",
            "Epoch 249/1000 - train: 100%|██████████| 63918/63918 [00:21<00:00, 3021.31it/s, avg_loss=0.0110]\n",
            "Epoch 249/1000 - val: : 63918it [00:12, 4923.30it/s, avg_loss=0.0070]\n",
            "Epoch 250/1000 - train: 100%|██████████| 63918/63918 [00:20<00:00, 3112.29it/s, avg_loss=0.0108]\n",
            "Epoch 250/1000 - val: : 63918it [00:12, 5014.28it/s, avg_loss=0.0112]\n",
            "Epoch 251/1000 - train: 100%|██████████| 63918/63918 [00:20<00:00, 3112.14it/s, avg_loss=0.0109]\n",
            "Epoch 251/1000 - val: : 63918it [00:13, 4801.63it/s, avg_loss=0.0180]\n",
            "Epoch 252/1000 - train: 100%|██████████| 63918/63918 [00:20<00:00, 3159.12it/s, avg_loss=0.0107]\n",
            "Epoch 252/1000 - val: : 63918it [00:13, 4756.34it/s, avg_loss=0.0096]\n",
            "Epoch 253/1000 - train: 100%|██████████| 63918/63918 [00:20<00:00, 3147.11it/s, avg_loss=0.0102]\n",
            "Epoch 253/1000 - val: : 63918it [00:13, 4776.74it/s, avg_loss=0.0098]\n",
            "Epoch 254/1000 - train: 100%|██████████| 63918/63918 [00:20<00:00, 3166.38it/s, avg_loss=0.0102]\n",
            "Epoch 254/1000 - val: : 63918it [00:12, 4975.96it/s, avg_loss=0.0069]\n",
            "Epoch 255/1000 - train: 100%|██████████| 63918/63918 [00:20<00:00, 3142.33it/s, avg_loss=0.0102]\n",
            "Epoch 255/1000 - val: : 63918it [00:13, 4840.41it/s, avg_loss=0.0120]\n",
            "Epoch 256/1000 - train: 100%|██████████| 63918/63918 [00:21<00:00, 2989.02it/s, avg_loss=0.0102]\n",
            "Epoch 256/1000 - val: : 63918it [00:13, 4712.53it/s, avg_loss=0.0123]\n",
            "Epoch 257/1000 - train: 100%|██████████| 63918/63918 [00:19<00:00, 3280.79it/s, avg_loss=0.0106]\n",
            "Epoch 257/1000 - val: : 63918it [00:12, 5294.30it/s, avg_loss=0.0220]\n",
            "Epoch 258/1000 - train: 100%|██████████| 63918/63918 [00:21<00:00, 3032.44it/s, avg_loss=0.0106]\n",
            "Epoch 258/1000 - val: : 63918it [00:13, 4718.29it/s, avg_loss=0.0106]\n",
            "Epoch 259/1000 - train: 100%|██████████| 63918/63918 [00:19<00:00, 3237.03it/s, avg_loss=0.0102]\n",
            "Epoch 259/1000 - val: : 63918it [00:12, 4963.40it/s, avg_loss=0.0210]\n",
            "Epoch 260/1000 - train: 100%|██████████| 63918/63918 [00:19<00:00, 3214.85it/s, avg_loss=0.0105]\n",
            "Epoch 260/1000 - val: : 63918it [00:12, 5107.36it/s, avg_loss=0.0135]\n",
            "Epoch 261/1000 - train: 100%|██████████| 63918/63918 [00:19<00:00, 3360.85it/s, avg_loss=0.0100]\n",
            "Epoch 261/1000 - val: : 63918it [00:13, 4744.31it/s, avg_loss=0.0221]\n",
            "Epoch 262/1000 - train: 100%|██████████| 63918/63918 [00:19<00:00, 3300.61it/s, avg_loss=0.0101]\n",
            "Epoch 262/1000 - val: : 63918it [00:12, 4917.35it/s, avg_loss=0.0089]\n",
            "Epoch 263/1000 - train: 100%|██████████| 63918/63918 [00:17<00:00, 3552.57it/s, avg_loss=0.0102]\n",
            "Epoch 263/1000 - val: : 63918it [00:11, 5349.83it/s, avg_loss=0.0069]\n",
            "Epoch 264/1000 - train: 100%|██████████| 63918/63918 [00:18<00:00, 3498.98it/s, avg_loss=0.0100]\n",
            "Epoch 264/1000 - val: : 63918it [00:12, 5111.53it/s, avg_loss=0.0241]\n",
            "Epoch 265/1000 - train: 100%|██████████| 63918/63918 [00:19<00:00, 3347.53it/s, avg_loss=0.0099]\n",
            "Epoch 265/1000 - val: : 63918it [00:12, 5006.54it/s, avg_loss=0.0081]\n",
            "Epoch 266/1000 - train: 100%|██████████| 63918/63918 [00:18<00:00, 3497.53it/s, avg_loss=0.0098]\n",
            "Epoch 266/1000 - val: : 63918it [00:11, 5380.61it/s, avg_loss=0.0070]\n",
            "Epoch 267/1000 - train: 100%|██████████| 63918/63918 [00:18<00:00, 3457.53it/s, avg_loss=0.0096]\n",
            "Epoch 267/1000 - val: : 63918it [00:11, 5397.59it/s, avg_loss=0.0070]\n",
            "Epoch 268/1000 - train: 100%|██████████| 63918/63918 [00:17<00:00, 3580.89it/s, avg_loss=0.0094]\n",
            "Epoch 268/1000 - val: : 63918it [00:12, 5157.85it/s, avg_loss=0.0086]\n",
            "Epoch 269/1000 - train: 100%|██████████| 63918/63918 [00:17<00:00, 3594.27it/s, avg_loss=0.0100]\n",
            "Epoch 269/1000 - val: : 63918it [00:11, 5633.38it/s, avg_loss=0.0084]\n",
            "Epoch 270/1000 - train: 100%|██████████| 63918/63918 [00:18<00:00, 3429.13it/s, avg_loss=0.0095]\n",
            "Epoch 270/1000 - val: : 63918it [00:12, 5184.47it/s, avg_loss=0.0056]\n",
            "Epoch 271/1000 - train: 100%|██████████| 63918/63918 [00:17<00:00, 3616.54it/s, avg_loss=0.0095]\n",
            "Epoch 271/1000 - val: : 63918it [00:12, 5258.27it/s, avg_loss=0.0113]\n",
            "Epoch 272/1000 - train: 100%|██████████| 63918/63918 [00:18<00:00, 3482.23it/s, avg_loss=0.0095]\n",
            "Epoch 272/1000 - val: : 63918it [00:12, 5302.95it/s, avg_loss=0.0056]\n",
            "Epoch 273/1000 - train: 100%|██████████| 63918/63918 [00:17<00:00, 3552.63it/s, avg_loss=0.0097]\n",
            "Epoch 273/1000 - val: : 63918it [00:12, 5292.43it/s, avg_loss=0.0063]\n",
            "Epoch 274/1000 - train: 100%|██████████| 63918/63918 [00:18<00:00, 3476.34it/s, avg_loss=0.0092]\n",
            "Epoch 274/1000 - val: : 63918it [00:12, 5209.78it/s, avg_loss=0.0070]\n",
            "Epoch 275/1000 - train: 100%|██████████| 63918/63918 [00:18<00:00, 3485.85it/s, avg_loss=0.0088]\n",
            "Epoch 275/1000 - val: : 63918it [00:12, 5069.18it/s, avg_loss=0.0049]\n",
            "Epoch 276/1000 - train: 100%|██████████| 63918/63918 [00:18<00:00, 3451.87it/s, avg_loss=0.0091]\n",
            "Epoch 276/1000 - val: : 63918it [00:11, 5666.07it/s, avg_loss=0.0089]\n",
            "Epoch 277/1000 - train: 100%|██████████| 63918/63918 [00:18<00:00, 3487.21it/s, avg_loss=0.0095]\n",
            "Epoch 277/1000 - val: : 63918it [00:11, 5535.71it/s, avg_loss=0.0209]\n",
            "Epoch 278/1000 - train: 100%|██████████| 63918/63918 [00:18<00:00, 3532.83it/s, avg_loss=0.0086]\n",
            "Epoch 278/1000 - val: : 63918it [00:11, 5398.81it/s, avg_loss=0.0071]\n",
            "Epoch 279/1000 - train: 100%|██████████| 63918/63918 [00:18<00:00, 3478.25it/s, avg_loss=0.0093]\n",
            "Epoch 279/1000 - val: : 63918it [00:11, 5459.86it/s, avg_loss=0.0072]\n",
            "Epoch 280/1000 - train: 100%|██████████| 63918/63918 [00:18<00:00, 3523.64it/s, avg_loss=0.0088]\n",
            "Epoch 280/1000 - val: : 63918it [00:10, 5838.22it/s, avg_loss=0.0206]\n",
            "Epoch 281/1000 - train: 100%|██████████| 63918/63918 [00:19<00:00, 3330.14it/s, avg_loss=0.0087]\n",
            "Epoch 281/1000 - val: : 63918it [00:12, 5166.93it/s, avg_loss=0.0087]\n",
            "Epoch 282/1000 - train: 100%|██████████| 63918/63918 [00:18<00:00, 3373.94it/s, avg_loss=0.0089]\n",
            "Epoch 282/1000 - val: : 63918it [00:11, 5548.12it/s, avg_loss=0.0059]\n",
            "Epoch 283/1000 - train: 100%|██████████| 63918/63918 [00:18<00:00, 3448.32it/s, avg_loss=0.0085]\n",
            "Epoch 283/1000 - val: : 63918it [00:11, 5404.84it/s, avg_loss=0.0085]\n",
            "Epoch 284/1000 - train: 100%|██████████| 63918/63918 [00:18<00:00, 3470.63it/s, avg_loss=0.0089]\n",
            "Epoch 284/1000 - val: : 63918it [00:11, 5575.69it/s, avg_loss=0.0073]\n",
            "Epoch 285/1000 - train: 100%|██████████| 63918/63918 [00:17<00:00, 3637.04it/s, avg_loss=0.0083]\n",
            "Epoch 285/1000 - val: : 63918it [00:11, 5575.91it/s, avg_loss=0.0094]\n",
            "Epoch 286/1000 - train: 100%|██████████| 63918/63918 [00:18<00:00, 3484.75it/s, avg_loss=0.0083]\n",
            "Epoch 286/1000 - val: : 63918it [00:11, 5513.32it/s, avg_loss=0.0054]\n",
            "Epoch 287/1000 - train: 100%|██████████| 63918/63918 [00:18<00:00, 3442.92it/s, avg_loss=0.0084]\n",
            "Epoch 287/1000 - val: : 63918it [00:11, 5515.45it/s, avg_loss=0.0056]\n",
            "Epoch 288/1000 - train: 100%|██████████| 63918/63918 [00:18<00:00, 3530.76it/s, avg_loss=0.0081]\n",
            "Epoch 288/1000 - val: : 63918it [00:12, 5161.07it/s, avg_loss=0.0065]\n",
            "Epoch 289/1000 - train: 100%|██████████| 63918/63918 [00:17<00:00, 3588.93it/s, avg_loss=0.0085]\n",
            "Epoch 289/1000 - val: : 63918it [00:12, 5315.10it/s, avg_loss=0.0053]\n",
            "Epoch 290/1000 - train: 100%|██████████| 63918/63918 [00:17<00:00, 3684.81it/s, avg_loss=0.0080]\n",
            "Epoch 290/1000 - val: : 63918it [00:12, 5325.18it/s, avg_loss=0.0066]\n",
            "Epoch 291/1000 - train: 100%|██████████| 63918/63918 [00:18<00:00, 3513.84it/s, avg_loss=0.0086]\n",
            "Epoch 291/1000 - val: : 63918it [00:11, 5618.32it/s, avg_loss=0.0105]\n",
            "Epoch 292/1000 - train: 100%|██████████| 63918/63918 [00:18<00:00, 3466.74it/s, avg_loss=0.0082]\n",
            "Epoch 292/1000 - val: : 63918it [00:12, 5313.24it/s, avg_loss=0.0064]\n",
            "Epoch 293/1000 - train: 100%|██████████| 63918/63918 [00:17<00:00, 3757.47it/s, avg_loss=0.0086]\n",
            "Epoch 293/1000 - val: : 63918it [00:11, 5537.11it/s, avg_loss=0.0078]\n",
            "Epoch 294/1000 - train: 100%|██████████| 63918/63918 [00:17<00:00, 3587.93it/s, avg_loss=0.0080]\n",
            "Epoch 294/1000 - val: : 63918it [00:11, 5588.23it/s, avg_loss=0.0072]\n",
            "Epoch 295/1000 - train: 100%|██████████| 63918/63918 [00:17<00:00, 3657.55it/s, avg_loss=0.0076]\n",
            "Epoch 295/1000 - val: : 63918it [00:11, 5439.93it/s, avg_loss=0.0061]\n",
            "Epoch 296/1000 - train: 100%|██████████| 63918/63918 [00:17<00:00, 3617.61it/s, avg_loss=0.0080]\n",
            "Epoch 296/1000 - val: : 63918it [00:11, 5403.40it/s, avg_loss=0.0171]\n",
            "Epoch 297/1000 - train: 100%|██████████| 63918/63918 [00:17<00:00, 3581.43it/s, avg_loss=0.0079]\n",
            "Epoch 297/1000 - val: : 63918it [00:12, 5097.18it/s, avg_loss=0.0056]\n",
            "Epoch 298/1000 - train: 100%|██████████| 63918/63918 [00:20<00:00, 3185.24it/s, avg_loss=0.0076]\n",
            "Epoch 298/1000 - val: : 63918it [00:12, 5319.90it/s, avg_loss=0.0058]\n",
            "Epoch 299/1000 - train: 100%|██████████| 63918/63918 [00:23<00:00, 2726.94it/s, avg_loss=0.0077]\n",
            "Epoch 299/1000 - val: : 63918it [00:12, 5099.13it/s, avg_loss=0.0055]\n",
            "Epoch 300/1000 - train: 100%|██████████| 63918/63918 [00:23<00:00, 2694.13it/s, avg_loss=0.0077]\n",
            "Epoch 300/1000 - val: : 63918it [00:13, 4848.13it/s, avg_loss=0.0101]\n",
            "Epoch 301/1000 - train: 100%|██████████| 63918/63918 [00:22<00:00, 2782.80it/s, avg_loss=0.0077]\n",
            "Epoch 301/1000 - val: : 63918it [00:12, 4972.55it/s, avg_loss=0.0055]\n",
            "Epoch 302/1000 - train: 100%|██████████| 63918/63918 [00:23<00:00, 2757.85it/s, avg_loss=0.0075]\n",
            "Epoch 302/1000 - val: : 63918it [00:13, 4881.71it/s, avg_loss=0.0059]\n",
            "Epoch 303/1000 - train: 100%|██████████| 63918/63918 [00:23<00:00, 2775.97it/s, avg_loss=0.0075]\n",
            "Epoch 303/1000 - val: : 63918it [00:12, 5233.48it/s, avg_loss=0.0189]\n",
            "Epoch 304/1000 - train: 100%|██████████| 63918/63918 [00:23<00:00, 2695.97it/s, avg_loss=0.0075]\n",
            "Epoch 304/1000 - val: : 63918it [00:12, 4986.30it/s, avg_loss=0.0139]\n",
            "Epoch 305/1000 - train: 100%|██████████| 63918/63918 [00:23<00:00, 2737.37it/s, avg_loss=0.0075]\n",
            "Epoch 305/1000 - val: : 63918it [00:13, 4797.71it/s, avg_loss=0.0089]\n",
            "Epoch 306/1000 - train: 100%|██████████| 63918/63918 [00:22<00:00, 2850.25it/s, avg_loss=0.0075]\n",
            "Epoch 306/1000 - val: : 63918it [00:12, 4973.85it/s, avg_loss=0.0082]\n",
            "Epoch 307/1000 - train: 100%|██████████| 63918/63918 [00:22<00:00, 2781.38it/s, avg_loss=0.0073]\n",
            "Epoch 307/1000 - val: : 63918it [00:13, 4865.67it/s, avg_loss=0.0057]\n",
            "Epoch 308/1000 - train: 100%|██████████| 63918/63918 [00:22<00:00, 2838.33it/s, avg_loss=0.0071]\n",
            "Epoch 308/1000 - val: : 63918it [00:13, 4787.97it/s, avg_loss=0.0038]\n",
            "Epoch 309/1000 - train: 100%|██████████| 63918/63918 [00:22<00:00, 2894.83it/s, avg_loss=0.0069]\n",
            "Epoch 309/1000 - val: : 63918it [00:12, 5033.27it/s, avg_loss=0.0055]\n",
            "Epoch 310/1000 - train: 100%|██████████| 63918/63918 [00:23<00:00, 2696.87it/s, avg_loss=0.0074]\n",
            "Epoch 310/1000 - val: : 63918it [00:12, 5284.51it/s, avg_loss=0.0058]\n",
            "Epoch 311/1000 - train: 100%|██████████| 63918/63918 [00:23<00:00, 2765.62it/s, avg_loss=0.0069]\n",
            "Epoch 311/1000 - val: : 63918it [00:12, 5159.91it/s, avg_loss=0.0092]\n",
            "Epoch 312/1000 - train: 100%|██████████| 63918/63918 [00:22<00:00, 2795.35it/s, avg_loss=0.0072]\n",
            "Epoch 312/1000 - val: : 63918it [00:12, 5073.38it/s, avg_loss=0.0041]\n",
            "Epoch 313/1000 - train: 100%|██████████| 63918/63918 [00:22<00:00, 2831.01it/s, avg_loss=0.0072]\n",
            "Epoch 313/1000 - val: : 63918it [00:12, 5054.59it/s, avg_loss=0.0034]\n",
            "Epoch 314/1000 - train: 100%|██████████| 63918/63918 [00:23<00:00, 2773.27it/s, avg_loss=0.0073]\n",
            "Epoch 314/1000 - val: : 63918it [00:12, 5136.25it/s, avg_loss=0.0076]\n",
            "Epoch 315/1000 - train: 100%|██████████| 63918/63918 [00:22<00:00, 2832.78it/s, avg_loss=0.0069]\n",
            "Epoch 315/1000 - val: : 63918it [00:12, 5047.29it/s, avg_loss=0.0085]\n",
            "Epoch 316/1000 - train: 100%|██████████| 63918/63918 [00:24<00:00, 2658.53it/s, avg_loss=0.0069]\n",
            "Epoch 316/1000 - val: : 63918it [00:12, 5099.17it/s, avg_loss=0.0041]\n",
            "Epoch 317/1000 - train: 100%|██████████| 63918/63918 [00:23<00:00, 2772.34it/s, avg_loss=0.0073]\n",
            "Epoch 317/1000 - val: : 63918it [00:13, 4914.66it/s, avg_loss=0.0089]\n",
            "Epoch 318/1000 - train: 100%|██████████| 63918/63918 [00:22<00:00, 2826.42it/s, avg_loss=0.0071]\n",
            "Epoch 318/1000 - val: : 63918it [00:12, 5051.51it/s, avg_loss=0.0057]\n",
            "Epoch 319/1000 - train: 100%|██████████| 63918/63918 [00:22<00:00, 2834.58it/s, avg_loss=0.0066]\n",
            "Epoch 319/1000 - val: : 63918it [00:13, 4679.08it/s, avg_loss=0.0054]\n",
            "Epoch 320/1000 - train: 100%|██████████| 63918/63918 [00:22<00:00, 2869.22it/s, avg_loss=0.0066]\n",
            "Epoch 320/1000 - val: : 63918it [00:11, 5336.80it/s, avg_loss=0.0073]\n",
            "Epoch 321/1000 - train: 100%|██████████| 63918/63918 [00:23<00:00, 2776.04it/s, avg_loss=0.0068]\n",
            "Epoch 321/1000 - val: : 63918it [00:12, 4959.93it/s, avg_loss=0.0062]\n",
            "Epoch 322/1000 - train: 100%|██████████| 63918/63918 [00:22<00:00, 2817.20it/s, avg_loss=0.0065]\n",
            "Epoch 322/1000 - val: : 63918it [00:12, 5142.98it/s, avg_loss=0.0042]\n",
            "Epoch 323/1000 - train: 100%|██████████| 63918/63918 [00:22<00:00, 2817.63it/s, avg_loss=0.0067]\n",
            "Epoch 323/1000 - val: : 63918it [00:13, 4614.83it/s, avg_loss=0.0082]\n",
            "Epoch 324/1000 - train: 100%|██████████| 63918/63918 [00:22<00:00, 2852.84it/s, avg_loss=0.0064]\n",
            "Epoch 324/1000 - val: : 63918it [00:12, 4954.15it/s, avg_loss=0.0094]\n",
            "Epoch 325/1000 - train: 100%|██████████| 63918/63918 [00:22<00:00, 2869.85it/s, avg_loss=0.0064]\n",
            "Epoch 325/1000 - val: : 63918it [00:12, 5194.95it/s, avg_loss=0.0056]\n",
            "Epoch 326/1000 - train: 100%|██████████| 63918/63918 [00:23<00:00, 2708.38it/s, avg_loss=0.0063]\n",
            "Epoch 326/1000 - val: : 63918it [00:13, 4683.49it/s, avg_loss=0.0040]\n",
            "Epoch 327/1000 - train: 100%|██████████| 63918/63918 [00:22<00:00, 2868.40it/s, avg_loss=0.0065]\n",
            "Epoch 327/1000 - val: : 63918it [00:12, 5102.30it/s, avg_loss=0.0060]\n",
            "Epoch 328/1000 - train: 100%|██████████| 63918/63918 [00:22<00:00, 2810.64it/s, avg_loss=0.0066]\n",
            "Epoch 328/1000 - val: : 63918it [00:12, 5131.43it/s, avg_loss=0.0238]\n",
            "Epoch 329/1000 - train: 100%|██████████| 63918/63918 [00:23<00:00, 2726.27it/s, avg_loss=0.0065]\n",
            "Epoch 329/1000 - val: : 63918it [00:12, 5198.38it/s, avg_loss=0.0178]\n",
            "Epoch 330/1000 - train: 100%|██████████| 63918/63918 [00:23<00:00, 2764.78it/s, avg_loss=0.0066]\n",
            "Epoch 330/1000 - val: : 63918it [00:11, 5355.30it/s, avg_loss=0.0049]\n",
            "Epoch 331/1000 - train: 100%|██████████| 63918/63918 [00:24<00:00, 2648.85it/s, avg_loss=0.0064]\n",
            "Epoch 331/1000 - val: : 63918it [00:13, 4873.41it/s, avg_loss=0.0054]\n",
            "Epoch 332/1000 - train: 100%|██████████| 63918/63918 [00:22<00:00, 2825.71it/s, avg_loss=0.0063]\n",
            "Epoch 332/1000 - val: : 63918it [00:11, 5350.65it/s, avg_loss=0.0036]\n",
            "Epoch 333/1000 - train: 100%|██████████| 63918/63918 [00:23<00:00, 2726.28it/s, avg_loss=0.0060]\n",
            "Epoch 333/1000 - val: : 63918it [00:12, 5196.50it/s, avg_loss=0.0048]\n",
            "Epoch 334/1000 - train: 100%|██████████| 63918/63918 [00:23<00:00, 2765.26it/s, avg_loss=0.0061]\n",
            "Epoch 334/1000 - val: : 63918it [00:12, 5071.93it/s, avg_loss=0.0032]\n",
            "Epoch 335/1000 - train: 100%|██████████| 63918/63918 [00:23<00:00, 2766.14it/s, avg_loss=0.0062]\n",
            "Epoch 335/1000 - val: : 63918it [00:11, 5396.46it/s, avg_loss=0.0046]\n",
            "Epoch 336/1000 - train: 100%|██████████| 63918/63918 [00:22<00:00, 2876.59it/s, avg_loss=0.0061]\n",
            "Epoch 336/1000 - val: : 63918it [00:12, 5091.76it/s, avg_loss=0.0044]\n",
            "Epoch 337/1000 - train: 100%|██████████| 63918/63918 [00:23<00:00, 2773.73it/s, avg_loss=0.0064]\n",
            "Epoch 337/1000 - val: : 63918it [00:12, 5019.10it/s, avg_loss=0.0122]\n",
            "Epoch 338/1000 - train: 100%|██████████| 63918/63918 [00:22<00:00, 2853.97it/s, avg_loss=0.0064]\n",
            "Epoch 338/1000 - val: : 63918it [00:12, 5284.77it/s, avg_loss=0.0143]\n",
            "Epoch 339/1000 - train: 100%|██████████| 63918/63918 [00:23<00:00, 2766.44it/s, avg_loss=0.0058]\n",
            "Epoch 339/1000 - val: : 54016it [00:10, 5148.37it/s, avg_loss=0.0037]"
          ]
        }
      ]
    },
    {
      "cell_type": "markdown",
      "metadata": {
        "id": "ibz9hvlJfrk0"
      },
      "source": [
        "### Evaluación del entreanamiento"
      ]
    },
    {
      "cell_type": "code",
      "metadata": {
        "id": "UkVVbabdlzzb"
      },
      "source": [
        "# Best validation performace and epoch\n",
        "best_val, epoch = min((v, e) for (e, v) in enumerate(val_loss))"
      ],
      "execution_count": null,
      "outputs": []
    },
    {
      "cell_type": "code",
      "metadata": {
        "id": "GEo9xbnOlIj7"
      },
      "source": [
        "plt.figure(figsize=(7, 5), dpi=80)\n",
        "plt.plot(epoch_loss)\n",
        "plt.plot(val_loss)\n",
        "plt.axhline(y=best_val, linestyle='--')\n",
        "plt.title('Best Validation Performace is {:.4f}'.format(best_val)+ ' at epoch {}'.format(epoch))\n",
        "plt.ylabel('MSE loss')\n",
        "plt.xlabel('epoch')\n",
        "plt.legend(['train', 'val', 'best per'], loc='upper left')\n",
        "plt.show()"
      ],
      "execution_count": null,
      "outputs": []
    },
    {
      "cell_type": "markdown",
      "metadata": {
        "id": "p_KoFnXtg9Lb"
      },
      "source": [
        "### Guardar y cargar red neuronal\n",
        "Para guardar:"
      ]
    },
    {
      "cell_type": "code",
      "metadata": {
        "id": "X13sOgygd0LC"
      },
      "source": [
        "PATH ='/content/my_net'\n",
        "torch.save(model.state_dict(), PATH)"
      ],
      "execution_count": null,
      "outputs": []
    },
    {
      "cell_type": "markdown",
      "metadata": {
        "id": "kcWVnkyChKNS"
      },
      "source": [
        "Para cargar: \n"
      ]
    },
    {
      "cell_type": "code",
      "metadata": {
        "id": "9-Qu6yKVhchZ"
      },
      "source": [
        "#model.load_state_dict(torch.load(PATH))"
      ],
      "execution_count": null,
      "outputs": []
    },
    {
      "cell_type": "markdown",
      "metadata": {
        "id": "Ttgs4xxesEkw"
      },
      "source": [
        "### Prueba del modelo"
      ]
    },
    {
      "cell_type": "code",
      "metadata": {
        "id": "PN41Ms7ytCFI"
      },
      "source": [
        "def net_vs_odeint(net, X_net, X, t, f):\n",
        "  X_tensor = torch.from_numpy(X_net).unsqueeze(dim=0) # <- 1) de numpy a torch, 2)de dim 1 a dim 2\n",
        "  Y = odeint(f, X, t)[1, :]\n",
        "  Y_tensor = net(X_tensor.to(torch.float32).to(device))\n",
        "  Y_net =  Y_tensor.squeeze(dim=0).detach().cpu().numpy() # <- 1) de dim 2 a dim 1, 2) quita registro de gradiente, 3) convierte a numpy\n",
        "  return Y_net, Y"
      ],
      "execution_count": null,
      "outputs": []
    },
    {
      "cell_type": "code",
      "metadata": {
        "id": "-O2rJZvesDt6"
      },
      "source": [
        "model.eval()\n",
        "test_trayes = 2 \n",
        "n_steps = len(t)\n",
        "fig = plt.figure()\n",
        "ax = Axes3D(fig)\n",
        "for _ in range(test_trayes):\n",
        "  V = np.zeros((n_steps, 3)) \n",
        "  V_net = np.zeros((n_steps, 3))\n",
        "  v0 = 30 * (np.random.random(3) -0.5) # v = (x, y, z)\n",
        "  v = v0; v_net = v0\n",
        "  V_net[0, :] = v0; V[0, :] = v0\n",
        "  for s in range(1, n_steps):\n",
        "    v_net, v = net_vs_odeint(model, v_net, v, t[0:2], lorenz)\n",
        "    V_net[s, :] = v_net\n",
        "    V[s, :] = v\n",
        "\n",
        "  ax.plot(V[:, 0], V[0:, 1], V[0:, 2], label='odeint', alpha=0.2)\n",
        "  ax.plot(V_net[:, 0], V_net[:, 1], V_net[:, 2], linestyle='dashed', label='NN')\n",
        "  ax.scatter(v0[0], v0[1], v0[2], c='red')\n",
        "\n",
        "ax.legend()\n",
        "ax.view_init(18, -113)\n",
        "fig.set_size_inches(12.5, 4.5)\n",
        "plt.show()"
      ],
      "execution_count": null,
      "outputs": []
    },
    {
      "cell_type": "code",
      "metadata": {
        "id": "RL9usMK4us_H"
      },
      "source": [
        "fig, ax = plt.subplots(3, 1)\n",
        "axis = ['$x$', '$y$', '$z$']\n",
        "for i, a in enumerate(axis):\n",
        "  ax[i].plot(t, V[:, i],label='odeint', alpha=0.3)\n",
        "  ax[i].plot(t, V_net[:, i], label='NN', linestyle='dashed')\n",
        "  ax[i].set_ylabel(a)\n",
        "  ax[i].set_xlabel('$t$')\n",
        "  ax[i].legend()\n",
        "\n",
        "fig.set_size_inches(14.5, 6.5)\n",
        "plt.show()"
      ],
      "execution_count": null,
      "outputs": []
    }
  ]
}