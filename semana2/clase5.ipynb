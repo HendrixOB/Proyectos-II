{
  "nbformat": 4,
  "nbformat_minor": 0,
  "metadata": {
    "colab": {
      "name": "clase5.ipynb",
      "provenance": [],
      "collapsed_sections": [],
      "include_colab_link": true
    },
    "kernelspec": {
      "name": "python3",
      "display_name": "Python 3"
    },
    "language_info": {
      "name": "python"
    }
  },
  "cells": [
    {
      "cell_type": "markdown",
      "metadata": {
        "id": "view-in-github",
        "colab_type": "text"
      },
      "source": [
        "<a href=\"https://colab.research.google.com/github/sergfer26/Proyectos-II/blob/main/semana2/clase5.ipynb\" target=\"_parent\"><img src=\"https://colab.research.google.com/assets/colab-badge.svg\" alt=\"Open In Colab\"/></a>"
      ]
    },
    {
      "cell_type": "markdown",
      "metadata": {
        "id": "bwfRMbiw0ZB2"
      },
      "source": [
        "# Instalación de bibliotecas en Colab"
      ]
    },
    {
      "cell_type": "code",
      "metadata": {
        "colab": {
          "base_uri": "https://localhost:8080/"
        },
        "id": "NEQ-mGrKx4Ft",
        "outputId": "091fbfd1-9332-46ee-e4cf-832ede3161c8"
      },
      "source": [
        "#!pip3 install torch==1.9.0\n",
        "#!pip3 install torchvison==0.10.0\n",
        "#!pip3 install matplotlib==3.4.3\n",
        "!pip3 install torchviz"
      ],
      "execution_count": 1,
      "outputs": [
        {
          "output_type": "stream",
          "name": "stdout",
          "text": [
            "Collecting torchviz\n",
            "  Downloading torchviz-0.0.2.tar.gz (4.9 kB)\n",
            "Requirement already satisfied: torch in /usr/local/lib/python3.7/dist-packages (from torchviz) (1.9.0+cu102)\n",
            "Requirement already satisfied: graphviz in /usr/local/lib/python3.7/dist-packages (from torchviz) (0.10.1)\n",
            "Requirement already satisfied: typing-extensions in /usr/local/lib/python3.7/dist-packages (from torch->torchviz) (3.7.4.3)\n",
            "Building wheels for collected packages: torchviz\n",
            "  Building wheel for torchviz (setup.py) ... \u001b[?25l\u001b[?25hdone\n",
            "  Created wheel for torchviz: filename=torchviz-0.0.2-py3-none-any.whl size=4151 sha256=9a05010298051afaf829d9fc42f7d1d934ee4cdd04811304fc72aea958863f64\n",
            "  Stored in directory: /root/.cache/pip/wheels/04/38/f5/dc4f85c3909051823df49901e72015d2d750bd26b086480ec2\n",
            "Successfully built torchviz\n",
            "Installing collected packages: torchviz\n",
            "Successfully installed torchviz-0.0.2\n"
          ]
        }
      ]
    },
    {
      "cell_type": "code",
      "metadata": {
        "id": "JhwtMI9O0jP2"
      },
      "source": [
        "import pandas as pd\n",
        "import numpy as np\n",
        "import torch \n",
        "import matplotlib\n",
        "from matplotlib import pyplot as plt\n",
        "matplotlib.style.use('ggplot')"
      ],
      "execution_count": 2,
      "outputs": []
    },
    {
      "cell_type": "markdown",
      "metadata": {
        "id": "CXMWweWN-CYa"
      },
      "source": [
        "# Funciones de activación\n",
        "## Sigmoid\n",
        "\n",
        "Sea $\\sigma : \\mathbb{R} \\rightarrow [0, 1]$ una función dada por\n",
        "$$\\sigma(x) = \\frac{1}{1+ e^{-x}}\\quad \\forall x \\in \\mathbb{R}.$$"
      ]
    },
    {
      "cell_type": "code",
      "metadata": {
        "colab": {
          "base_uri": "https://localhost:8080/",
          "height": 265
        },
        "id": "aou2z0sG-BVG",
        "outputId": "ed56a706-2514-487e-ff20-e990f2df9365"
      },
      "source": [
        "x = torch.arange(-5., 5., 0.1)\n",
        "y = torch.sigmoid(x)\n",
        "plt.plot(x.numpy(), y.numpy())\n",
        "plt.show()"
      ],
      "execution_count": 3,
      "outputs": [
        {
          "output_type": "display_data",
          "data": {
            "image/png": "[encoded data removed]",
            "text/plain": [
              "<Figure size 432x288 with 1 Axes>"
            ]
          },
          "metadata": {}
        }
      ]
    },
    {
      "cell_type": "markdown",
      "metadata": {
        "id": "4XyIEpT5DEry"
      },
      "source": [
        "## Tangente hiperbólica \n",
        "\n",
        "Sea $\\text{tanh}:\\mathbb{R}\\rightarrow [-1, 1]$ una función dada por\n",
        "$$\\text{tanh}(x) = \\frac{e^x - e^{-x}}{e^{x}+ e^{-x}} \\quad \\forall x \\in \\mathbb{R}.$$"
      ]
    },
    {
      "cell_type": "code",
      "metadata": {
        "colab": {
          "base_uri": "https://localhost:8080/",
          "height": 265
        },
        "id": "-ROqfs4qDBYN",
        "outputId": "eef24ddb-b1aa-4da3-bf09-b0e9cc35f767"
      },
      "source": [
        "y = torch.tanh(x)\n",
        "plt.plot(x.numpy(), y.numpy())\n",
        "plt.show()"
      ],
      "execution_count": 4,
      "outputs": [
        {
          "output_type": "display_data",
          "data": {
            "image/png": "[encoded data removed]",
            "text/plain": [
              "<Figure size 432x288 with 1 Axes>"
            ]
          },
          "metadata": {}
        }
      ]
    },
    {
      "cell_type": "markdown",
      "metadata": {
        "id": "PKx4qCiHEL46"
      },
      "source": [
        "## ReLu\n",
        "Sea $\\text{ReLU}: \\mathbb{R} \\rightarrow \\mathbb{R}^{+}$ una función dada por \n",
        "$$\\text{ReLU}(x) = \\max(x, 0) \\quad \\forall x \\in \\mathbb{R}.$$\n",
        "\n",
        "La función ReLU debe su nombre al termino rectified linear unit, es una de la funciones de activación que han obtenido importantes resultados en tiempos recientes."
      ]
    },
    {
      "cell_type": "code",
      "metadata": {
        "colab": {
          "base_uri": "https://localhost:8080/",
          "height": 265
        },
        "id": "u9RFnZZhEHza",
        "outputId": "455adbe8-59b7-442a-e346-281a85d2d87d"
      },
      "source": [
        "relu = torch.nn.ReLU()\n",
        "y = relu(x)\n",
        "plt.plot(x.numpy(), y.numpy())\n",
        "plt.show()"
      ],
      "execution_count": 5,
      "outputs": [
        {
          "output_type": "display_data",
          "data": {
            "image/png": "[encoded data removed]",
            "text/plain": [
              "<Figure size 432x288 with 1 Axes>"
            ]
          },
          "metadata": {}
        }
      ]
    },
    {
      "cell_type": "markdown",
      "metadata": {
        "id": "JbbGt4-KGJi7"
      },
      "source": [
        "## PreLU\n",
        "Sea $\\text{PreLU}: \\mathbb{R} \\rightarrow \\mathbb{R}^{+}$ una función dada por \n",
        "$$\\text{ReLU}(x) = \\max(0,x)+ a \\cdot min(0,x) \\quad \\forall x \\in \\mathbb{R}.$$\n",
        "\n",
        "Es la versión paramétrica de la función ReLU."
      ]
    },
    {
      "cell_type": "code",
      "metadata": {
        "colab": {
          "base_uri": "https://localhost:8080/",
          "height": 265
        },
        "id": "oczIf15HFkXn",
        "outputId": "06ceccd4-b0cf-4719-eedb-230116dfbfd1"
      },
      "source": [
        "prelu = torch.nn.PReLU(num_parameters=1)\n",
        "y = prelu(x)\n",
        "plt.plot(x.numpy(), y.detach().numpy())\n",
        "plt.show()"
      ],
      "execution_count": 6,
      "outputs": [
        {
          "output_type": "display_data",
          "data": {
            "image/png": "[encoded data removed]",
            "text/plain": [
              "<Figure size 432x288 with 1 Axes>"
            ]
          },
          "metadata": {}
        }
      ]
    },
    {
      "cell_type": "markdown",
      "metadata": {
        "id": "Ztuv3mwzH8ch"
      },
      "source": [
        "## Softmax \n",
        "La función softmax se puede entender como la función de densidad de una variable aleatoria discreta $y$.\n",
        "$$\\mathbb{P}[y=i|\\mathbf{x}] = \\text{softmax}(\\mathbf{x}) =\\frac{e^{x_i}}{\\sum_{j=1}^{k}e^{x_j}}$$\n",
        "\n",
        "$$\\mathbf{x} = [x_1, x_2, \\cdots, x_{k}]$$\n",
        "Es una función muy útil para la interpretación de valores para clasificación multiclase, esta función esta dada por"
      ]
    },
    {
      "cell_type": "code",
      "metadata": {
        "colab": {
          "base_uri": "https://localhost:8080/"
        },
        "id": "yGDe6KCzJcCv",
        "outputId": "bae8b0d9-a786-4e0c-d7eb-41701ab5e402"
      },
      "source": [
        "softmax = torch.nn.Softmax(dim=1)\n",
        "x = torch.rand(1, 3)\n",
        "y = softmax(x)\n",
        "print(x)\n",
        "print(y)\n",
        "print(torch.sum(y, dim=1))"
      ],
      "execution_count": 7,
      "outputs": [
        {
          "output_type": "stream",
          "name": "stdout",
          "text": [
            "tensor([[0.9551, 0.0192, 0.1045]])\n",
            "tensor([[0.5496, 0.2156, 0.2348]])\n",
            "tensor([1.0000])\n"
          ]
        }
      ]
    },
    {
      "cell_type": "markdown",
      "metadata": {
        "id": "Kz9b5fDbMZTa"
      },
      "source": [
        "# Función de costos (función objetivo)\n",
        "## Mean Squared Error Loss (MSE)\n",
        "\n",
        "Para problemas de regresión donde $\\hat{y}$ es una predicción y $y$ es el valor real, calculamos el error por medio de la siguiente función\n",
        "\n",
        "$$\\text{MSE}\\left(Y, \\hat Y\\right) = \\frac{1}{N}\\sum_{y, \\hat y \\in Y \\times \\hat Y}\\left(y - \\hat y\\right)^2.$$\n",
        "\n",
        "Donde $N$ el tamaño de muestra."
      ]
    },
    {
      "cell_type": "code",
      "metadata": {
        "colab": {
          "base_uri": "https://localhost:8080/"
        },
        "id": "dqclO9JUNjSY",
        "outputId": "b5d67da0-1a2d-4f24-ff25-2813179b60d8"
      },
      "source": [
        "import torch.nn as nn\n",
        "\n",
        "mse_loss = nn.MSELoss()\n",
        "yhat = torch.rand(3, 5, requires_grad = True)\n",
        "y = torch.rand(3, 5)\n",
        "loss = mse_loss(y, yhat)\n",
        "print(loss)"
      ],
      "execution_count": 8,
      "outputs": [
        {
          "output_type": "stream",
          "name": "stdout",
          "text": [
            "tensor(0.1728, grad_fn=<MseLossBackward>)\n"
          ]
        }
      ]
    },
    {
      "cell_type": "markdown",
      "metadata": {
        "id": "a0eOmO_qOL5G"
      },
      "source": [
        "## Categorical Cross-Entropy Loss\n",
        "\n",
        "Una función usada para la clasificación multiclase. Suponiendo que $y$ y $\\hat y$ siguen una distribución multinomial de tamaño $N$, la función de costos nos dirá que tan distintos son ambos resultados\n",
        "\n",
        "$$CEL\\left(\\hat Y, C\\right) = \\frac{1}{N}\\sum_{\\hat y, c_y\\in \\hat Y\\times C}\\text{loss}(\\hat y, c_y)$$\n",
        "\n",
        "$$\\text{loss}(\\mathbf{x}, \\text{class}) = - \\log\\left(\\frac{\\exp(\\mathbf x[\\text{class}])}{\\sum_{j} \\exp(\\mathbf{x}[j])}\\right)$$\n",
        "\n",
        "$$ \\hat Y \\in \\mathbb{R}^{k \\times \\#C} \\quad C:=\\text{conjunto de clases}$$"
      ]
    },
    {
      "cell_type": "code",
      "metadata": {
        "colab": {
          "base_uri": "https://localhost:8080/"
        },
        "id": "MoVgVBGjN5sf",
        "outputId": "6ed61171-e72d-4fb8-b5b8-8061bafbde1c"
      },
      "source": [
        "ce_loss = nn.CrossEntropyLoss()\n",
        "yhat = torch.rand(3, 5, requires_grad = True)\n",
        "y = torch.tensor([1, 0, 3], dtype=torch.int64)\n",
        "loss = ce_loss(yhat, y)\n",
        "print(loss)"
      ],
      "execution_count": 9,
      "outputs": [
        {
          "output_type": "stream",
          "name": "stdout",
          "text": [
            "tensor(1.5835, grad_fn=<NllLossBackward>)\n"
          ]
        }
      ]
    },
    {
      "cell_type": "markdown",
      "metadata": {
        "id": "MVdUHjIwNp_2"
      },
      "source": [
        "## Binary Cross-Entropy Loss\n",
        "\n",
        "Es el caso particular de la función anterior, se usa cuando únicamente trabajamos con dos clases."
      ]
    },
    {
      "cell_type": "code",
      "metadata": {
        "colab": {
          "base_uri": "https://localhost:8080/"
        },
        "id": "EgiSh4deN2el",
        "outputId": "035d3e04-9ae0-4577-ae92-4613e52aa84f"
      },
      "source": [
        "bce_loss = nn.BCELoss()\n",
        "sigmoid = nn.Sigmoid()\n",
        "ps = sigmoid(torch.rand(4, 1, requires_grad=True)) # probabilidades\n",
        "y = torch.tensor([1, 0, 1, 0],  dtype=torch.float32).view(4, 1)\n",
        "loss = bce_loss(ps, y)\n",
        "print(ps)\n",
        "print(loss)"
      ],
      "execution_count": 10,
      "outputs": [
        {
          "output_type": "stream",
          "name": "stdout",
          "text": [
            "tensor([[0.7229],\n",
            "        [0.5011],\n",
            "        [0.7133],\n",
            "        [0.6604]], grad_fn=<SigmoidBackward>)\n",
            "tensor(0.6094, grad_fn=<BinaryCrossEntropyBackward>)\n"
          ]
        }
      ]
    },
    {
      "cell_type": "markdown",
      "metadata": {
        "id": "psGTD2mc9VTK"
      },
      "source": [
        "#Clasificación multi-clase con redes neuronles artificiales"
      ]
    },
    {
      "cell_type": "code",
      "metadata": {
        "id": "nE2tzRR2MIxK"
      },
      "source": [
        "url = 'https://raw.githubusercontent.com/deep-learning-with-pytorch/dlwpt-code/master/data/p1ch4/tabular-wine/winequality-white.csv'\n",
        "data = pd.read_csv(url, delimiter=\";\")"
      ],
      "execution_count": 11,
      "outputs": []
    },
    {
      "cell_type": "code",
      "metadata": {
        "colab": {
          "base_uri": "https://localhost:8080/",
          "height": 221
        },
        "id": "XXMv_bY5M6H2",
        "outputId": "1616ef57-1623-4ec3-ecdd-ce9414d1a3e4"
      },
      "source": [
        "data.head()"
      ],
      "execution_count": 12,
      "outputs": [
        {
          "output_type": "execute_result",
          "data": {
            "text/html": [
              "<div>\n",
              "<style scoped>\n",
              "    .dataframe tbody tr th:only-of-type {\n",
              "        vertical-align: middle;\n",
              "    }\n",
              "\n",
              "    .dataframe tbody tr th {\n",
              "        vertical-align: top;\n",
              "    }\n",
              "\n",
              "    .dataframe thead th {\n",
              "        text-align: right;\n",
              "    }\n",
              "</style>\n",
              "<table border=\"1\" class=\"dataframe\">\n",
              "  <thead>\n",
              "    <tr style=\"text-align: right;\">\n",
              "      <th></th>\n",
              "      <th>fixed acidity</th>\n",
              "      <th>volatile acidity</th>\n",
              "      <th>citric acid</th>\n",
              "      <th>residual sugar</th>\n",
              "      <th>chlorides</th>\n",
              "      <th>free sulfur dioxide</th>\n",
              "      <th>total sulfur dioxide</th>\n",
              "      <th>density</th>\n",
              "      <th>pH</th>\n",
              "      <th>sulphates</th>\n",
              "      <th>alcohol</th>\n",
              "      <th>quality</th>\n",
              "    </tr>\n",
              "  </thead>\n",
              "  <tbody>\n",
              "    <tr>\n",
              "      <th>0</th>\n",
              "      <td>7.0</td>\n",
              "      <td>0.27</td>\n",
              "      <td>0.36</td>\n",
              "      <td>20.7</td>\n",
              "      <td>0.045</td>\n",
              "      <td>45.0</td>\n",
              "      <td>170.0</td>\n",
              "      <td>1.0010</td>\n",
              "      <td>3.00</td>\n",
              "      <td>0.45</td>\n",
              "      <td>8.8</td>\n",
              "      <td>6</td>\n",
              "    </tr>\n",
              "    <tr>\n",
              "      <th>1</th>\n",
              "      <td>6.3</td>\n",
              "      <td>0.30</td>\n",
              "      <td>0.34</td>\n",
              "      <td>1.6</td>\n",
              "      <td>0.049</td>\n",
              "      <td>14.0</td>\n",
              "      <td>132.0</td>\n",
              "      <td>0.9940</td>\n",
              "      <td>3.30</td>\n",
              "      <td>0.49</td>\n",
              "      <td>9.5</td>\n",
              "      <td>6</td>\n",
              "    </tr>\n",
              "    <tr>\n",
              "      <th>2</th>\n",
              "      <td>8.1</td>\n",
              "      <td>0.28</td>\n",
              "      <td>0.40</td>\n",
              "      <td>6.9</td>\n",
              "      <td>0.050</td>\n",
              "      <td>30.0</td>\n",
              "      <td>97.0</td>\n",
              "      <td>0.9951</td>\n",
              "      <td>3.26</td>\n",
              "      <td>0.44</td>\n",
              "      <td>10.1</td>\n",
              "      <td>6</td>\n",
              "    </tr>\n",
              "    <tr>\n",
              "      <th>3</th>\n",
              "      <td>7.2</td>\n",
              "      <td>0.23</td>\n",
              "      <td>0.32</td>\n",
              "      <td>8.5</td>\n",
              "      <td>0.058</td>\n",
              "      <td>47.0</td>\n",
              "      <td>186.0</td>\n",
              "      <td>0.9956</td>\n",
              "      <td>3.19</td>\n",
              "      <td>0.40</td>\n",
              "      <td>9.9</td>\n",
              "      <td>6</td>\n",
              "    </tr>\n",
              "    <tr>\n",
              "      <th>4</th>\n",
              "      <td>7.2</td>\n",
              "      <td>0.23</td>\n",
              "      <td>0.32</td>\n",
              "      <td>8.5</td>\n",
              "      <td>0.058</td>\n",
              "      <td>47.0</td>\n",
              "      <td>186.0</td>\n",
              "      <td>0.9956</td>\n",
              "      <td>3.19</td>\n",
              "      <td>0.40</td>\n",
              "      <td>9.9</td>\n",
              "      <td>6</td>\n",
              "    </tr>\n",
              "  </tbody>\n",
              "</table>\n",
              "</div>"
            ],
            "text/plain": [
              "   fixed acidity  volatile acidity  citric acid  ...  sulphates  alcohol  quality\n",
              "0            7.0              0.27         0.36  ...       0.45      8.8        6\n",
              "1            6.3              0.30         0.34  ...       0.49      9.5        6\n",
              "2            8.1              0.28         0.40  ...       0.44     10.1        6\n",
              "3            7.2              0.23         0.32  ...       0.40      9.9        6\n",
              "4            7.2              0.23         0.32  ...       0.40      9.9        6\n",
              "\n",
              "[5 rows x 12 columns]"
            ]
          },
          "metadata": {},
          "execution_count": 12
        }
      ]
    },
    {
      "cell_type": "code",
      "metadata": {
        "colab": {
          "base_uri": "https://localhost:8080/"
        },
        "id": "vsdImgS_M6to",
        "outputId": "c29f5c93-cde2-45be-802d-19d280142216"
      },
      "source": [
        "samples, n_features = data.to_numpy().shape\n",
        "(samples, n_features)"
      ],
      "execution_count": 13,
      "outputs": [
        {
          "output_type": "execute_result",
          "data": {
            "text/plain": [
              "(4898, 12)"
            ]
          },
          "metadata": {},
          "execution_count": 13
        }
      ]
    },
    {
      "cell_type": "markdown",
      "metadata": {
        "id": "0ZaYvm3FOsaV"
      },
      "source": [
        "Clases:"
      ]
    },
    {
      "cell_type": "code",
      "metadata": {
        "colab": {
          "base_uri": "https://localhost:8080/"
        },
        "id": "zO_oMEl4KpFz",
        "outputId": "eb124d43-4495-46c6-f62c-0dda33d3ae67"
      },
      "source": [
        "clases = np.sort(data['quality'].unique())\n",
        "clases"
      ],
      "execution_count": 14,
      "outputs": [
        {
          "output_type": "execute_result",
          "data": {
            "text/plain": [
              "array([3, 4, 5, 6, 7, 8, 9])"
            ]
          },
          "metadata": {},
          "execution_count": 14
        }
      ]
    },
    {
      "cell_type": "code",
      "metadata": {
        "colab": {
          "base_uri": "https://localhost:8080/",
          "height": 609
        },
        "id": "IQXy0yjSqsR0",
        "outputId": "02859441-ed21-4aaf-e616-101281ea5734"
      },
      "source": [
        "%matplotlib inline\n",
        "data.hist(figsize=[12,10])\n",
        "plt.show()"
      ],
      "execution_count": 15,
      "outputs": [
        {
          "output_type": "display_data",
          "data": {
            "image/png": "[encoded data removed]",
            "text/plain": [
              "<Figure size 864x720 with 12 Axes>"
            ]
          },
          "metadata": {
            "needs_background": "light"
          }
        }
      ]
    },
    {
      "cell_type": "markdown",
      "metadata": {
        "id": "EqLatTTYqmMJ"
      },
      "source": [
        "Dividimos el *dataframe* `data` en `training_data` y `test_data`, "
      ]
    },
    {
      "cell_type": "code",
      "metadata": {
        "id": "UOMir2Tkq6yp"
      },
      "source": [
        "msk = np.random.rand(len(data)) < 0.9\n",
        "training_data = data[msk]\n",
        "test_data = data[~msk]"
      ],
      "execution_count": 16,
      "outputs": []
    },
    {
      "cell_type": "code",
      "metadata": {
        "colab": {
          "base_uri": "https://localhost:8080/"
        },
        "id": "cHEQ8v7RD_FK",
        "outputId": "9810d104-a098-4783-b2f9-d6d32f6dbe8d"
      },
      "source": [
        "n_train = len(training_data)\n",
        "n_train # cantidad de datos de entrenamiento"
      ],
      "execution_count": 17,
      "outputs": [
        {
          "output_type": "execute_result",
          "data": {
            "text/plain": [
              "4398"
            ]
          },
          "metadata": {},
          "execution_count": 17
        }
      ]
    },
    {
      "cell_type": "markdown",
      "metadata": {
        "id": "uAlGvMTeyIkH"
      },
      "source": [
        "### Media y desviación estándar de los datos de entrenamiento"
      ]
    },
    {
      "cell_type": "code",
      "metadata": {
        "colab": {
          "base_uri": "https://localhost:8080/"
        },
        "id": "3H5LHwf_sABO",
        "outputId": "f85cda6b-1d2b-4a05-80a8-48cc1bc3b7b5"
      },
      "source": [
        "X_train = training_data.drop('quality', axis=1)\n",
        "mean_data = X_train.mean(axis=0)\n",
        "mean_data"
      ],
      "execution_count": 18,
      "outputs": [
        {
          "output_type": "execute_result",
          "data": {
            "text/plain": [
              "fixed acidity             6.854093\n",
              "volatile acidity          0.278123\n",
              "citric acid               0.333865\n",
              "residual sugar            6.347146\n",
              "chlorides                 0.045745\n",
              "free sulfur dioxide      35.307981\n",
              "total sulfur dioxide    138.160528\n",
              "density                   0.994008\n",
              "pH                        3.189545\n",
              "sulphates                 0.489418\n",
              "alcohol                  10.519022\n",
              "dtype: float64"
            ]
          },
          "metadata": {},
          "execution_count": 18
        }
      ]
    },
    {
      "cell_type": "code",
      "metadata": {
        "colab": {
          "base_uri": "https://localhost:8080/"
        },
        "id": "EopxTwSfs7ln",
        "outputId": "9e5c9641-72bf-47ee-ec64-ef94b3752d4b"
      },
      "source": [
        "std_data = X_train.std(axis=0)\n",
        "std_data"
      ],
      "execution_count": 19,
      "outputs": [
        {
          "output_type": "execute_result",
          "data": {
            "text/plain": [
              "fixed acidity            0.847922\n",
              "volatile acidity         0.100251\n",
              "citric acid              0.121016\n",
              "residual sugar           5.066582\n",
              "chlorides                0.021731\n",
              "free sulfur dioxide     17.118791\n",
              "total sulfur dioxide    42.510472\n",
              "density                  0.002994\n",
              "pH                       0.151123\n",
              "sulphates                0.113947\n",
              "alcohol                  1.227139\n",
              "dtype: float64"
            ]
          },
          "metadata": {},
          "execution_count": 19
        }
      ]
    },
    {
      "cell_type": "markdown",
      "metadata": {
        "id": "B0QLZCNoalDD"
      },
      "source": [
        "## Dataset"
      ]
    },
    {
      "cell_type": "code",
      "metadata": {
        "id": "NS1mLhxPOzbS"
      },
      "source": [
        "from torch.utils.data import Dataset\n",
        "\n",
        "class DataframeDataset(Dataset):\n",
        "\n",
        "  def __init__(self, data, y_name, transform=None, target_transform=None):\n",
        "    '''\n",
        "      data: pandas.DataFrame\n",
        "    '''\n",
        "    #self.data = torch.from_numpy(data.to_numpy()).to(dtype=torch.float32)\n",
        "    self.Y = torch.tensor(data[y_name].to_numpy(), dtype=torch.long)\n",
        "    aux = data.drop(y_name, axis=1).to_numpy()\n",
        "    self.X = torch.from_numpy(aux).to(dtype=torch.float32)\n",
        "    self.transform = transform\n",
        "    self.target_transform = target_transform \n",
        "\n",
        "  def __len__(self):\n",
        "    return self.Y.size()[0]\n",
        "\n",
        "  def __getitem__(self, idx):\n",
        "    x = self.X[idx, :]\n",
        "    y = self.Y[idx]\n",
        "    if self.transform:\n",
        "      x = self.transform(x)\n",
        "    if self.target_transform:\n",
        "      y = self.target_transform(y)\n",
        "    return x, y"
      ],
      "execution_count": 20,
      "outputs": []
    },
    {
      "cell_type": "markdown",
      "metadata": {
        "id": "FFUMPwMqxCgn"
      },
      "source": [
        "### Transformaciones\n",
        "\n"
      ]
    },
    {
      "cell_type": "code",
      "metadata": {
        "id": "QoUh87_cxRsv"
      },
      "source": [
        "tx = lambda x: (x - torch.tensor(mean_data, dtype=torch.float32))/torch.tensor(std_data, dtype=torch.float32)\n",
        "ty = lambda y: y - torch.tensor(3, dtype=torch.long)"
      ],
      "execution_count": 21,
      "outputs": []
    },
    {
      "cell_type": "code",
      "metadata": {
        "id": "A3dKh4FLsLmm"
      },
      "source": [
        "train_dataset = DataframeDataset(training_data, y_name='quality', transform=tx, target_transform=ty)\n",
        "test_dataset = DataframeDataset(test_data, y_name='quality', transform=tx, target_transform=ty)"
      ],
      "execution_count": 22,
      "outputs": []
    },
    {
      "cell_type": "markdown",
      "metadata": {
        "id": "IX4ZuCHrn7kg"
      },
      "source": [
        "## DataLoader"
      ]
    },
    {
      "cell_type": "code",
      "metadata": {
        "id": "mBtDwW8bnwDM"
      },
      "source": [
        "from torch.utils.data import DataLoader\n",
        "train_dataloader = DataLoader(train_dataset, batch_size=64, shuffle=True)\n",
        "test_dataloader = DataLoader(test_dataset, batch_size=1, shuffle=True)"
      ],
      "execution_count": 23,
      "outputs": []
    },
    {
      "cell_type": "code",
      "metadata": {
        "colab": {
          "base_uri": "https://localhost:8080/"
        },
        "id": "ywZfG10mt_Pg",
        "outputId": "b885115e-c063-485b-c2f0-3e87b7110e27"
      },
      "source": [
        "train_features, train_labels = next(iter(train_dataloader))\n",
        "print(f\"Feature batch shape: {train_features.size()}\")\n",
        "print(f\"Labels batch shape: {train_labels.size()}\")"
      ],
      "execution_count": 24,
      "outputs": [
        {
          "output_type": "stream",
          "name": "stdout",
          "text": [
            "Feature batch shape: torch.Size([64, 11])\n",
            "Labels batch shape: torch.Size([64])\n"
          ]
        }
      ]
    },
    {
      "cell_type": "markdown",
      "metadata": {
        "id": "2NYpRPOXKFH1"
      },
      "source": [
        "## Declaración de una red neuronal en Pytorch\n",
        "\n",
        "* $k :=$ tamaño de mini-batch, *batch size* (64 casi todo el tiempo).\n",
        "* $n :=$ numéro de razgos (11).\n",
        "* $C :=$ el conjunto de calificaciones (\\{3, 4, 5, 6, 7, 8, 9\\}).\n",
        "* $c = \\#C$\n",
        "\n",
        "Sea $f_a( \\cdot |\\theta): \\mathbb{R}^{k \\times n}\\rightarrow [0,1]^{c}$ con $a = \\langle [n, 64, 64, c], \\{\\text{relu}, \\text{relu}, \\text{softmax}\\}\\rangle$ la red neuronal que usaremos para la tarea de clasificación. Existen varias maneras de declarar la misma arquitectura de una red neuronal en Pytorch. A continuación mostraremos como escribir $f_a $ de distintas formas.\n",
        "\n",
        "### 1. Forma explicita."
      ]
    },
    {
      "cell_type": "code",
      "metadata": {
        "id": "I72b7budG4uG"
      },
      "source": [
        "n_features = n_features -1 \n",
        "n_clases = len(clases)"
      ],
      "execution_count": 25,
      "outputs": []
    },
    {
      "cell_type": "code",
      "metadata": {
        "id": "zhH-kpJ4KDk4",
        "colab": {
          "base_uri": "https://localhost:8080/"
        },
        "outputId": "57f5e9c1-854e-43df-8094-7c1d5715fb6a"
      },
      "source": [
        "import torch.nn.functional as F\n",
        "\n",
        "# generating some random features\n",
        "x = torch.randn(1, n_features) \n",
        "\n",
        "# define the weights\n",
        "W1 = torch.randn((n_features, 64), requires_grad=True)\n",
        "W2 = torch.randn((64, 64), requires_grad=True)\n",
        "W3 = torch.randn((64, n_clases), requires_grad=True)\n",
        "\n",
        "# define the bias terms\n",
        "B1 = torch.randn((64), requires_grad=True)\n",
        "B2 = torch.randn((64), requires_grad=True)\n",
        "B3 = torch.randn((n_clases), requires_grad=True)\n",
        "\n",
        "# calculate hidden and output layers\n",
        "h1 = F.relu((x @ W1) + B1)\n",
        "h2 = F.relu((h1 @ W2) + B2)\n",
        "output = (h2 @ W3) + B3\n",
        "output"
      ],
      "execution_count": 26,
      "outputs": [
        {
          "output_type": "execute_result",
          "data": {
            "text/plain": [
              "tensor([[-182.4648,  151.9663,   13.5274,   28.2937, -213.5244,  -27.7773,\n",
              "          -14.8108]], grad_fn=<AddBackward0>)"
            ]
          },
          "metadata": {},
          "execution_count": 26
        }
      ]
    },
    {
      "cell_type": "markdown",
      "metadata": {
        "id": "Kyd1_MnkWd0i"
      },
      "source": [
        "### 2. Usando la clase `torch.nn.Module`"
      ]
    },
    {
      "cell_type": "code",
      "metadata": {
        "id": "w8PLdLxIWm_W"
      },
      "source": [
        "from torch import nn\n",
        "\n",
        "# define the network class of two hidden layers\n",
        "class MyNetwork(nn.Module):\n",
        "    def __init__(self, n_in, n_out, N):\n",
        "        # call constructor from superclass\n",
        "        super().__init__()\n",
        "        \n",
        "        # define network layers\n",
        "        self.z1 = nn.Linear(n_in, N[0])\n",
        "        self.z2 = nn.Linear(N[0], N[1])\n",
        "        self.z3 = nn.Linear(N[1], n_out)\n",
        "        \n",
        "    def forward(self, x):\n",
        "        # define forward pass\n",
        "        x = F.relu(self.z1(x)) # h1\n",
        "        x = F.relu(self.z2(x)) # h2\n",
        "        x = self.z3(x) # h3 Softmax\n",
        "        return x\n"
      ],
      "execution_count": 27,
      "outputs": []
    },
    {
      "cell_type": "code",
      "metadata": {
        "id": "pIFoXpx7AT_8",
        "colab": {
          "base_uri": "https://localhost:8080/"
        },
        "outputId": "c7611b27-9a77-4a69-f615-d15d43e3a198"
      },
      "source": [
        "N=[64, 64]\n",
        "model = MyNetwork(n_features, n_clases, N)\n",
        "model.forward(x)"
      ],
      "execution_count": 28,
      "outputs": [
        {
          "output_type": "execute_result",
          "data": {
            "text/plain": [
              "tensor([[ 0.2083, -0.1692, -0.0794,  0.1332, -0.0129, -0.0402,  0.0272]],\n",
              "       grad_fn=<AddmmBackward>)"
            ]
          },
          "metadata": {},
          "execution_count": 28
        }
      ]
    },
    {
      "cell_type": "code",
      "metadata": {
        "colab": {
          "base_uri": "https://localhost:8080/"
        },
        "id": "fLD3oDIOZo3V",
        "outputId": "e53ce24e-d2ee-4332-d1c5-652addfc84a4"
      },
      "source": [
        "model(x)"
      ],
      "execution_count": 29,
      "outputs": [
        {
          "output_type": "execute_result",
          "data": {
            "text/plain": [
              "tensor([[ 0.2083, -0.1692, -0.0794,  0.1332, -0.0129, -0.0402,  0.0272]],\n",
              "       grad_fn=<AddmmBackward>)"
            ]
          },
          "metadata": {},
          "execution_count": 29
        }
      ]
    },
    {
      "cell_type": "code",
      "metadata": {
        "colab": {
          "base_uri": "https://localhost:8080/"
        },
        "id": "hxQytKMfaEPn",
        "outputId": "d3558cc0-5c33-46ea-d9cb-bc2f61110bba"
      },
      "source": [
        "# print model architecture\n",
        "print(model)"
      ],
      "execution_count": 30,
      "outputs": [
        {
          "output_type": "stream",
          "name": "stdout",
          "text": [
            "MyNetwork(\n",
            "  (z1): Linear(in_features=11, out_features=64, bias=True)\n",
            "  (z2): Linear(in_features=64, out_features=64, bias=True)\n",
            "  (z3): Linear(in_features=64, out_features=7, bias=True)\n",
            ")\n"
          ]
        }
      ]
    },
    {
      "cell_type": "markdown",
      "metadata": {
        "id": "7OXMSIcUaZkW"
      },
      "source": [
        "### 3. Usando la clase `torch.nn.Sequential`"
      ]
    },
    {
      "cell_type": "code",
      "metadata": {
        "id": "A9tfUsVCasi_"
      },
      "source": [
        "# define model architecture\n",
        "model = nn.Sequential(\n",
        "    nn.Linear(n_features, 64),\n",
        "    nn.ReLU(),\n",
        "    nn.Linear(64, 64),\n",
        "    nn.ReLU(),\n",
        "    nn.Linear(64, n_clases),\n",
        "    #nn.Sigmoid()\n",
        ")"
      ],
      "execution_count": 31,
      "outputs": []
    },
    {
      "cell_type": "code",
      "metadata": {
        "colab": {
          "base_uri": "https://localhost:8080/"
        },
        "id": "iLfiJiR8bop1",
        "outputId": "2fc3fe48-b164-4a4a-9497-ac6bed792c61"
      },
      "source": [
        "model(x)"
      ],
      "execution_count": 32,
      "outputs": [
        {
          "output_type": "execute_result",
          "data": {
            "text/plain": [
              "tensor([[-0.1154,  0.0233,  0.0276, -0.0056,  0.2334,  0.0721,  0.1131]],\n",
              "       grad_fn=<AddmmBackward>)"
            ]
          },
          "metadata": {},
          "execution_count": 32
        }
      ]
    },
    {
      "cell_type": "code",
      "metadata": {
        "colab": {
          "base_uri": "https://localhost:8080/"
        },
        "id": "nsObYlnBb-1m",
        "outputId": "6598adba-b969-47f1-bae8-2727e1118792"
      },
      "source": [
        "# print model architecture\n",
        "print(model)"
      ],
      "execution_count": 33,
      "outputs": [
        {
          "output_type": "stream",
          "name": "stdout",
          "text": [
            "Sequential(\n",
            "  (0): Linear(in_features=11, out_features=64, bias=True)\n",
            "  (1): ReLU()\n",
            "  (2): Linear(in_features=64, out_features=64, bias=True)\n",
            "  (3): ReLU()\n",
            "  (4): Linear(in_features=64, out_features=7, bias=True)\n",
            ")\n"
          ]
        }
      ]
    },
    {
      "cell_type": "markdown",
      "metadata": {
        "id": "hJiwNZ4bcWLD"
      },
      "source": [
        "Se pueden añadir nombres cada vez que se aplica una función a la información."
      ]
    },
    {
      "cell_type": "code",
      "metadata": {
        "id": "PSK_Ey-5cDx9"
      },
      "source": [
        "from collections import OrderedDict\n",
        "# define model architecture\n",
        "model = nn.Sequential(OrderedDict([\n",
        "    ('z1', nn.Linear(n_features, 64)),\n",
        "    ('h1', nn.ReLU()),\n",
        "    ('z2', nn.Linear(64, 64)),\n",
        "    ('h2', nn.ReLU()),\n",
        "    ('z3', nn.Linear(64, n_clases)),\n",
        "    #nn.Sigmoid()\n",
        "]))"
      ],
      "execution_count": 34,
      "outputs": []
    },
    {
      "cell_type": "code",
      "metadata": {
        "colab": {
          "base_uri": "https://localhost:8080/"
        },
        "id": "8ZnA3C2ac-gY",
        "outputId": "01cde691-eea4-4646-aa7c-0b5786a02ad3"
      },
      "source": [
        "# instantiate the model\n",
        "model(x)"
      ],
      "execution_count": 35,
      "outputs": [
        {
          "output_type": "execute_result",
          "data": {
            "text/plain": [
              "tensor([[-0.0703,  0.0067, -0.2292,  0.0870, -0.1283, -0.1293, -0.1368]],\n",
              "       grad_fn=<AddmmBackward>)"
            ]
          },
          "metadata": {},
          "execution_count": 35
        }
      ]
    },
    {
      "cell_type": "code",
      "metadata": {
        "colab": {
          "base_uri": "https://localhost:8080/"
        },
        "id": "xiGcDuoYdBTI",
        "outputId": "68beea8b-69f4-4a4b-9a1a-f51174c773a6"
      },
      "source": [
        "# print model architecture\n",
        "print(model)"
      ],
      "execution_count": 36,
      "outputs": [
        {
          "output_type": "stream",
          "name": "stdout",
          "text": [
            "Sequential(\n",
            "  (z1): Linear(in_features=11, out_features=64, bias=True)\n",
            "  (h1): ReLU()\n",
            "  (z2): Linear(in_features=64, out_features=64, bias=True)\n",
            "  (h2): ReLU()\n",
            "  (z3): Linear(in_features=64, out_features=7, bias=True)\n",
            ")\n"
          ]
        }
      ]
    },
    {
      "cell_type": "markdown",
      "metadata": {
        "id": "5JLp49K4pvVs"
      },
      "source": [
        "También pueden agregarse modulos al modelo después de haber definido una instancia de `nn.Sequential`."
      ]
    },
    {
      "cell_type": "code",
      "metadata": {
        "id": "cT7wcrTApazJ"
      },
      "source": [
        "model = nn.Sequential()\n",
        "model.add_module('z1', nn.Linear(n_features, 64))\n",
        "model.add_module('h1', nn.ReLU())\n",
        "model.add_module('z2', nn.Linear(64, 64))\n",
        "model.add_module('h2', nn.ReLU())\n",
        "model.add_module('z3', nn.Linear(64, n_clases))\n"
      ],
      "execution_count": 37,
      "outputs": []
    },
    {
      "cell_type": "code",
      "metadata": {
        "colab": {
          "base_uri": "https://localhost:8080/"
        },
        "id": "6jmo7_gIqfVo",
        "outputId": "8c970b12-9da1-4256-db1b-3a0da905c5d0"
      },
      "source": [
        "# print model architecture\n",
        "print(model)"
      ],
      "execution_count": 38,
      "outputs": [
        {
          "output_type": "stream",
          "name": "stdout",
          "text": [
            "Sequential(\n",
            "  (z1): Linear(in_features=11, out_features=64, bias=True)\n",
            "  (h1): ReLU()\n",
            "  (z2): Linear(in_features=64, out_features=64, bias=True)\n",
            "  (h2): ReLU()\n",
            "  (z3): Linear(in_features=64, out_features=7, bias=True)\n",
            ")\n"
          ]
        }
      ]
    },
    {
      "cell_type": "markdown",
      "metadata": {
        "id": "xYS68KhrcElG"
      },
      "source": [
        "### 4. Forma mixta: `torch.nn.Module` + `torch.nn.Sequential` "
      ]
    },
    {
      "cell_type": "code",
      "metadata": {
        "id": "8MLa_YGllL8B"
      },
      "source": [
        "import torch\n",
        "from torch import nn\n",
        "\n",
        "class MyNetwork2(nn.Module):\n",
        "    def __init__(self, n_in, n_out, N):\n",
        "        super().__init__()\n",
        "        \n",
        "        # define the layers\n",
        "        self.layers = nn.Sequential(\n",
        "            nn.Linear(n_in, N[0]),\n",
        "            nn.ReLU(),\n",
        "            nn.Linear(N[0], N[1]),\n",
        "            nn.ReLU(),\n",
        "            nn.Linear(N[1], n_out)\n",
        "        )\n",
        "    \n",
        "    def forward(self, x):\n",
        "        # forward pass\n",
        "        x = self.layers(x)\n",
        "        return x"
      ],
      "execution_count": 39,
      "outputs": []
    },
    {
      "cell_type": "code",
      "metadata": {
        "colab": {
          "base_uri": "https://localhost:8080/"
        },
        "id": "1qajpBJYlret",
        "outputId": "b4b79e72-8da8-466a-eb8c-9a69e5de5593"
      },
      "source": [
        "# instantiate the model\n",
        "model = MyNetwork2(n_features, n_clases, N)\n",
        "\n",
        "# print model architecture\n",
        "print(model)"
      ],
      "execution_count": 40,
      "outputs": [
        {
          "output_type": "stream",
          "name": "stdout",
          "text": [
            "MyNetwork2(\n",
            "  (layers): Sequential(\n",
            "    (0): Linear(in_features=11, out_features=64, bias=True)\n",
            "    (1): ReLU()\n",
            "    (2): Linear(in_features=64, out_features=64, bias=True)\n",
            "    (3): ReLU()\n",
            "    (4): Linear(in_features=64, out_features=7, bias=True)\n",
            "  )\n",
            ")\n"
          ]
        }
      ]
    },
    {
      "cell_type": "markdown",
      "metadata": {
        "id": "kQ-hbfPbmymF"
      },
      "source": [
        "## Visualización gráfica de la arquitectura  (`torchviz`)"
      ]
    },
    {
      "cell_type": "code",
      "metadata": {
        "id": "Fn03_RJk-GqD",
        "colab": {
          "base_uri": "https://localhost:8080/",
          "height": 37
        },
        "outputId": "89935cf4-9962-4e9d-c684-9746828e877a"
      },
      "source": [
        "from torchviz import make_dot\n",
        "\n",
        "yhat = model(x)\n",
        "make_dot(yhat, params=dict(list(model.named_parameters()))).render(\"My network\", format=\"png\")"
      ],
      "execution_count": 41,
      "outputs": [
        {
          "output_type": "execute_result",
          "data": {
            "application/vnd.google.colaboratory.intrinsic+json": {
              "type": "string"
            },
            "text/plain": [
              "'My network.png'"
            ]
          },
          "metadata": {},
          "execution_count": 41
        }
      ]
    },
    {
      "cell_type": "markdown",
      "metadata": {
        "id": "JZWAR3mmx02E"
      },
      "source": [
        "![My network.png](data:image/png;base64,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)"
      ]
    },
    {
      "cell_type": "markdown",
      "metadata": {
        "id": "TVSliPUHsxnP"
      },
      "source": [
        "## Función objetivo y optimizador\n",
        "\n",
        "$$\\text{Problema: } \\quad \\min_{\\theta \\in \\mathbb{R}^{P([11, 64, 64, 7])}}CEL\\left(\\theta; Y_{(b)}, \\hat{Y}_{(b)}\\right) \\qquad \\forall b \\in \\{1, \\cdots, n_{batch}\\}$$\n",
        "\n",
        "$$\\hat{Y}_{(b)} = f_a\\left(X_{(b)} |\\theta\\right)$$\n",
        "\n",
        "Donde $n_{batch}$ es el número de particiones que se hizo sobre el conjunto de datos de entrenamiento original."
      ]
    },
    {
      "cell_type": "code",
      "metadata": {
        "id": "Q2KxzUx_s4or"
      },
      "source": [
        "from torch import optim\n",
        "\n",
        "criterion = nn.CrossEntropyLoss()\n",
        "optimizer = optim.Adam(model.parameters(), lr=0.001, weight_decay=0.0005)"
      ],
      "execution_count": 42,
      "outputs": []
    },
    {
      "cell_type": "markdown",
      "metadata": {
        "id": "LWrj-z_4DcCR"
      },
      "source": [
        "## Entrenamiento"
      ]
    },
    {
      "cell_type": "code",
      "metadata": {
        "colab": {
          "base_uri": "https://localhost:8080/"
        },
        "id": "I0rg4jjGDd9k",
        "outputId": "03c55de6-8e84-4ead-acab-2eabf33f3a53"
      },
      "source": [
        "from tqdm import tqdm\n",
        "\n",
        "outer = tqdm(total=3, desc='Epoch', position=0)\n",
        "for ii in range(3):\n",
        "    inner = tqdm(total=5, desc='Batch', position=1)\n",
        "    for jj in range(2):\n",
        "        #do your training\n",
        "        inner.update(1)\n",
        "    outer.update(1)"
      ],
      "execution_count": 44,
      "outputs": [
        {
          "output_type": "stream",
          "name": "stderr",
          "text": [
            "Epoch:   0%|          | 0/3 [00:00<?, ?it/s]\n",
            "Batch:   0%|          | 0/5 [00:00<?, ?it/s]\u001b[A\n",
            "Batch:  40%|████      | 2/5 [00:00<00:00, 182.40it/s]\n",
            "\n",
            "Batch:  40%|████      | 2/5 [00:00<00:00, 114.56it/s]\n"
          ]
        }
      ]
    },
    {
      "cell_type": "markdown",
      "metadata": {
        "id": "Vt2gRhukw8uH"
      },
      "source": [
        "\n",
        "Paso de aprendizaje por época o *epoch*."
      ]
    },
    {
      "cell_type": "code",
      "metadata": {
        "id": "6M0EmF9awW57"
      },
      "source": [
        "def fit(model, dataloader, optimizer, criterion, pbar):\n",
        "  running_loss = 0.0\n",
        "  correct = 0\n",
        "  total = 0\n",
        "  for i, data in enumerate(dataloader, 0):\n",
        "    X, Y = data\n",
        "    optimizer.zero_grad() # reinicia el gradiente\n",
        "    pred = model(X) # forward pass \n",
        "    loss = criterion(pred, Y) # evaluación de predicción\n",
        "    loss.backward() # cálcula las derivadas \n",
        "    optimizer.step() # paso de optimización \n",
        "\n",
        "    running_loss += loss.item()\n",
        "    avg_loss = running_loss/(i + 1)\n",
        "    probs = F.softmax(pred, 1)\n",
        "    label = torch.argmax(probs, dim=1)\n",
        "    correct += torch.sum(label == Y).item()\n",
        "    total += Y.shape[0]\n",
        "    acc = correct/total\n",
        "        \n",
        "    pbar.set_postfix(avg_loss='{:.4f}'.format(avg_loss), acc='{:.4f}'.format(acc))\n",
        "    pbar.update(Y.shape[0])\n",
        "  return avg_loss, acc"
      ],
      "execution_count": 46,
      "outputs": []
    },
    {
      "cell_type": "markdown",
      "metadata": {
        "id": "tqk-TZ6yBz3W"
      },
      "source": [
        "Ciclo de aprendizaje."
      ]
    },
    {
      "cell_type": "code",
      "metadata": {
        "id": "oXlnvuU4CMUG"
      },
      "source": [
        "import time\n",
        "EPOCHS = 50\n",
        "train_time = 0\n",
        "epoch_loss = []\n",
        "epoch_acc = []"
      ],
      "execution_count": 47,
      "outputs": []
    },
    {
      "cell_type": "code",
      "metadata": {
        "colab": {
          "base_uri": "https://localhost:8080/"
        },
        "id": "L0JvWkKsB3LE",
        "outputId": "64495957-1398-4d8c-f665-02111c2b7957"
      },
      "source": [
        "for epoch in range(EPOCHS):\n",
        "    start_time = time.time()\n",
        "    with tqdm(total = n_train, position=0) as pbar:\n",
        "        pbar.set_description(f'Epoch {epoch + 1}/'+str(EPOCHS)+' - training')\n",
        "        pbar.set_postfix(avg_loss='0.0', acc='0.0')\n",
        "        loss_train, acc_train = fit(model, train_dataloader, optimizer, criterion, pbar)\n",
        "        train_time +=  time.time() - start_time\n",
        "    \n",
        "    epoch_loss.append(loss_train)\n",
        "    epoch_acc.append(acc_train)\n",
        "\n",
        "print(\"\\n --- %s seconds ---\", train_time)"
      ],
      "execution_count": 48,
      "outputs": [
        {
          "output_type": "stream",
          "name": "stderr",
          "text": [
            "Epoch 1/50 - training: 100%|██████████| 4398/4398 [00:01<00:00, 4182.39it/s, acc=0.4313, avg_loss=1.4778]\n",
            "Epoch 2/50 - training: 100%|██████████| 4398/4398 [00:00<00:00, 5291.65it/s, acc=0.5448, avg_loss=1.1569]\n",
            "Epoch 3/50 - training: 100%|██████████| 4398/4398 [00:00<00:00, 5690.64it/s, acc=0.5603, avg_loss=1.1000]\n",
            "Epoch 4/50 - training: 100%|██████████| 4398/4398 [00:00<00:00, 5464.50it/s, acc=0.5628, avg_loss=1.0698]\n",
            "Epoch 5/50 - training: 100%|██████████| 4398/4398 [00:00<00:00, 5789.51it/s, acc=0.5696, avg_loss=1.0533]\n",
            "Epoch 6/50 - training: 100%|██████████| 4398/4398 [00:00<00:00, 5625.77it/s, acc=0.5634, avg_loss=1.0390]\n",
            "Epoch 7/50 - training: 100%|██████████| 4398/4398 [00:00<00:00, 5216.15it/s, acc=0.5714, avg_loss=1.0296]\n",
            "Epoch 8/50 - training: 100%|██████████| 4398/4398 [00:00<00:00, 5293.19it/s, acc=0.5807, avg_loss=1.0228]\n",
            "Epoch 9/50 - training: 100%|██████████| 4398/4398 [00:00<00:00, 5170.11it/s, acc=0.5769, avg_loss=1.0141]\n",
            "Epoch 10/50 - training: 100%|██████████| 4398/4398 [00:00<00:00, 5289.84it/s, acc=0.5814, avg_loss=1.0050]\n",
            "Epoch 11/50 - training: 100%|██████████| 4398/4398 [00:00<00:00, 5298.67it/s, acc=0.5846, avg_loss=0.9985]\n",
            "Epoch 12/50 - training: 100%|██████████| 4398/4398 [00:00<00:00, 5332.10it/s, acc=0.5866, avg_loss=0.9947]\n",
            "Epoch 13/50 - training: 100%|██████████| 4398/4398 [00:00<00:00, 5431.36it/s, acc=0.5857, avg_loss=0.9891]\n",
            "Epoch 14/50 - training: 100%|██████████| 4398/4398 [00:00<00:00, 5377.91it/s, acc=0.5846, avg_loss=0.9838]\n",
            "Epoch 15/50 - training: 100%|██████████| 4398/4398 [00:00<00:00, 5325.68it/s, acc=0.5887, avg_loss=0.9783]\n",
            "Epoch 16/50 - training: 100%|██████████| 4398/4398 [00:00<00:00, 5782.99it/s, acc=0.5884, avg_loss=0.9729]\n",
            "Epoch 17/50 - training: 100%|██████████| 4398/4398 [00:00<00:00, 5502.49it/s, acc=0.5789, avg_loss=0.9714]\n",
            "Epoch 18/50 - training: 100%|██████████| 4398/4398 [00:00<00:00, 5373.45it/s, acc=0.5866, avg_loss=0.9644]\n",
            "Epoch 19/50 - training: 100%|██████████| 4398/4398 [00:00<00:00, 5431.87it/s, acc=0.5937, avg_loss=0.9616]\n",
            "Epoch 20/50 - training: 100%|██████████| 4398/4398 [00:00<00:00, 5422.62it/s, acc=0.5923, avg_loss=0.9582]\n",
            "Epoch 21/50 - training: 100%|██████████| 4398/4398 [00:00<00:00, 5230.04it/s, acc=0.5910, avg_loss=0.9530]\n",
            "Epoch 22/50 - training: 100%|██████████| 4398/4398 [00:00<00:00, 5381.88it/s, acc=0.5935, avg_loss=0.9484]\n",
            "Epoch 23/50 - training: 100%|██████████| 4398/4398 [00:00<00:00, 5311.27it/s, acc=0.5946, avg_loss=0.9464]\n",
            "Epoch 24/50 - training: 100%|██████████| 4398/4398 [00:00<00:00, 5485.32it/s, acc=0.5991, avg_loss=0.9408]\n",
            "Epoch 25/50 - training: 100%|██████████| 4398/4398 [00:00<00:00, 5252.17it/s, acc=0.5966, avg_loss=0.9391]\n",
            "Epoch 26/50 - training: 100%|██████████| 4398/4398 [00:00<00:00, 5292.14it/s, acc=0.5973, avg_loss=0.9342]\n",
            "Epoch 27/50 - training: 100%|██████████| 4398/4398 [00:00<00:00, 5458.77it/s, acc=0.6016, avg_loss=0.9294]\n",
            "Epoch 28/50 - training: 100%|██████████| 4398/4398 [00:00<00:00, 5790.57it/s, acc=0.6014, avg_loss=0.9286]\n",
            "Epoch 29/50 - training: 100%|██████████| 4398/4398 [00:00<00:00, 5267.15it/s, acc=0.6021, avg_loss=0.9233]\n",
            "Epoch 30/50 - training: 100%|██████████| 4398/4398 [00:00<00:00, 5548.25it/s, acc=0.6075, avg_loss=0.9186]\n",
            "Epoch 31/50 - training: 100%|██████████| 4398/4398 [00:00<00:00, 5163.72it/s, acc=0.6003, avg_loss=0.9223]\n",
            "Epoch 32/50 - training: 100%|██████████| 4398/4398 [00:00<00:00, 5348.65it/s, acc=0.6066, avg_loss=0.9150]\n",
            "Epoch 33/50 - training: 100%|██████████| 4398/4398 [00:00<00:00, 5062.94it/s, acc=0.6105, avg_loss=0.9101]\n",
            "Epoch 34/50 - training: 100%|██████████| 4398/4398 [00:00<00:00, 5463.24it/s, acc=0.6130, avg_loss=0.9068]\n",
            "Epoch 35/50 - training: 100%|██████████| 4398/4398 [00:00<00:00, 5425.32it/s, acc=0.6132, avg_loss=0.9054]\n",
            "Epoch 36/50 - training: 100%|██████████| 4398/4398 [00:00<00:00, 5336.80it/s, acc=0.6151, avg_loss=0.9019]\n",
            "Epoch 37/50 - training: 100%|██████████| 4398/4398 [00:00<00:00, 5149.02it/s, acc=0.6101, avg_loss=0.8985]\n",
            "Epoch 38/50 - training: 100%|██████████| 4398/4398 [00:00<00:00, 5393.06it/s, acc=0.6191, avg_loss=0.8952]\n",
            "Epoch 39/50 - training: 100%|██████████| 4398/4398 [00:00<00:00, 5307.85it/s, acc=0.6132, avg_loss=0.8955]\n",
            "Epoch 40/50 - training: 100%|██████████| 4398/4398 [00:00<00:00, 5400.73it/s, acc=0.6162, avg_loss=0.8903]\n",
            "Epoch 41/50 - training: 100%|██████████| 4398/4398 [00:00<00:00, 5357.42it/s, acc=0.6191, avg_loss=0.8873]\n",
            "Epoch 42/50 - training: 100%|██████████| 4398/4398 [00:00<00:00, 5502.87it/s, acc=0.6262, avg_loss=0.8866]\n",
            "Epoch 43/50 - training: 100%|██████████| 4398/4398 [00:00<00:00, 5215.12it/s, acc=0.6212, avg_loss=0.8825]\n",
            "Epoch 44/50 - training: 100%|██████████| 4398/4398 [00:00<00:00, 5250.58it/s, acc=0.6232, avg_loss=0.8794]\n",
            "Epoch 45/50 - training: 100%|██████████| 4398/4398 [00:00<00:00, 5371.51it/s, acc=0.6207, avg_loss=0.8768]\n",
            "Epoch 46/50 - training: 100%|██████████| 4398/4398 [00:00<00:00, 5331.39it/s, acc=0.6248, avg_loss=0.8715]\n",
            "Epoch 47/50 - training: 100%|██████████| 4398/4398 [00:00<00:00, 5493.96it/s, acc=0.6276, avg_loss=0.8702]\n",
            "Epoch 48/50 - training: 100%|██████████| 4398/4398 [00:00<00:00, 5467.17it/s, acc=0.6307, avg_loss=0.8675]\n",
            "Epoch 49/50 - training: 100%|██████████| 4398/4398 [00:00<00:00, 5311.88it/s, acc=0.6294, avg_loss=0.8657]\n",
            "Epoch 50/50 - training: 100%|██████████| 4398/4398 [00:00<00:00, 5249.85it/s, acc=0.6248, avg_loss=0.8654]"
          ]
        },
        {
          "output_type": "stream",
          "name": "stdout",
          "text": [
            "\n",
            " --- %s minutes --- 41.41135621070862\n"
          ]
        },
        {
          "output_type": "stream",
          "name": "stderr",
          "text": [
            "\n"
          ]
        }
      ]
    },
    {
      "cell_type": "code",
      "metadata": {
        "colab": {
          "base_uri": "https://localhost:8080/",
          "height": 299
        },
        "id": "y5CK7XjAvFFK",
        "outputId": "fa9f87c6-72c8-4166-dbd7-5b7352ab933e"
      },
      "source": [
        "plt.plot(epoch_acc)\n",
        "plt.title('model accuracy')\n",
        "plt.ylabel('accuracy')\n",
        "plt.xlabel('epoch')\n",
        "plt.legend(['train'], loc='upper left')\n",
        "plt.show()"
      ],
      "execution_count": 49,
      "outputs": [
        {
          "output_type": "display_data",
          "data": {
            "image/png": "[encoded data removed]",
            "text/plain": [
              "<Figure size 432x288 with 1 Axes>"
            ]
          },
          "metadata": {
            "needs_background": "light"
          }
        }
      ]
    },
    {
      "cell_type": "code",
      "metadata": {
        "colab": {
          "base_uri": "https://localhost:8080/",
          "height": 299
        },
        "id": "BmICF8sIMH1-",
        "outputId": "84ae1cdb-9fbf-4a78-d1bb-6c23a57b41e4"
      },
      "source": [
        "plt.plot(epoch_loss)\n",
        "plt.title('model loss')\n",
        "plt.ylabel('loss')\n",
        "plt.xlabel('epoch')\n",
        "plt.legend(['train'], loc='upper left')\n",
        "plt.show()"
      ],
      "execution_count": 50,
      "outputs": [
        {
          "output_type": "display_data",
          "data": {
            "image/png": "[encoded data removed]",
            "text/plain": [
              "<Figure size 432x288 with 1 Axes>"
            ]
          },
          "metadata": {
            "needs_background": "light"
          }
        }
      ]
    },
    {
      "cell_type": "markdown",
      "metadata": {
        "id": "tdoQ5fu3u_qY"
      },
      "source": [
        "## Prueba del modelo"
      ]
    },
    {
      "cell_type": "code",
      "metadata": {
        "colab": {
          "base_uri": "https://localhost:8080/"
        },
        "id": "jlUBM4d3vlm7",
        "outputId": "e9ed4086-f2a2-44fb-d2cd-b1965acf647f"
      },
      "source": [
        "running_loss = 0.0\n",
        "correct = 0\n",
        "total = 0\n",
        "model.eval()\n",
        "for i, data in enumerate(test_dataloader, 0):\n",
        "    X, Y = data        \n",
        "    pred = model(X)\n",
        "    loss = criterion(pred, Y)\n",
        "    running_loss += loss.item()\n",
        "    avg_loss = running_loss/(i + 1)\n",
        "    probs = F.softmax(pred, 1)\n",
        "    label = torch.argmax(probs, dim=1)\n",
        "    correct += torch.sum(label == Y).item()\n",
        "    total += Y.shape[0]\n",
        "    acc = correct/total\n",
        "        \n",
        "print('accuracy: {}, loss: {}'.format(acc, avg_loss))"
      ],
      "execution_count": 51,
      "outputs": [
        {
          "output_type": "stream",
          "name": "stdout",
          "text": [
            "accuracy: 0.54, loss: 1.0798645595014096\n"
          ]
        }
      ]
    }
  ]
}